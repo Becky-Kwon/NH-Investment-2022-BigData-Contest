{
 "cells": [
  {
   "cell_type": "markdown",
   "metadata": {
    "id": "zJsNZpG6grTC"
   },
   "source": [
    "# nh 투자증권 베이스라인"
   ]
  },
  {
   "cell_type": "markdown",
   "metadata": {
    "id": "e2XEmfKhgtsz"
   },
   "source": [
    "- 참가자분들의 이해를 돕고자 수행한 베이스라인입니다.\n",
    "\n",
    "- 해당 베이스라인에서 수행하는 방식이 정답은 아닙니다."
   ]
  },
  {
   "cell_type": "markdown",
   "metadata": {
    "id": "cysTwErUg9SN"
   },
   "source": [
    "&nbsp;"
   ]
  },
  {
   "cell_type": "markdown",
   "metadata": {
    "id": "809JE4DXg-V-"
   },
   "source": [
    "## 사용할 패키지 불러오기"
   ]
  },
  {
   "cell_type": "code",
   "execution_count": 1,
   "metadata": {
    "colab": {
     "base_uri": "https://localhost:8080/"
    },
    "executionInfo": {
     "elapsed": 6753,
     "status": "ok",
     "timestamp": 1663305506320,
     "user": {
      "displayName": "최재혁",
      "userId": "03991607876633756912"
     },
     "user_tz": -540
    },
    "id": "H5Mp3kI9hbvt",
    "outputId": "3d7c55c5-2a21-4758-d934-5b015b1467e1"
   },
   "outputs": [
    {
     "name": "stdout",
     "output_type": "stream",
     "text": [
      "Collecting pandasql\n",
      "  Downloading pandasql-0.7.3.tar.gz (26 kB)\n",
      "  Preparing metadata (setup.py): started\n",
      "  Preparing metadata (setup.py): finished with status 'done'\n",
      "Requirement already satisfied: numpy in c:\\users\\becky\\anaconda3\\lib\\site-packages (from pandasql) (1.19.5)\n",
      "Requirement already satisfied: pandas in c:\\users\\becky\\anaconda3\\lib\\site-packages (from pandasql) (1.2.3)\n",
      "Requirement already satisfied: sqlalchemy in c:\\users\\becky\\anaconda3\\lib\\site-packages (from pandasql) (1.3.18)\n",
      "Requirement already satisfied: python-dateutil>=2.7.3 in c:\\users\\becky\\anaconda3\\lib\\site-packages (from pandas->pandasql) (2.8.1)\n",
      "Requirement already satisfied: pytz>=2017.3 in c:\\users\\becky\\anaconda3\\lib\\site-packages (from pandas->pandasql) (2020.1)\n",
      "Requirement already satisfied: six>=1.5 in c:\\users\\becky\\anaconda3\\lib\\site-packages (from python-dateutil>=2.7.3->pandas->pandasql) (1.15.0)\n",
      "Building wheels for collected packages: pandasql\n",
      "  Building wheel for pandasql (setup.py): started\n",
      "  Building wheel for pandasql (setup.py): finished with status 'done'\n",
      "  Created wheel for pandasql: filename=pandasql-0.7.3-py3-none-any.whl size=26818 sha256=80263706045fa039c0157fb1095159b7ce95facb129d8356fbb8e7070f26e78b\n",
      "  Stored in directory: c:\\users\\becky\\appdata\\local\\pip\\cache\\wheels\\ed\\8f\\46\\a383923333728744f01ba24adbd8e364f2cb9470a8b8e5b9ff\n",
      "Successfully built pandasql\n",
      "Installing collected packages: pandasql\n",
      "Successfully installed pandasql-0.7.3\n",
      "Note: you may need to restart the kernel to use updated packages.\n"
     ]
    },
    {
     "name": "stderr",
     "output_type": "stream",
     "text": [
      "WARNING: Ignoring invalid distribution -umpy (c:\\users\\becky\\anaconda3\\lib\\site-packages)\n",
      "WARNING: Ignoring invalid distribution -pype1 (c:\\users\\becky\\anaconda3\\lib\\site-packages)\n",
      "WARNING: Ignoring invalid distribution -umpy (c:\\users\\becky\\anaconda3\\lib\\site-packages)\n",
      "WARNING: Ignoring invalid distribution -pype1 (c:\\users\\becky\\anaconda3\\lib\\site-packages)\n",
      "WARNING: Ignoring invalid distribution -umpy (c:\\users\\becky\\anaconda3\\lib\\site-packages)\n",
      "WARNING: Ignoring invalid distribution -pype1 (c:\\users\\becky\\anaconda3\\lib\\site-packages)\n",
      "WARNING: Ignoring invalid distribution -umpy (c:\\users\\becky\\anaconda3\\lib\\site-packages)\n",
      "WARNING: Ignoring invalid distribution -pype1 (c:\\users\\becky\\anaconda3\\lib\\site-packages)\n",
      "WARNING: Ignoring invalid distribution -umpy (c:\\users\\becky\\anaconda3\\lib\\site-packages)\n",
      "WARNING: Ignoring invalid distribution -pype1 (c:\\users\\becky\\anaconda3\\lib\\site-packages)\n",
      "WARNING: Ignoring invalid distribution -umpy (c:\\users\\becky\\anaconda3\\lib\\site-packages)\n",
      "WARNING: Ignoring invalid distribution -pype1 (c:\\users\\becky\\anaconda3\\lib\\site-packages)\n",
      "WARNING: Ignoring invalid distribution -umpy (c:\\users\\becky\\anaconda3\\lib\\site-packages)\n",
      "WARNING: Ignoring invalid distribution -pype1 (c:\\users\\becky\\anaconda3\\lib\\site-packages)\n",
      "WARNING: You are using pip version 21.3.1; however, version 22.2.2 is available.\n",
      "You should consider upgrading via the 'C:\\Users\\Becky\\anaconda3\\python.exe -m pip install --upgrade pip' command.\n"
     ]
    }
   ],
   "source": [
    "pip install pandasql"
   ]
  },
  {
   "cell_type": "code",
   "execution_count": 2,
   "metadata": {
    "colab": {
     "base_uri": "https://localhost:8080/"
    },
    "executionInfo": {
     "elapsed": 3670,
     "status": "ok",
     "timestamp": 1663305509986,
     "user": {
      "displayName": "최재혁",
      "userId": "03991607876633756912"
     },
     "user_tz": -540
    },
    "id": "OZBvZT0vhjbs",
    "outputId": "3aa982c7-6181-4fc7-df3d-686b20fe0430"
   },
   "outputs": [
    {
     "name": "stdout",
     "output_type": "stream",
     "text": [
      "Collecting yellowbrick\n",
      "  Downloading yellowbrick-1.5-py3-none-any.whl (282 kB)\n",
      "Requirement already satisfied: cycler>=0.10.0 in c:\\users\\becky\\anaconda3\\lib\\site-packages (from yellowbrick) (0.10.0)\n",
      "Requirement already satisfied: numpy>=1.16.0 in c:\\users\\becky\\anaconda3\\lib\\site-packages (from yellowbrick) (1.19.5)\n",
      "Requirement already satisfied: matplotlib!=3.0.0,>=2.0.2 in c:\\users\\becky\\anaconda3\\lib\\site-packages (from yellowbrick) (3.2.2)\n",
      "Collecting scikit-learn>=1.0.0\n",
      "  Downloading scikit_learn-1.1.2-cp38-cp38-win_amd64.whl (7.3 MB)\n",
      "Requirement already satisfied: scipy>=1.0.0 in c:\\users\\becky\\anaconda3\\lib\\site-packages (from yellowbrick) (1.5.0)\n",
      "Requirement already satisfied: six in c:\\users\\becky\\anaconda3\\lib\\site-packages (from cycler>=0.10.0->yellowbrick) (1.15.0)\n",
      "Requirement already satisfied: pyparsing!=2.0.4,!=2.1.2,!=2.1.6,>=2.0.1 in c:\\users\\becky\\anaconda3\\lib\\site-packages (from matplotlib!=3.0.0,>=2.0.2->yellowbrick) (2.4.7)\n",
      "Requirement already satisfied: python-dateutil>=2.1 in c:\\users\\becky\\anaconda3\\lib\\site-packages (from matplotlib!=3.0.0,>=2.0.2->yellowbrick) (2.8.1)\n",
      "Requirement already satisfied: kiwisolver>=1.0.1 in c:\\users\\becky\\anaconda3\\lib\\site-packages (from matplotlib!=3.0.0,>=2.0.2->yellowbrick) (1.2.0)\n",
      "Requirement already satisfied: threadpoolctl>=2.0.0 in c:\\users\\becky\\anaconda3\\lib\\site-packages (from scikit-learn>=1.0.0->yellowbrick) (2.1.0)\n",
      "Collecting joblib>=1.0.0\n",
      "  Downloading joblib-1.2.0-py3-none-any.whl (297 kB)\n",
      "Installing collected packages: joblib, scikit-learn, yellowbrick\n",
      "  Attempting uninstall: joblib\n",
      "    Found existing installation: joblib 0.16.0\n",
      "    Uninstalling joblib-0.16.0:\n",
      "      Successfully uninstalled joblib-0.16.0\n",
      "  Attempting uninstall: scikit-learn\n",
      "    Found existing installation: scikit-learn 0.23.1\n",
      "    Uninstalling scikit-learn-0.23.1:\n",
      "      Successfully uninstalled scikit-learn-0.23.1\n",
      "Successfully installed joblib-1.2.0 scikit-learn-1.1.2 yellowbrick-1.5\n",
      "Note: you may need to restart the kernel to use updated packages.\n"
     ]
    },
    {
     "name": "stderr",
     "output_type": "stream",
     "text": [
      "WARNING: Ignoring invalid distribution -umpy (c:\\users\\becky\\anaconda3\\lib\\site-packages)\n",
      "WARNING: Ignoring invalid distribution -pype1 (c:\\users\\becky\\anaconda3\\lib\\site-packages)\n",
      "WARNING: Ignoring invalid distribution -umpy (c:\\users\\becky\\anaconda3\\lib\\site-packages)\n",
      "WARNING: Ignoring invalid distribution -pype1 (c:\\users\\becky\\anaconda3\\lib\\site-packages)\n",
      "WARNING: Ignoring invalid distribution -umpy (c:\\users\\becky\\anaconda3\\lib\\site-packages)\n",
      "WARNING: Ignoring invalid distribution -pype1 (c:\\users\\becky\\anaconda3\\lib\\site-packages)\n",
      "    WARNING: Ignoring invalid distribution -umpy (c:\\users\\becky\\anaconda3\\lib\\site-packages)\n",
      "    WARNING: Ignoring invalid distribution -pype1 (c:\\users\\becky\\anaconda3\\lib\\site-packages)\n",
      "    WARNING: Ignoring invalid distribution -umpy (c:\\users\\becky\\anaconda3\\lib\\site-packages)\n",
      "    WARNING: Ignoring invalid distribution -pype1 (c:\\users\\becky\\anaconda3\\lib\\site-packages)\n",
      "WARNING: Ignoring invalid distribution -umpy (c:\\users\\becky\\anaconda3\\lib\\site-packages)\n",
      "WARNING: Ignoring invalid distribution -pype1 (c:\\users\\becky\\anaconda3\\lib\\site-packages)\n",
      "WARNING: Ignoring invalid distribution -umpy (c:\\users\\becky\\anaconda3\\lib\\site-packages)\n",
      "WARNING: Ignoring invalid distribution -pype1 (c:\\users\\becky\\anaconda3\\lib\\site-packages)\n",
      "WARNING: Ignoring invalid distribution -umpy (c:\\users\\becky\\anaconda3\\lib\\site-packages)\n",
      "WARNING: Ignoring invalid distribution -pype1 (c:\\users\\becky\\anaconda3\\lib\\site-packages)\n",
      "ERROR: pip's dependency resolver does not currently take into account all the packages that are installed. This behaviour is the source of the following dependency conflicts.\n",
      "pyldavis 3.3.1 requires numpy>=1.20.0, but you have numpy 1.19.5 which is incompatible.\n",
      "WARNING: Ignoring invalid distribution -umpy (c:\\users\\becky\\anaconda3\\lib\\site-packages)\n",
      "WARNING: Ignoring invalid distribution -pype1 (c:\\users\\becky\\anaconda3\\lib\\site-packages)\n",
      "WARNING: Ignoring invalid distribution -umpy (c:\\users\\becky\\anaconda3\\lib\\site-packages)\n",
      "WARNING: Ignoring invalid distribution -pype1 (c:\\users\\becky\\anaconda3\\lib\\site-packages)\n",
      "WARNING: Ignoring invalid distribution -umpy (c:\\users\\becky\\anaconda3\\lib\\site-packages)\n",
      "WARNING: Ignoring invalid distribution -pype1 (c:\\users\\becky\\anaconda3\\lib\\site-packages)\n",
      "WARNING: You are using pip version 21.3.1; however, version 22.2.2 is available.\n",
      "You should consider upgrading via the 'C:\\Users\\Becky\\anaconda3\\python.exe -m pip install --upgrade pip' command.\n"
     ]
    }
   ],
   "source": [
    "pip install yellowbrick"
   ]
  },
  {
   "cell_type": "markdown",
   "metadata": {
    "id": "AIxiWYsbimYq"
   },
   "source": [
    "- 한글 폰트 다운 (다운 완료시 런타임 재시작 수행해주세요!)"
   ]
  },
  {
   "cell_type": "code",
   "execution_count": null,
   "metadata": {
    "colab": {
     "base_uri": "https://localhost:8080/"
    },
    "executionInfo": {
     "elapsed": 9776,
     "status": "ok",
     "timestamp": 1663305540733,
     "user": {
      "displayName": "최재혁",
      "userId": "03991607876633756912"
     },
     "user_tz": -540
    },
    "id": "768uv1FQimAI",
    "outputId": "f75297e3-a571-4d5f-c7e4-94faf4eac95c"
   },
   "outputs": [
    {
     "name": "stdout",
     "output_type": "stream",
     "text": [
      "Reading package lists... Done\n",
      "Building dependency tree       \n",
      "Reading state information... Done\n",
      "The following package was automatically installed and is no longer required:\n",
      "  libnvidia-common-460\n",
      "Use 'sudo apt autoremove' to remove it.\n",
      "The following NEW packages will be installed:\n",
      "  fonts-nanum\n",
      "0 upgraded, 1 newly installed, 0 to remove and 20 not upgraded.\n",
      "Need to get 9,604 kB of archives.\n",
      "After this operation, 29.5 MB of additional disk space will be used.\n",
      "Get:1 http://archive.ubuntu.com/ubuntu bionic/universe amd64 fonts-nanum all 20170925-1 [9,604 kB]\n",
      "Fetched 9,604 kB in 1s (15.6 MB/s)\n",
      "debconf: unable to initialize frontend: Dialog\n",
      "debconf: (No usable dialog-like program is installed, so the dialog based frontend cannot be used. at /usr/share/perl5/Debconf/FrontEnd/Dialog.pm line 76, <> line 1.)\n",
      "debconf: falling back to frontend: Readline\n",
      "debconf: unable to initialize frontend: Readline\n",
      "debconf: (This frontend requires a controlling tty.)\n",
      "debconf: falling back to frontend: Teletype\n",
      "dpkg-preconfigure: unable to re-open stdin: \n",
      "Selecting previously unselected package fonts-nanum.\n",
      "(Reading database ... 155569 files and directories currently installed.)\n",
      "Preparing to unpack .../fonts-nanum_20170925-1_all.deb ...\n",
      "Unpacking fonts-nanum (20170925-1) ...\n",
      "Setting up fonts-nanum (20170925-1) ...\n",
      "Processing triggers for fontconfig (2.12.6-0ubuntu2) ...\n",
      "/usr/share/fonts: caching, new cache contents: 0 fonts, 1 dirs\n",
      "/usr/share/fonts/truetype: caching, new cache contents: 0 fonts, 3 dirs\n",
      "/usr/share/fonts/truetype/humor-sans: caching, new cache contents: 1 fonts, 0 dirs\n",
      "/usr/share/fonts/truetype/liberation: caching, new cache contents: 16 fonts, 0 dirs\n",
      "/usr/share/fonts/truetype/nanum: caching, new cache contents: 10 fonts, 0 dirs\n",
      "/usr/local/share/fonts: caching, new cache contents: 0 fonts, 0 dirs\n",
      "/root/.local/share/fonts: skipping, no such directory\n",
      "/root/.fonts: skipping, no such directory\n",
      "/var/cache/fontconfig: cleaning cache directory\n",
      "/root/.cache/fontconfig: not cleaning non-existent cache directory\n",
      "/root/.fontconfig: not cleaning non-existent cache directory\n",
      "fc-cache: succeeded\n"
     ]
    }
   ],
   "source": [
    "!sudo apt-get install -y fonts-nanum\n",
    "!sudo fc-cache -fv\n",
    "!rm ~/.cache/matplotlib -rf"
   ]
  },
  {
   "cell_type": "code",
   "execution_count": 1,
   "metadata": {
    "id": "nSwAr5tjgqya"
   },
   "outputs": [],
   "source": [
    "import matplotlib.pyplot as plt\n",
    "import pandas as pd\n",
    "from pandasql import sqldf\n",
    "import seaborn as sns\n",
    "from tqdm import tqdm\n",
    "from sklearn.cluster import KMeans\n",
    "from matplotlib import rc\n",
    "import numpy as np\n",
    "from yellowbrick.cluster import SilhouetteVisualizer\n",
    "import math\n",
    "import zipfile\n",
    "import warnings\n",
    "warnings.filterwarnings('ignore')\n",
    "rc('font', family='NanumBarunGothic')"
   ]
  },
  {
   "cell_type": "markdown",
   "metadata": {
    "id": "X2U3cKpuhrXV"
   },
   "source": [
    "&nbsp;"
   ]
  },
  {
   "cell_type": "markdown",
   "metadata": {
    "id": "MG7TCWE8hsQ-"
   },
   "source": [
    "## 데이터 다운로드 & 불러오기"
   ]
  },
  {
   "cell_type": "code",
   "execution_count": null,
   "metadata": {
    "colab": {
     "base_uri": "https://localhost:8080/"
    },
    "executionInfo": {
     "elapsed": 20921,
     "status": "ok",
     "timestamp": 1663305591779,
     "user": {
      "displayName": "최재혁",
      "userId": "03991607876633756912"
     },
     "user_tz": -540
    },
    "id": "rqs20MwxtezK",
    "outputId": "de1718d8-ee87-4558-a852-9415967c0fe2"
   },
   "outputs": [
    {
     "name": "stdout",
     "output_type": "stream",
     "text": [
      "/usr/local/lib/python3.7/dist-packages/gdown/cli.py:131: FutureWarning: Option `--id` was deprecated in version 4.3.1 and will be removed in 5.0. You don't need to pass it anymore to use a file ID.\n",
      "  category=FutureWarning,\n",
      "Downloading...\n",
      "From: https://drive.google.com/uc?id=1Qwz-dFgLNcC9zEXY3mqHoLVr73qOgTTv\n",
      "To: /content/경진대회 예선 데이터.zip\n",
      "100% 12.5M/12.5M [00:00<00:00, 41.3MB/s]\n"
     ]
    }
   ],
   "source": [
    "!gdown --id 1Qwz-dFgLNcC9zEXY3mqHoLVr73qOgTTv\n",
    "zf = zipfile.ZipFile(\"경진대회 예선 데이터.zip\")\n",
    "zf.setpassword(b\"nh1212!\")\n",
    "zf.extractall()"
   ]
  },
  {
   "cell_type": "code",
   "execution_count": 2,
   "metadata": {
    "id": "CeYsJilogcWT"
   },
   "outputs": [],
   "source": [
    "info_data = pd.read_csv('data/cus_ifo.csv')\n",
    "kr_data = pd.read_csv('data/kr_stk_orr.csv')\n",
    "oss_data = pd.read_csv('data/oss_stk_orr.csv')\n",
    "cus_tot_data = pd.read_csv('data/cus_tot_aet_ifo.csv')"
   ]
  },
  {
   "cell_type": "code",
   "execution_count": null,
   "metadata": {},
   "outputs": [],
   "source": [
    "len(list(kr_data['iem_cd'].unique()))"
   ]
  },
  {
   "cell_type": "code",
   "execution_count": 5,
   "metadata": {},
   "outputs": [
    {
     "data": {
      "text/html": [
       "<div>\n",
       "<style scoped>\n",
       "    .dataframe tbody tr th:only-of-type {\n",
       "        vertical-align: middle;\n",
       "    }\n",
       "\n",
       "    .dataframe tbody tr th {\n",
       "        vertical-align: top;\n",
       "    }\n",
       "\n",
       "    .dataframe thead th {\n",
       "        text-align: right;\n",
       "    }\n",
       "</style>\n",
       "<table border=\"1\" class=\"dataframe\">\n",
       "  <thead>\n",
       "    <tr style=\"text-align: right;\">\n",
       "      <th></th>\n",
       "      <th>act_no</th>\n",
       "      <th>orr_dt</th>\n",
       "      <th>orr_ord</th>\n",
       "      <th>orr_rtn_hur</th>\n",
       "      <th>lst_cns_hur</th>\n",
       "      <th>iem_cd</th>\n",
       "      <th>sby_dit_cd</th>\n",
       "      <th>cns_qty</th>\n",
       "      <th>orr_pr</th>\n",
       "      <th>orr_mdi_dit_cd</th>\n",
       "    </tr>\n",
       "  </thead>\n",
       "  <tbody>\n",
       "    <tr>\n",
       "      <th>0</th>\n",
       "      <td>baee84002daf5d4428067edb7507c83d1411a1bbe013af...</td>\n",
       "      <td>20220427</td>\n",
       "      <td>1</td>\n",
       "      <td>14</td>\n",
       "      <td>14</td>\n",
       "      <td>A006800</td>\n",
       "      <td>2</td>\n",
       "      <td>85</td>\n",
       "      <td>7890</td>\n",
       "      <td>3</td>\n",
       "    </tr>\n",
       "    <tr>\n",
       "      <th>1</th>\n",
       "      <td>baee84002daf5d4428067edb7507c83d1411a1bbe013af...</td>\n",
       "      <td>20220304</td>\n",
       "      <td>1</td>\n",
       "      <td>12</td>\n",
       "      <td>12</td>\n",
       "      <td>A271940</td>\n",
       "      <td>2</td>\n",
       "      <td>10</td>\n",
       "      <td>39600</td>\n",
       "      <td>3</td>\n",
       "    </tr>\n",
       "    <tr>\n",
       "      <th>2</th>\n",
       "      <td>baee84002daf5d4428067edb7507c83d1411a1bbe013af...</td>\n",
       "      <td>20220207</td>\n",
       "      <td>1</td>\n",
       "      <td>10</td>\n",
       "      <td>10</td>\n",
       "      <td>A100790</td>\n",
       "      <td>1</td>\n",
       "      <td>100</td>\n",
       "      <td>9100</td>\n",
       "      <td>3</td>\n",
       "    </tr>\n",
       "    <tr>\n",
       "      <th>3</th>\n",
       "      <td>4d95fb22c2608cd427867182a75c5db9ddfafe3476d56c...</td>\n",
       "      <td>20220511</td>\n",
       "      <td>2</td>\n",
       "      <td>10</td>\n",
       "      <td>10</td>\n",
       "      <td>A160980</td>\n",
       "      <td>2</td>\n",
       "      <td>1</td>\n",
       "      <td>17200</td>\n",
       "      <td>3</td>\n",
       "    </tr>\n",
       "    <tr>\n",
       "      <th>4</th>\n",
       "      <td>4d95fb22c2608cd427867182a75c5db9ddfafe3476d56c...</td>\n",
       "      <td>20220511</td>\n",
       "      <td>1</td>\n",
       "      <td>10</td>\n",
       "      <td>10</td>\n",
       "      <td>A160980</td>\n",
       "      <td>2</td>\n",
       "      <td>1</td>\n",
       "      <td>17250</td>\n",
       "      <td>3</td>\n",
       "    </tr>\n",
       "    <tr>\n",
       "      <th>...</th>\n",
       "      <td>...</td>\n",
       "      <td>...</td>\n",
       "      <td>...</td>\n",
       "      <td>...</td>\n",
       "      <td>...</td>\n",
       "      <td>...</td>\n",
       "      <td>...</td>\n",
       "      <td>...</td>\n",
       "      <td>...</td>\n",
       "      <td>...</td>\n",
       "    </tr>\n",
       "    <tr>\n",
       "      <th>503581</th>\n",
       "      <td>720d6550786a3470dcbf15cce60007803e7bc537a7acb0...</td>\n",
       "      <td>20220613</td>\n",
       "      <td>1</td>\n",
       "      <td>11</td>\n",
       "      <td>12</td>\n",
       "      <td>A106190</td>\n",
       "      <td>2</td>\n",
       "      <td>71</td>\n",
       "      <td>10250</td>\n",
       "      <td>3</td>\n",
       "    </tr>\n",
       "    <tr>\n",
       "      <th>503582</th>\n",
       "      <td>81fa8b64db4c2394a4272e0ef606d9d6a03e00deb59067...</td>\n",
       "      <td>20220617</td>\n",
       "      <td>1</td>\n",
       "      <td>9</td>\n",
       "      <td>9</td>\n",
       "      <td>A382900</td>\n",
       "      <td>1</td>\n",
       "      <td>2</td>\n",
       "      <td>43400</td>\n",
       "      <td>3</td>\n",
       "    </tr>\n",
       "    <tr>\n",
       "      <th>503583</th>\n",
       "      <td>81fa8b64db4c2394a4272e0ef606d9d6a03e00deb59067...</td>\n",
       "      <td>20220303</td>\n",
       "      <td>1</td>\n",
       "      <td>9</td>\n",
       "      <td>9</td>\n",
       "      <td>A146320</td>\n",
       "      <td>1</td>\n",
       "      <td>1</td>\n",
       "      <td>28400</td>\n",
       "      <td>3</td>\n",
       "    </tr>\n",
       "    <tr>\n",
       "      <th>503584</th>\n",
       "      <td>2ed7ab643ba95996e357df240fb8da3c333796b11dc116...</td>\n",
       "      <td>20220303</td>\n",
       "      <td>1</td>\n",
       "      <td>9</td>\n",
       "      <td>9</td>\n",
       "      <td>A146320</td>\n",
       "      <td>1</td>\n",
       "      <td>1</td>\n",
       "      <td>28600</td>\n",
       "      <td>3</td>\n",
       "    </tr>\n",
       "    <tr>\n",
       "      <th>503585</th>\n",
       "      <td>7a9f35e369e612b4802b2176ae94334bfe1ec3e141f360...</td>\n",
       "      <td>20220415</td>\n",
       "      <td>1</td>\n",
       "      <td>10</td>\n",
       "      <td>10</td>\n",
       "      <td>A089860</td>\n",
       "      <td>1</td>\n",
       "      <td>5</td>\n",
       "      <td>46200</td>\n",
       "      <td>3</td>\n",
       "    </tr>\n",
       "  </tbody>\n",
       "</table>\n",
       "<p>503586 rows × 10 columns</p>\n",
       "</div>"
      ],
      "text/plain": [
       "                                                   act_no    orr_dt  orr_ord  \\\n",
       "0       baee84002daf5d4428067edb7507c83d1411a1bbe013af...  20220427        1   \n",
       "1       baee84002daf5d4428067edb7507c83d1411a1bbe013af...  20220304        1   \n",
       "2       baee84002daf5d4428067edb7507c83d1411a1bbe013af...  20220207        1   \n",
       "3       4d95fb22c2608cd427867182a75c5db9ddfafe3476d56c...  20220511        2   \n",
       "4       4d95fb22c2608cd427867182a75c5db9ddfafe3476d56c...  20220511        1   \n",
       "...                                                   ...       ...      ...   \n",
       "503581  720d6550786a3470dcbf15cce60007803e7bc537a7acb0...  20220613        1   \n",
       "503582  81fa8b64db4c2394a4272e0ef606d9d6a03e00deb59067...  20220617        1   \n",
       "503583  81fa8b64db4c2394a4272e0ef606d9d6a03e00deb59067...  20220303        1   \n",
       "503584  2ed7ab643ba95996e357df240fb8da3c333796b11dc116...  20220303        1   \n",
       "503585  7a9f35e369e612b4802b2176ae94334bfe1ec3e141f360...  20220415        1   \n",
       "\n",
       "        orr_rtn_hur  lst_cns_hur        iem_cd  sby_dit_cd  cns_qty  orr_pr  \\\n",
       "0                14           14  A006800                2       85    7890   \n",
       "1                12           12  A271940                2       10   39600   \n",
       "2                10           10  A100790                1      100    9100   \n",
       "3                10           10  A160980                2        1   17200   \n",
       "4                10           10  A160980                2        1   17250   \n",
       "...             ...          ...           ...         ...      ...     ...   \n",
       "503581           11           12  A106190                2       71   10250   \n",
       "503582            9            9  A382900                1        2   43400   \n",
       "503583            9            9  A146320                1        1   28400   \n",
       "503584            9            9  A146320                1        1   28600   \n",
       "503585           10           10  A089860                1        5   46200   \n",
       "\n",
       "        orr_mdi_dit_cd  \n",
       "0                    3  \n",
       "1                    3  \n",
       "2                    3  \n",
       "3                    3  \n",
       "4                    3  \n",
       "...                ...  \n",
       "503581               3  \n",
       "503582               3  \n",
       "503583               3  \n",
       "503584               3  \n",
       "503585               3  \n",
       "\n",
       "[503586 rows x 10 columns]"
      ]
     },
     "execution_count": 5,
     "metadata": {},
     "output_type": "execute_result"
    }
   ],
   "source": [
    "kr_data "
   ]
  },
  {
   "cell_type": "code",
   "execution_count": null,
   "metadata": {},
   "outputs": [],
   "source": [
    "kr_data['종목코드'] = kr_data['iem_cd'].apply(lambda x : x[1:].replace(\" \", \"\"))"
   ]
  },
  {
   "cell_type": "code",
   "execution_count": null,
   "metadata": {},
   "outputs": [],
   "source": [
    "print(list(kr_data['iem_cd'].unique()))"
   ]
  },
  {
   "cell_type": "code",
   "execution_count": null,
   "metadata": {},
   "outputs": [],
   "source": [
    "print(list(kr_data['종목코드'].unique()))"
   ]
  },
  {
   "cell_type": "code",
   "execution_count": null,
   "metadata": {},
   "outputs": [],
   "source": [
    "krx = pd.read_csv('df_krx.csv')"
   ]
  },
  {
   "cell_type": "code",
   "execution_count": 37,
   "metadata": {},
   "outputs": [
    {
     "data": {
      "text/html": [
       "<div>\n",
       "<style scoped>\n",
       "    .dataframe tbody tr th:only-of-type {\n",
       "        vertical-align: middle;\n",
       "    }\n",
       "\n",
       "    .dataframe tbody tr th {\n",
       "        vertical-align: top;\n",
       "    }\n",
       "\n",
       "    .dataframe thead th {\n",
       "        text-align: right;\n",
       "    }\n",
       "</style>\n",
       "<table border=\"1\" class=\"dataframe\">\n",
       "  <thead>\n",
       "    <tr style=\"text-align: right;\">\n",
       "      <th></th>\n",
       "      <th>Unnamed: 0</th>\n",
       "      <th>Symbol</th>\n",
       "      <th>Market</th>\n",
       "      <th>Name</th>\n",
       "      <th>Sector</th>\n",
       "      <th>Industry</th>\n",
       "      <th>ListingDate</th>\n",
       "      <th>SettleMonth</th>\n",
       "      <th>Representative</th>\n",
       "      <th>HomePage</th>\n",
       "      <th>Region</th>\n",
       "    </tr>\n",
       "  </thead>\n",
       "  <tbody>\n",
       "    <tr>\n",
       "      <th>0</th>\n",
       "      <td>0</td>\n",
       "      <td>060310</td>\n",
       "      <td>KOSDAQ</td>\n",
       "      <td>3S</td>\n",
       "      <td>전자부품 제조업</td>\n",
       "      <td>반도체 웨이퍼 캐리어</td>\n",
       "      <td>2002-04-23</td>\n",
       "      <td>03월</td>\n",
       "      <td>김세완</td>\n",
       "      <td>http://www.3sref.com</td>\n",
       "      <td>서울특별시</td>\n",
       "    </tr>\n",
       "    <tr>\n",
       "      <th>1</th>\n",
       "      <td>1</td>\n",
       "      <td>095570</td>\n",
       "      <td>KOSPI</td>\n",
       "      <td>AJ네트웍스</td>\n",
       "      <td>산업용 기계 및 장비 임대업</td>\n",
       "      <td>렌탈(파렛트, OA장비, 건설장비)</td>\n",
       "      <td>2015-08-21</td>\n",
       "      <td>12월</td>\n",
       "      <td>박대현, 손삼달</td>\n",
       "      <td>http://www.ajnet.co.kr</td>\n",
       "      <td>서울특별시</td>\n",
       "    </tr>\n",
       "    <tr>\n",
       "      <th>2</th>\n",
       "      <td>2</td>\n",
       "      <td>006840</td>\n",
       "      <td>KOSPI</td>\n",
       "      <td>AK홀딩스</td>\n",
       "      <td>기타 금융업</td>\n",
       "      <td>지주사업</td>\n",
       "      <td>1999-08-11</td>\n",
       "      <td>12월</td>\n",
       "      <td>채형석, 이석주(각자 대표이사)</td>\n",
       "      <td>http://www.aekyunggroup.co.kr</td>\n",
       "      <td>서울특별시</td>\n",
       "    </tr>\n",
       "    <tr>\n",
       "      <th>3</th>\n",
       "      <td>3</td>\n",
       "      <td>054620</td>\n",
       "      <td>KOSDAQ</td>\n",
       "      <td>APS홀딩스</td>\n",
       "      <td>기타 금융업</td>\n",
       "      <td>인터넷 트래픽 솔루션</td>\n",
       "      <td>2001-12-04</td>\n",
       "      <td>12월</td>\n",
       "      <td>정기로</td>\n",
       "      <td>http://www.apsholdings.co.kr</td>\n",
       "      <td>경기도</td>\n",
       "    </tr>\n",
       "    <tr>\n",
       "      <th>4</th>\n",
       "      <td>4</td>\n",
       "      <td>265520</td>\n",
       "      <td>KOSDAQ</td>\n",
       "      <td>AP시스템</td>\n",
       "      <td>특수 목적용 기계 제조업</td>\n",
       "      <td>디스플레이 제조 장비</td>\n",
       "      <td>2017-04-07</td>\n",
       "      <td>12월</td>\n",
       "      <td>김영주</td>\n",
       "      <td>http://www.apsystems.co.kr</td>\n",
       "      <td>경기도</td>\n",
       "    </tr>\n",
       "    <tr>\n",
       "      <th>...</th>\n",
       "      <td>...</td>\n",
       "      <td>...</td>\n",
       "      <td>...</td>\n",
       "      <td>...</td>\n",
       "      <td>...</td>\n",
       "      <td>...</td>\n",
       "      <td>...</td>\n",
       "      <td>...</td>\n",
       "      <td>...</td>\n",
       "      <td>...</td>\n",
       "      <td>...</td>\n",
       "    </tr>\n",
       "    <tr>\n",
       "      <th>7885</th>\n",
       "      <td>7885</td>\n",
       "      <td>435550</td>\n",
       "      <td>KOSPI</td>\n",
       "      <td>히어로즈 TDF2050액티브</td>\n",
       "      <td>NaN</td>\n",
       "      <td>NaN</td>\n",
       "      <td>NaN</td>\n",
       "      <td>NaN</td>\n",
       "      <td>NaN</td>\n",
       "      <td>NaN</td>\n",
       "      <td>NaN</td>\n",
       "    </tr>\n",
       "    <tr>\n",
       "      <th>7886</th>\n",
       "      <td>7886</td>\n",
       "      <td>437550</td>\n",
       "      <td>KOSPI</td>\n",
       "      <td>히어로즈 글로벌리츠이지스액티브</td>\n",
       "      <td>NaN</td>\n",
       "      <td>NaN</td>\n",
       "      <td>NaN</td>\n",
       "      <td>NaN</td>\n",
       "      <td>NaN</td>\n",
       "      <td>NaN</td>\n",
       "      <td>NaN</td>\n",
       "    </tr>\n",
       "    <tr>\n",
       "      <th>7887</th>\n",
       "      <td>7887</td>\n",
       "      <td>419890</td>\n",
       "      <td>KOSPI</td>\n",
       "      <td>히어로즈 단기채권ESG액티브</td>\n",
       "      <td>NaN</td>\n",
       "      <td>NaN</td>\n",
       "      <td>NaN</td>\n",
       "      <td>NaN</td>\n",
       "      <td>NaN</td>\n",
       "      <td>NaN</td>\n",
       "      <td>NaN</td>\n",
       "    </tr>\n",
       "    <tr>\n",
       "      <th>7888</th>\n",
       "      <td>7888</td>\n",
       "      <td>429870</td>\n",
       "      <td>KOSPI</td>\n",
       "      <td>히어로즈 리츠이지스액티브</td>\n",
       "      <td>NaN</td>\n",
       "      <td>NaN</td>\n",
       "      <td>NaN</td>\n",
       "      <td>NaN</td>\n",
       "      <td>NaN</td>\n",
       "      <td>NaN</td>\n",
       "      <td>NaN</td>\n",
       "    </tr>\n",
       "    <tr>\n",
       "      <th>7889</th>\n",
       "      <td>7889</td>\n",
       "      <td>238490</td>\n",
       "      <td>KOSDAQ</td>\n",
       "      <td>힘스</td>\n",
       "      <td>특수 목적용 기계 제조업</td>\n",
       "      <td>OLED Mask 인장기, OLED Mask 검사기 등</td>\n",
       "      <td>2017-07-20</td>\n",
       "      <td>12월</td>\n",
       "      <td>김주환</td>\n",
       "      <td>http://www.hims.co.kr</td>\n",
       "      <td>인천광역시</td>\n",
       "    </tr>\n",
       "  </tbody>\n",
       "</table>\n",
       "<p>7890 rows × 11 columns</p>\n",
       "</div>"
      ],
      "text/plain": [
       "      Unnamed: 0  Symbol  Market              Name           Sector  \\\n",
       "0              0  060310  KOSDAQ                3S         전자부품 제조업   \n",
       "1              1  095570   KOSPI            AJ네트웍스  산업용 기계 및 장비 임대업   \n",
       "2              2  006840   KOSPI             AK홀딩스           기타 금융업   \n",
       "3              3  054620  KOSDAQ            APS홀딩스           기타 금융업   \n",
       "4              4  265520  KOSDAQ             AP시스템    특수 목적용 기계 제조업   \n",
       "...          ...     ...     ...               ...              ...   \n",
       "7885        7885  435550   KOSPI   히어로즈 TDF2050액티브              NaN   \n",
       "7886        7886  437550   KOSPI  히어로즈 글로벌리츠이지스액티브              NaN   \n",
       "7887        7887  419890   KOSPI   히어로즈 단기채권ESG액티브              NaN   \n",
       "7888        7888  429870   KOSPI     히어로즈 리츠이지스액티브              NaN   \n",
       "7889        7889  238490  KOSDAQ                힘스    특수 목적용 기계 제조업   \n",
       "\n",
       "                            Industry ListingDate SettleMonth  \\\n",
       "0                        반도체 웨이퍼 캐리어  2002-04-23         03월   \n",
       "1                렌탈(파렛트, OA장비, 건설장비)  2015-08-21         12월   \n",
       "2                               지주사업  1999-08-11         12월   \n",
       "3                        인터넷 트래픽 솔루션  2001-12-04         12월   \n",
       "4                        디스플레이 제조 장비  2017-04-07         12월   \n",
       "...                              ...         ...         ...   \n",
       "7885                             NaN         NaN         NaN   \n",
       "7886                             NaN         NaN         NaN   \n",
       "7887                             NaN         NaN         NaN   \n",
       "7888                             NaN         NaN         NaN   \n",
       "7889  OLED Mask 인장기, OLED Mask 검사기 등  2017-07-20         12월   \n",
       "\n",
       "         Representative                       HomePage Region  \n",
       "0                   김세완           http://www.3sref.com  서울특별시  \n",
       "1              박대현, 손삼달         http://www.ajnet.co.kr  서울특별시  \n",
       "2     채형석, 이석주(각자 대표이사)  http://www.aekyunggroup.co.kr  서울특별시  \n",
       "3                   정기로   http://www.apsholdings.co.kr    경기도  \n",
       "4                   김영주     http://www.apsystems.co.kr    경기도  \n",
       "...                 ...                            ...    ...  \n",
       "7885                NaN                            NaN    NaN  \n",
       "7886                NaN                            NaN    NaN  \n",
       "7887                NaN                            NaN    NaN  \n",
       "7888                NaN                            NaN    NaN  \n",
       "7889                김주환          http://www.hims.co.kr  인천광역시  \n",
       "\n",
       "[7890 rows x 11 columns]"
      ]
     },
     "execution_count": 37,
     "metadata": {},
     "output_type": "execute_result"
    }
   ],
   "source": [
    "krx['Symbol','Market','Name','Sector','Industry']"
   ]
  },
  {
   "cell_type": "code",
   "execution_count": null,
   "metadata": {},
   "outputs": [],
   "source": [
    "krx = krx['Symbol'].tolist()"
   ]
  },
  {
   "cell_type": "code",
   "execution_count": null,
   "metadata": {},
   "outputs": [],
   "source": [
    "krx"
   ]
  },
  {
   "cell_type": "code",
   "execution_count": 8,
   "metadata": {},
   "outputs": [],
   "source": [
    "a_sub_b = [x for x in list(kr_data['종목코드'].unique()) if x not in krx]"
   ]
  },
  {
   "cell_type": "code",
   "execution_count": null,
   "metadata": {},
   "outputs": [],
   "source": [
    "a_sub_b = [x for x in krx if x not in ]"
   ]
  },
  {
   "cell_type": "code",
   "execution_count": null,
   "metadata": {},
   "outputs": [],
   "source": [
    "list(kr_data['종목코드'].unique())"
   ]
  },
  {
   "cell_type": "code",
   "execution_count": 22,
   "metadata": {},
   "outputs": [
    {
     "data": {
      "text/plain": [
       "191"
      ]
     },
     "execution_count": 22,
     "metadata": {},
     "output_type": "execute_result"
    }
   ],
   "source": [
    "len(a_sub_b)"
   ]
  },
  {
   "cell_type": "code",
   "execution_count": 29,
   "metadata": {},
   "outputs": [
    {
     "data": {
      "text/plain": [
       "['114570',\n",
       " '57GANL',\n",
       " '57GANH',\n",
       " '57GANM',\n",
       " '57GX15',\n",
       " '57GAPW',\n",
       " '57H672',\n",
       " '57GAPX',\n",
       " '57GY50',\n",
       " '57H675',\n",
       " '57GY88',\n",
       " '57GAMW',\n",
       " '57GANF',\n",
       " '57GE61',\n",
       " '57GY93',\n",
       " '57H664',\n",
       " '57H685',\n",
       " '57GY48',\n",
       " '57GW49',\n",
       " '57GE63',\n",
       " '57GAMV',\n",
       " '57GAPH',\n",
       " '57GANR',\n",
       " '57GAND',\n",
       " '57GANG',\n",
       " '57GY89',\n",
       " '57GY90',\n",
       " '57H677',\n",
       " '57H674',\n",
       " '57H658',\n",
       " '57GAPF',\n",
       " '57GW46',\n",
       " '57GW51',\n",
       " '57GY51',\n",
       " '57GY49',\n",
       " '57GZ82',\n",
       " '57GY68',\n",
       " '57GY72',\n",
       " '57GY69',\n",
       " '57H646',\n",
       " '57H628',\n",
       " '57GAPJ',\n",
       " '57H645',\n",
       " '57H648',\n",
       " '57H650',\n",
       " '57H629',\n",
       " '57GANS',\n",
       " '57H636',\n",
       " '57GY78',\n",
       " '57GZ89',\n",
       " '57GZ73',\n",
       " '57GY77',\n",
       " '57GY97',\n",
       " '57GW70',\n",
       " '57H635',\n",
       " '57GAMM',\n",
       " '57H152',\n",
       " '57GW74',\n",
       " '57GZ87',\n",
       " '57GAPG',\n",
       " '57GY79',\n",
       " '57GANE',\n",
       " '57GZ86',\n",
       " '57GY75',\n",
       " '57GW73',\n",
       " '57GW72',\n",
       " '57GE57',\n",
       " '57GY73',\n",
       " '57GY76',\n",
       " '57GY71',\n",
       " '57GAMS',\n",
       " '57GAMK',\n",
       " '57GY92',\n",
       " '57GY95',\n",
       " '57HA85',\n",
       " '57GY82',\n",
       " '57GZ74',\n",
       " '57GW71',\n",
       " '57GY70',\n",
       " '57GW48',\n",
       " '57H632',\n",
       " '57GY91',\n",
       " '57HD40',\n",
       " '57GY80',\n",
       " '57GY96',\n",
       " '57GE58',\n",
       " '57H659',\n",
       " '57H637',\n",
       " '57GZ81',\n",
       " '57HD41',\n",
       " '57H153',\n",
       " '050320',\n",
       " '2568401C',\n",
       " '041140',\n",
       " '0391301C',\n",
       " '0340201C',\n",
       " '0014401C',\n",
       " '053660',\n",
       " '176440',\n",
       " '016385',\n",
       " '052190',\n",
       " '007630',\n",
       " '221610',\n",
       " '57H660',\n",
       " '57HD39',\n",
       " '57GY74',\n",
       " '57H631',\n",
       " '57GANJ',\n",
       " '57H633',\n",
       " '57GE60',\n",
       " '57GZ92',\n",
       " '57GZ94',\n",
       " '57HD42',\n",
       " '57HD43',\n",
       " '57GAMP',\n",
       " '57GAMN',\n",
       " '57GZ84',\n",
       " '52HE88',\n",
       " '57H154',\n",
       " '57GW69',\n",
       " '57GX01',\n",
       " '57GZ88',\n",
       " '57H662',\n",
       " '57GAMH',\n",
       " '57GZ76',\n",
       " '57GZ75',\n",
       " '57GW90',\n",
       " '57GY94',\n",
       " '57GANK',\n",
       " '57GAPY',\n",
       " '57H661',\n",
       " '57GZ83',\n",
       " '57GY85',\n",
       " '57GAQQ',\n",
       " '57HF85',\n",
       " '57HF86',\n",
       " '57GAMG',\n",
       " '57H663',\n",
       " '57H627',\n",
       " '57GAML',\n",
       " '57GAMJ',\n",
       " '57HA84',\n",
       " '57GAPE',\n",
       " '57GZ93',\n",
       " '57H700',\n",
       " '57GAPR',\n",
       " '57GE62',\n",
       " '57GW65',\n",
       " '57GZ85',\n",
       " '52HE87',\n",
       " '57H630',\n",
       " '57GANX',\n",
       " '57GW77',\n",
       " '57GE59',\n",
       " '220630',\n",
       " '510005',\n",
       " '510006',\n",
       " '510004',\n",
       " '510003',\n",
       " '510007',\n",
       " '510010',\n",
       " '0918101C',\n",
       " '3363701C',\n",
       " '04267217',\n",
       " '1218501C',\n",
       " '225330',\n",
       " '3770301C',\n",
       " '1834902B',\n",
       " '530069',\n",
       " '0054201C',\n",
       " '340120',\n",
       " '2970901C',\n",
       " '2079401C',\n",
       " '550042',\n",
       " '0026801C',\n",
       " '1422101C',\n",
       " '2903801C',\n",
       " '1285401C',\n",
       " '0682401C',\n",
       " '2630501C',\n",
       " '0911201C',\n",
       " '03402217',\n",
       " '0340221B',\n",
       " '2475401C',\n",
       " '066110',\n",
       " '0207601C',\n",
       " '2341001C',\n",
       " '3363702C',\n",
       " '0539501C',\n",
       " '950180',\n",
       " '00004217']"
      ]
     },
     "execution_count": 29,
     "metadata": {},
     "output_type": "execute_result"
    }
   ],
   "source": [
    "a_sub_b"
   ]
  },
  {
   "cell_type": "code",
   "execution_count": 34,
   "metadata": {},
   "outputs": [
    {
     "data": {
      "text/plain": [
       "740671579815"
      ]
     },
     "execution_count": 34,
     "metadata": {},
     "output_type": "execute_result"
    }
   ],
   "source": [
    "kr_data['money'] = kr_data['cns_qty'] * kr_data['orr_pr']\n",
    "kr_data['money'].sum()"
   ]
  },
  {
   "cell_type": "code",
   "execution_count": 36,
   "metadata": {},
   "outputs": [
    {
     "data": {
      "text/plain": [
       "0.006855016413979564"
      ]
     },
     "execution_count": 36,
     "metadata": {},
     "output_type": "execute_result"
    }
   ],
   "source": [
    "5077315837/740671579815"
   ]
  },
  {
   "cell_type": "code",
   "execution_count": 32,
   "metadata": {},
   "outputs": [],
   "source": [
    "notdata = kr_data[kr_data['종목코드'].isin(a_sub_b) == True]\n",
    "notdata['money'] = notdata['cns_qty'] * notdata['orr_pr']"
   ]
  },
  {
   "cell_type": "code",
   "execution_count": 33,
   "metadata": {},
   "outputs": [
    {
     "data": {
      "text/plain": [
       "5077315837"
      ]
     },
     "execution_count": 33,
     "metadata": {},
     "output_type": "execute_result"
    }
   ],
   "source": [
    "notdata['money'].sum()"
   ]
  },
  {
   "cell_type": "code",
   "execution_count": 14,
   "metadata": {},
   "outputs": [
    {
     "name": "stdout",
     "output_type": "stream",
     "text": [
      "Requirement already satisfied: pip in c:\\users\\becky\\anaconda3\\lib\\site-packages (21.3.1)"
     ]
    },
    {
     "name": "stderr",
     "output_type": "stream",
     "text": [
      "WARNING: Ignoring invalid distribution -umpy (c:\\users\\becky\\anaconda3\\lib\\site-packages)\n",
      "WARNING: Ignoring invalid distribution -pype1 (c:\\users\\becky\\anaconda3\\lib\\site-packages)\n",
      "WARNING: Ignoring invalid distribution -umpy (c:\\users\\becky\\anaconda3\\lib\\site-packages)\n",
      "WARNING: Ignoring invalid distribution -pype1 (c:\\users\\becky\\anaconda3\\lib\\site-packages)\n",
      "WARNING: Ignoring invalid distribution -umpy (c:\\users\\becky\\anaconda3\\lib\\site-packages)\n",
      "WARNING: Ignoring invalid distribution -pype1 (c:\\users\\becky\\anaconda3\\lib\\site-packages)\n",
      "    WARNING: Ignoring invalid distribution -umpy (c:\\users\\becky\\anaconda3\\lib\\site-packages)\n",
      "    WARNING: Ignoring invalid distribution -pype1 (c:\\users\\becky\\anaconda3\\lib\\site-packages)\n",
      "ERROR: Could not install packages due to an OSError: [WinError 5] 액세스가 거부되었습니다: 'C:\\\\Users\\\\Becky\\\\AppData\\\\Local\\\\Temp\\\\pip-uninstall-8sn7594k\\\\pip.exe'\n",
      "Consider using the `--user` option or check the permissions.\n",
      "\n",
      "WARNING: Ignoring invalid distribution -umpy (c:\\users\\becky\\anaconda3\\lib\\site-packages)\n",
      "WARNING: Ignoring invalid distribution -pype1 (c:\\users\\becky\\anaconda3\\lib\\site-packages)\n",
      "WARNING: Ignoring invalid distribution -umpy (c:\\users\\becky\\anaconda3\\lib\\site-packages)\n",
      "WARNING: Ignoring invalid distribution -pype1 (c:\\users\\becky\\anaconda3\\lib\\site-packages)\n",
      "WARNING: Ignoring invalid distribution -umpy (c:\\users\\becky\\anaconda3\\lib\\site-packages)\n",
      "WARNING: Ignoring invalid distribution -pype1 (c:\\users\\becky\\anaconda3\\lib\\site-packages)\n"
     ]
    },
    {
     "name": "stdout",
     "output_type": "stream",
     "text": [
      "\n",
      "Collecting pip\n",
      "  Downloading pip-22.2.2-py3-none-any.whl (2.0 MB)\n",
      "Installing collected packages: pip\n",
      "  Attempting uninstall: pip\n",
      "    Found existing installation: pip 21.3.1\n",
      "    Uninstalling pip-21.3.1:\n",
      "      Successfully uninstalled pip-21.3.1\n"
     ]
    }
   ],
   "source": [
    "!pip install --upgrade pip"
   ]
  },
  {
   "cell_type": "code",
   "execution_count": 15,
   "metadata": {},
   "outputs": [
    {
     "name": "stderr",
     "output_type": "stream",
     "text": [
      "WARNING: Ignoring invalid distribution -umpy (c:\\users\\becky\\anaconda3\\lib\\site-packages)\n",
      "WARNING: Ignoring invalid distribution -pype1 (c:\\users\\becky\\anaconda3\\lib\\site-packages)\n",
      "WARNING: Ignoring invalid distribution -umpy (c:\\users\\becky\\anaconda3\\lib\\site-packages)\n",
      "WARNING: Ignoring invalid distribution -pype1 (c:\\users\\becky\\anaconda3\\lib\\site-packages)\n",
      "ERROR: Could not find a version that satisfies the requirement FinanceDataReader (from versions: none)\n",
      "ERROR: No matching distribution found for FinanceDataReader\n",
      "WARNING: Ignoring invalid distribution -umpy (c:\\users\\becky\\anaconda3\\lib\\site-packages)\n",
      "WARNING: Ignoring invalid distribution -pype1 (c:\\users\\becky\\anaconda3\\lib\\site-packages)\n",
      "WARNING: Ignoring invalid distribution -umpy (c:\\users\\becky\\anaconda3\\lib\\site-packages)\n",
      "WARNING: Ignoring invalid distribution -pype1 (c:\\users\\becky\\anaconda3\\lib\\site-packages)\n",
      "WARNING: Ignoring invalid distribution -umpy (c:\\users\\becky\\anaconda3\\lib\\site-packages)\n",
      "WARNING: Ignoring invalid distribution -pype1 (c:\\users\\becky\\anaconda3\\lib\\site-packages)\n"
     ]
    }
   ],
   "source": [
    "!pip install FinanceDataReader"
   ]
  },
  {
   "cell_type": "markdown",
   "metadata": {
    "id": "RxBtxElYiCH6"
   },
   "source": [
    "&nbsp;"
   ]
  },
  {
   "cell_type": "markdown",
   "metadata": {
    "id": "J8aehtQriE-P"
   },
   "source": [
    "## 국내 및 해외 주식 거래횟수 시각화"
   ]
  },
  {
   "cell_type": "markdown",
   "metadata": {
    "id": "zCzH3VhgiO-c"
   },
   "source": [
    "- 거래횟수 가져오기"
   ]
  },
  {
   "cell_type": "code",
   "execution_count": 3,
   "metadata": {
    "id": "wp2VTihfiC8A"
   },
   "outputs": [],
   "source": [
    "ko_data = sqldf('select a.cus_no as \"고객번호\", a.act_no as \"계좌번호\", count(a.act_no) as \"국내 주식 거래횟수\" from info_data as a join kr_data as b on a.act_no = b.act_no group by a.act_no')\n",
    "os_data = sqldf('select a.cus_no as \"고객번호\", a.act_no as \"계좌번호\", count(a.act_no) as \"해외 주식 거래횟수\" from info_data as a join oss_data as b on a.act_no = b.act_no group by a.act_no')"
   ]
  },
  {
   "cell_type": "code",
   "execution_count": 7,
   "metadata": {},
   "outputs": [
    {
     "data": {
      "text/html": [
       "<div>\n",
       "<style scoped>\n",
       "    .dataframe tbody tr th:only-of-type {\n",
       "        vertical-align: middle;\n",
       "    }\n",
       "\n",
       "    .dataframe tbody tr th {\n",
       "        vertical-align: top;\n",
       "    }\n",
       "\n",
       "    .dataframe thead th {\n",
       "        text-align: right;\n",
       "    }\n",
       "</style>\n",
       "<table border=\"1\" class=\"dataframe\">\n",
       "  <thead>\n",
       "    <tr style=\"text-align: right;\">\n",
       "      <th></th>\n",
       "      <th>고객번호</th>\n",
       "      <th>계좌번호</th>\n",
       "      <th>국내 주식 거래횟수</th>\n",
       "    </tr>\n",
       "  </thead>\n",
       "  <tbody>\n",
       "    <tr>\n",
       "      <th>0</th>\n",
       "      <td>100a5c159909d39025eaeafc9d32639a1a41e2a0aede80...</td>\n",
       "      <td>0000b53f15d9484a62a745bdb02cd5f27796ba07c1bddc...</td>\n",
       "      <td>12</td>\n",
       "    </tr>\n",
       "    <tr>\n",
       "      <th>1</th>\n",
       "      <td>c845559ac8276714341546f8d5131ee17cdeb9a7d5133e...</td>\n",
       "      <td>00086aa946369d1c75182dffd43bd4a34f3abc1ddeba03...</td>\n",
       "      <td>4110</td>\n",
       "    </tr>\n",
       "    <tr>\n",
       "      <th>2</th>\n",
       "      <td>3ae1439c87d3b44af35e91ddcd88753accf1d7b4819cbd...</td>\n",
       "      <td>003b998c70775d3f079d89ed932345ef3276d2a35d93a5...</td>\n",
       "      <td>282</td>\n",
       "    </tr>\n",
       "    <tr>\n",
       "      <th>3</th>\n",
       "      <td>6d5498fde17270127c38885631fd883bcaf7ffbd47f5b9...</td>\n",
       "      <td>0041e009e19878cd52dca944d43ab4a0492ea981425bc6...</td>\n",
       "      <td>114</td>\n",
       "    </tr>\n",
       "    <tr>\n",
       "      <th>4</th>\n",
       "      <td>ef28826289766b37a3a484200d930c31ab179de2f62ddb...</td>\n",
       "      <td>006112ef04dbdc2a5e19a85e0d9a5e8b31a4ecf37b4244...</td>\n",
       "      <td>24</td>\n",
       "    </tr>\n",
       "  </tbody>\n",
       "</table>\n",
       "</div>"
      ],
      "text/plain": [
       "                                                고객번호  \\\n",
       "0  100a5c159909d39025eaeafc9d32639a1a41e2a0aede80...   \n",
       "1  c845559ac8276714341546f8d5131ee17cdeb9a7d5133e...   \n",
       "2  3ae1439c87d3b44af35e91ddcd88753accf1d7b4819cbd...   \n",
       "3  6d5498fde17270127c38885631fd883bcaf7ffbd47f5b9...   \n",
       "4  ef28826289766b37a3a484200d930c31ab179de2f62ddb...   \n",
       "\n",
       "                                                계좌번호  국내 주식 거래횟수  \n",
       "0  0000b53f15d9484a62a745bdb02cd5f27796ba07c1bddc...          12  \n",
       "1  00086aa946369d1c75182dffd43bd4a34f3abc1ddeba03...        4110  \n",
       "2  003b998c70775d3f079d89ed932345ef3276d2a35d93a5...         282  \n",
       "3  0041e009e19878cd52dca944d43ab4a0492ea981425bc6...         114  \n",
       "4  006112ef04dbdc2a5e19a85e0d9a5e8b31a4ecf37b4244...          24  "
      ]
     },
     "execution_count": 7,
     "metadata": {},
     "output_type": "execute_result"
    }
   ],
   "source": [
    "ko_data.head()"
   ]
  },
  {
   "cell_type": "markdown",
   "metadata": {
    "id": "5OE5ulRviRBl"
   },
   "source": [
    "- 거래횟수 시각화"
   ]
  },
  {
   "cell_type": "code",
   "execution_count": 4,
   "metadata": {
    "colab": {
     "base_uri": "https://localhost:8080/",
     "height": 609
    },
    "executionInfo": {
     "elapsed": 917,
     "status": "ok",
     "timestamp": 1663305650035,
     "user": {
      "displayName": "최재혁",
      "userId": "03991607876633756912"
     },
     "user_tz": -540
    },
    "id": "4Ul5PwuCiKln",
    "outputId": "4a712719-11d8-4e58-b28b-5cdc9177213b"
   },
   "outputs": [
    {
     "name": "stderr",
     "output_type": "stream",
     "text": [
      "findfont: Font family ['NanumBarunGothic'] not found. Falling back to DejaVu Sans.\n",
      "findfont: Font family ['NanumBarunGothic'] not found. Falling back to DejaVu Sans.\n",
      "findfont: Font family ['NanumBarunGothic'] not found. Falling back to DejaVu Sans.\n"
     ]
    },
    {
     "data": {
      "image/png": "[encoded data removed]",
      "text/plain": [
       "<Figure size 1800x720 with 3 Axes>"
      ]
     },
     "metadata": {},
     "output_type": "display_data"
    }
   ],
   "source": [
    "fig = plt.figure(figsize=(25,10))\n",
    "\n",
    "plot_1 = fig.add_subplot(1,3,1)\n",
    "plot_2 = fig.add_subplot(1,3,2)\n",
    "plot_3 = fig.add_subplot(1,3,3)\n",
    "\n",
    "new_df = pd.DataFrame()\n",
    "new_df['전체 거래횟수'] = [sum(ko_data['국내 주식 거래횟수']) + sum(os_data['해외 주식 거래횟수'])]\n",
    "new_df['국내 거래횟수'] = [sum(ko_data['국내 주식 거래횟수'])]\n",
    "new_df['해외 거래횟수'] = [sum(os_data['해외 주식 거래횟수'])]\n",
    "\n",
    "all_plt = sns.barplot(x=new_df.columns[::-1], y=new_df.values[0][::-1],palette=\"Greens_d\", ax=plot_1)\n",
    "all_plt.set_title('전체 주식 거래 횟수 시각화', weight='bold', fontsize=15)\n",
    "\n",
    "\n",
    "ko_set_plt = ko_data.nlargest(10,\"국내 주식 거래횟수\").sort_values(by='국내 주식 거래횟수')\n",
    "ko_plt = sns.barplot(data=ko_set_plt, x=[str(i) for i in ko_set_plt.index], y=\"국내 주식 거래횟수\", palette=\"Greens_d\", ax=plot_2)\n",
    "ko_plt.set_title('국내 주식 거래 횟수 상위 10개 시각화', weight='bold', fontsize=15)\n",
    "ko_plt.set(xticklabels=[])\n",
    "\n",
    "os_set_plt = os_data.nlargest(10,\"해외 주식 거래횟수\").sort_values(by='해외 주식 거래횟수')\n",
    "os_plot = sns.barplot(x=[str(i) for i in os_set_plt.index],y=\"해외 주식 거래횟수\",data=os_set_plt, palette=\"Greens_d\", ax=plot_3)\n",
    "os_plot.set_title('해외 주식 거래 횟수 상위 10개 시각화', weight='bold', fontsize=15)\n",
    "os_plot.set(xticklabels=[])\n",
    "\n",
    "plt.show()"
   ]
  },
  {
   "cell_type": "code",
   "execution_count": null,
   "metadata": {},
   "outputs": [],
   "source": []
  },
  {
   "cell_type": "markdown",
   "metadata": {
    "id": "rPMkSvGkjJby"
   },
   "source": [
    "- 전체 주식거래에서 국내가 차지하는 비율이 해외의 거래 비율보다 매우 크다는 것을 확인할 수 있습니다. (국내시장의 규모가 훨씬 큼)\n",
    "- 해외 주식의 거래 횟수는 국내에 비해 적지만 해외 주식거래 상위 10개 그래프를 확인했을 때 어느 정도 충분한 거래가 이루어지고 있다는 것을 확인할 수 있습니다.\n",
    "\n",
    "\n",
    "> 이를 통해서 국내 주식만 투자하는 고객, 해외 거래만 투자하는 고객, 둘 다 투자하는 고객으로 크게 3개의 집단으로 나누고 점차 세부적으로 파악하는 방향으로 설정했습니다.\n"
   ]
  },
  {
   "cell_type": "markdown",
   "metadata": {
    "id": "ETjSGVZJkNK6"
   },
   "source": [
    "&nbsp;"
   ]
  },
  {
   "cell_type": "markdown",
   "metadata": {
    "id": "FV_rsSB2kRMJ"
   },
   "source": [
    "## 국내 주식만 투자하는 고객, 해외 거래만 투자하는 고객, 둘다 투자하는 고객 나누기"
   ]
  },
  {
   "cell_type": "code",
   "execution_count": 5,
   "metadata": {
    "id": "A5DgSzzQiTac"
   },
   "outputs": [],
   "source": [
    "ko_real = sqldf('select a.act_no as \"계좌번호\", count(a.act_no) as \"국내 주식 거래횟수\" from kr_data as a group by a.act_no')\n",
    "os_real = sqldf('select a.act_no as \"계좌번호\", count(a.act_no) as \"해외 주식 거래횟수\" from oss_data as a group by a.act_no')\n",
    "\n",
    "# 국내 주식만 하는 고객\n",
    "only_ko = list(set(list(ko_real['계좌번호'])) - set(list(os_real['계좌번호'])))\n",
    "only_ko_df = ko_real.loc[ko_real['계좌번호'].isin(only_ko)]\n",
    "\n",
    "# 해외 주식만 하는 고객\n",
    "only_os = list(set(list(os_real['계좌번호'])) - set(list(ko_real['계좌번호'])))\n",
    "only_os_df = os_real.loc[os_real['계좌번호'].isin(only_os)]\n",
    "\n",
    "# 둘다 같이 하는 고객\n",
    "all_of = list(set(list(os_real['계좌번호'])) & set(list(ko_real['계좌번호'])))\n",
    "all_of_df1 = ko_real.loc[ko_real['계좌번호'].isin(all_of)]\n",
    "all_of_df2 = os_real.loc[os_real['계좌번호'].isin(all_of)]\n",
    "\n",
    "all_of_df = pd.merge(all_of_df1, all_of_df2 ,how='outer',on='계좌번호')\n",
    "\n",
    "# info 데이터에서 국내, 해외, 둘다 하는 각 고객의 정보 가져오기\n",
    "ko = info_data.loc[info_data['act_no'].isin(only_ko_df['계좌번호'])] # 35207 명 \n",
    "os = info_data.loc[info_data['act_no'].isin(only_os_df['계좌번호'])] # 1910 명 \n",
    "ko_os = info_data.loc[info_data['act_no'].isin(all_of_df['계좌번호'])] #  3994 명"
   ]
  },
  {
   "cell_type": "markdown",
   "metadata": {},
   "source": [
    "#  (전처리) cus_ifo.csv \n",
    "cus_no, act_no, bse_ym, sex_dit_cd, cus_age_stn_cd, cus_aet_stn_cd, mrz_pdt_tp_sgm_cd, lsg_sgm_cd, tco_cus_grd_cd, tot_ivs_te_sgm_cd, hld_pdt_tp_sgm_cd, loy_sgm_cd, mrz_btp_dit_cd, aet_bse_stk_trd_tp_cd, bas_stk_trd_tp_cd 칼럼 만을 분석에 사용\n",
    "\n",
    "- `cus_no`\t: 고객번호\n",
    "- `act_no`\t: 계좌번호\n",
    "- `bse_ym`\t: 고객정보기준년월\n",
    "- `sex_dit_cd`\t: 성별\n",
    "- `cus_age_stn_cd`\t: 연령대\n",
    "- `cus_aet_stn_cd`\t: 고객자산구간코드\n",
    "- `mrz_pdt_tp_sgm_cd`\t : 주거래상품군\n",
    "- `lsg_sgm_cd`\t: LIFESTAGE세그먼트코드\n",
    "- `tco_cus_grd_cd`\t: 고객등급코드\n",
    "- `tot_ivs_te_sgm_cd`\t: 총투자기간세그먼트코드\n",
    "- `hld_pdt_tp_sgm_cd`\t: 보유상품유형세그먼트코드\n",
    "- `loy_sgm_cd`\t: 충성도세그먼트코드\n",
    "- `mrz_btp_dit_cd`\t: 주거래업종구분코드\n",
    "- `aet_bse_stk_trd_tp_cd`\t: 자산기준주식거래유형코드\n",
    "- `bas_stk_trd_tp_cd`\t: 기본주식거래유형코드\n",
    "\n",
    "고객번호, 계좌번호, 고객정보기준년월, 성별, 연령대, 고객자산구간코드, 주거래상품군, LIFESTAGE세그먼트코드, 고객등급코드, 총투자기간세그먼트코드, 보유상품유형세그먼트코드, 충성도세그먼트코드, 주거래업종구분코드, 자산기준주식거래유형코드, 기본주식거래유형코드"
   ]
  },
  {
   "cell_type": "code",
   "execution_count": 9,
   "metadata": {},
   "outputs": [],
   "source": [
    "ko2 = ko[['cus_no', 'act_no', 'bse_ym', 'sex_dit_cd', 'cus_age_stn_cd', 'cus_aet_stn_cd', \n",
    "         'mrz_pdt_tp_sgm_cd', 'lsg_sgm_cd', 'tco_cus_grd_cd', 'tot_ivs_te_sgm_cd', 'hld_pdt_tp_sgm_cd', \n",
    "         'loy_sgm_cd', 'mrz_btp_dit_cd', 'aet_bse_stk_trd_tp_cd', 'bas_stk_trd_tp_cd']]\n",
    "os2 = os[['cus_no', 'act_no', 'bse_ym', 'sex_dit_cd', 'cus_age_stn_cd', 'cus_aet_stn_cd', \n",
    "         'mrz_pdt_tp_sgm_cd', 'lsg_sgm_cd', 'tco_cus_grd_cd', 'tot_ivs_te_sgm_cd', 'hld_pdt_tp_sgm_cd', \n",
    "         'loy_sgm_cd', 'mrz_btp_dit_cd', 'aet_bse_stk_trd_tp_cd', 'bas_stk_trd_tp_cd']]\n",
    "ko_os2 = ko_os[['cus_no', 'act_no', 'bse_ym', 'sex_dit_cd', 'cus_age_stn_cd', 'cus_aet_stn_cd', \n",
    "         'mrz_pdt_tp_sgm_cd', 'lsg_sgm_cd', 'tco_cus_grd_cd', 'tot_ivs_te_sgm_cd', 'hld_pdt_tp_sgm_cd', \n",
    "         'loy_sgm_cd', 'mrz_btp_dit_cd', 'aet_bse_stk_trd_tp_cd', 'bas_stk_trd_tp_cd']]"
   ]
  },
  {
   "cell_type": "code",
   "execution_count": 10,
   "metadata": {},
   "outputs": [],
   "source": [
    "ko2.columns = ['고객번호', '계좌번호', '고객정보기준년월', '성별', '연령대', '고객자산구간코드', \n",
    "               '주거래상품군', 'LIFESTAGE세그먼트코드', '고객등급코드', '총투자기간세그먼트코드', '보유상품유형세그먼트코드', \n",
    "               '충성도세그먼트코드', '주거래업종구분코드', '자산기준주식거래유형코드', '기본주식거래유형코드']\n",
    "os2.columns = ['고객번호', '계좌번호', '고객정보기준년월', '성별', '연령대', '고객자산구간코드', '주거래상품군', \n",
    "               'LIFESTAGE세그먼트코드', '고객등급코드', '총투자기간세그먼트코드', '보유상품유형세그먼트코드', \n",
    "               '충성도세그먼트코드', '주거래업종구분코드', '자산기준주식거래유형코드', '기본주식거래유형코드']\n",
    "ko_os2.columns = ['고객번호', '계좌번호', '고객정보기준년월', '성별', '연령대', '고객자산구간코드', '주거래상품군', \n",
    "               'LIFESTAGE세그먼트코드', '고객등급코드', '총투자기간세그먼트코드', '보유상품유형세그먼트코드', \n",
    "               '충성도세그먼트코드', '주거래업종구분코드', '자산기준주식거래유형코드', '기본주식거래유형코드']"
   ]
  },
  {
   "cell_type": "code",
   "execution_count": 12,
   "metadata": {},
   "outputs": [],
   "source": [
    "ko2.to_csv('data/국내주식_고객정보.csv', encoding='utf-8-sig', index = False)\n",
    "os2.to_csv('data/해외주식_고객정보.csv', encoding='utf-8-sig', index = False)\n",
    "ko_os2.to_csv('data/국내_해외주식_고객정보.csv', encoding='utf-8-sig', index = False)"
   ]
  },
  {
   "cell_type": "code",
   "execution_count": 11,
   "metadata": {},
   "outputs": [
    {
     "data": {
      "text/html": [
       "<div>\n",
       "<style scoped>\n",
       "    .dataframe tbody tr th:only-of-type {\n",
       "        vertical-align: middle;\n",
       "    }\n",
       "\n",
       "    .dataframe tbody tr th {\n",
       "        vertical-align: top;\n",
       "    }\n",
       "\n",
       "    .dataframe thead th {\n",
       "        text-align: right;\n",
       "    }\n",
       "</style>\n",
       "<table border=\"1\" class=\"dataframe\">\n",
       "  <thead>\n",
       "    <tr style=\"text-align: right;\">\n",
       "      <th></th>\n",
       "      <th>고객번호</th>\n",
       "      <th>계좌번호</th>\n",
       "      <th>고객정보기준년월</th>\n",
       "      <th>성별</th>\n",
       "      <th>연령대</th>\n",
       "      <th>고객자산구간코드</th>\n",
       "      <th>주거래상품군</th>\n",
       "      <th>LIFESTAGE세그먼트코드</th>\n",
       "      <th>고객등급코드</th>\n",
       "      <th>총투자기간세그먼트코드</th>\n",
       "      <th>보유상품유형세그먼트코드</th>\n",
       "      <th>충성도세그먼트코드</th>\n",
       "      <th>주거래업종구분코드</th>\n",
       "      <th>자산기준주식거래유형코드</th>\n",
       "      <th>기본주식거래유형코드</th>\n",
       "    </tr>\n",
       "  </thead>\n",
       "  <tbody>\n",
       "    <tr>\n",
       "      <th>0</th>\n",
       "      <td>92ed7cdc3e3673226a613892c47a8eccfe602d0fbdb349...</td>\n",
       "      <td>3610f0105b67e30709e55c546c75c45b8c9d589e90fb9f...</td>\n",
       "      <td>202203</td>\n",
       "      <td>1</td>\n",
       "      <td>4</td>\n",
       "      <td>1</td>\n",
       "      <td>2</td>\n",
       "      <td>3</td>\n",
       "      <td>9</td>\n",
       "      <td>3</td>\n",
       "      <td>1.0</td>\n",
       "      <td>5.0</td>\n",
       "      <td>6.0</td>\n",
       "      <td>5.0</td>\n",
       "      <td>006</td>\n",
       "    </tr>\n",
       "    <tr>\n",
       "      <th>1</th>\n",
       "      <td>92ed7cdc3e3673226a613892c47a8eccfe602d0fbdb349...</td>\n",
       "      <td>3610f0105b67e30709e55c546c75c45b8c9d589e90fb9f...</td>\n",
       "      <td>202202</td>\n",
       "      <td>1</td>\n",
       "      <td>4</td>\n",
       "      <td>1</td>\n",
       "      <td>2</td>\n",
       "      <td>3</td>\n",
       "      <td>9</td>\n",
       "      <td>3</td>\n",
       "      <td>1.0</td>\n",
       "      <td>5.0</td>\n",
       "      <td>16.0</td>\n",
       "      <td>5.0</td>\n",
       "      <td>010</td>\n",
       "    </tr>\n",
       "    <tr>\n",
       "      <th>2</th>\n",
       "      <td>92ed7cdc3e3673226a613892c47a8eccfe602d0fbdb349...</td>\n",
       "      <td>3610f0105b67e30709e55c546c75c45b8c9d589e90fb9f...</td>\n",
       "      <td>202206</td>\n",
       "      <td>1</td>\n",
       "      <td>4</td>\n",
       "      <td>1</td>\n",
       "      <td>2</td>\n",
       "      <td>3</td>\n",
       "      <td>9</td>\n",
       "      <td>3</td>\n",
       "      <td>1.0</td>\n",
       "      <td>4.0</td>\n",
       "      <td>16.0</td>\n",
       "      <td>5.0</td>\n",
       "      <td>009</td>\n",
       "    </tr>\n",
       "    <tr>\n",
       "      <th>3</th>\n",
       "      <td>92ed7cdc3e3673226a613892c47a8eccfe602d0fbdb349...</td>\n",
       "      <td>3610f0105b67e30709e55c546c75c45b8c9d589e90fb9f...</td>\n",
       "      <td>202205</td>\n",
       "      <td>1</td>\n",
       "      <td>4</td>\n",
       "      <td>1</td>\n",
       "      <td>2</td>\n",
       "      <td>3</td>\n",
       "      <td>9</td>\n",
       "      <td>3</td>\n",
       "      <td>1.0</td>\n",
       "      <td>4.0</td>\n",
       "      <td>16.0</td>\n",
       "      <td>5.0</td>\n",
       "      <td>008</td>\n",
       "    </tr>\n",
       "    <tr>\n",
       "      <th>4</th>\n",
       "      <td>92ed7cdc3e3673226a613892c47a8eccfe602d0fbdb349...</td>\n",
       "      <td>3610f0105b67e30709e55c546c75c45b8c9d589e90fb9f...</td>\n",
       "      <td>202201</td>\n",
       "      <td>1</td>\n",
       "      <td>4</td>\n",
       "      <td>1</td>\n",
       "      <td>2</td>\n",
       "      <td>3</td>\n",
       "      <td>9</td>\n",
       "      <td>3</td>\n",
       "      <td>1.0</td>\n",
       "      <td>5.0</td>\n",
       "      <td>16.0</td>\n",
       "      <td>5.0</td>\n",
       "      <td>010</td>\n",
       "    </tr>\n",
       "    <tr>\n",
       "      <th>...</th>\n",
       "      <td>...</td>\n",
       "      <td>...</td>\n",
       "      <td>...</td>\n",
       "      <td>...</td>\n",
       "      <td>...</td>\n",
       "      <td>...</td>\n",
       "      <td>...</td>\n",
       "      <td>...</td>\n",
       "      <td>...</td>\n",
       "      <td>...</td>\n",
       "      <td>...</td>\n",
       "      <td>...</td>\n",
       "      <td>...</td>\n",
       "      <td>...</td>\n",
       "      <td>...</td>\n",
       "    </tr>\n",
       "    <tr>\n",
       "      <th>59070</th>\n",
       "      <td>2be1d24c654b9730408b82716d21fb5ec27377dd3b5ca3...</td>\n",
       "      <td>3fb721c5a808e4e848adebcf80cb1c9badff6382033b45...</td>\n",
       "      <td>202201</td>\n",
       "      <td>2</td>\n",
       "      <td>5</td>\n",
       "      <td>1</td>\n",
       "      <td>2</td>\n",
       "      <td>8</td>\n",
       "      <td>9</td>\n",
       "      <td>1</td>\n",
       "      <td>1.0</td>\n",
       "      <td>5.0</td>\n",
       "      <td>16.0</td>\n",
       "      <td>5.0</td>\n",
       "      <td>010</td>\n",
       "    </tr>\n",
       "    <tr>\n",
       "      <th>59071</th>\n",
       "      <td>2be1d24c654b9730408b82716d21fb5ec27377dd3b5ca3...</td>\n",
       "      <td>3fb721c5a808e4e848adebcf80cb1c9badff6382033b45...</td>\n",
       "      <td>202204</td>\n",
       "      <td>2</td>\n",
       "      <td>5</td>\n",
       "      <td>1</td>\n",
       "      <td>2</td>\n",
       "      <td>8</td>\n",
       "      <td>9</td>\n",
       "      <td>1</td>\n",
       "      <td>1.0</td>\n",
       "      <td>5.0</td>\n",
       "      <td>16.0</td>\n",
       "      <td>5.0</td>\n",
       "      <td>008</td>\n",
       "    </tr>\n",
       "    <tr>\n",
       "      <th>59072</th>\n",
       "      <td>2be1d24c654b9730408b82716d21fb5ec27377dd3b5ca3...</td>\n",
       "      <td>3fb721c5a808e4e848adebcf80cb1c9badff6382033b45...</td>\n",
       "      <td>202202</td>\n",
       "      <td>2</td>\n",
       "      <td>5</td>\n",
       "      <td>1</td>\n",
       "      <td>2</td>\n",
       "      <td>8</td>\n",
       "      <td>9</td>\n",
       "      <td>1</td>\n",
       "      <td>1.0</td>\n",
       "      <td>5.0</td>\n",
       "      <td>16.0</td>\n",
       "      <td>5.0</td>\n",
       "      <td>010</td>\n",
       "    </tr>\n",
       "    <tr>\n",
       "      <th>59073</th>\n",
       "      <td>2be1d24c654b9730408b82716d21fb5ec27377dd3b5ca3...</td>\n",
       "      <td>3fb721c5a808e4e848adebcf80cb1c9badff6382033b45...</td>\n",
       "      <td>202206</td>\n",
       "      <td>2</td>\n",
       "      <td>5</td>\n",
       "      <td>1</td>\n",
       "      <td>2</td>\n",
       "      <td>8</td>\n",
       "      <td>9</td>\n",
       "      <td>1</td>\n",
       "      <td>1.0</td>\n",
       "      <td>5.0</td>\n",
       "      <td>16.0</td>\n",
       "      <td>5.0</td>\n",
       "      <td>010</td>\n",
       "    </tr>\n",
       "    <tr>\n",
       "      <th>59074</th>\n",
       "      <td>2be1d24c654b9730408b82716d21fb5ec27377dd3b5ca3...</td>\n",
       "      <td>3fb721c5a808e4e848adebcf80cb1c9badff6382033b45...</td>\n",
       "      <td>202203</td>\n",
       "      <td>2</td>\n",
       "      <td>5</td>\n",
       "      <td>1</td>\n",
       "      <td>2</td>\n",
       "      <td>8</td>\n",
       "      <td>9</td>\n",
       "      <td>1</td>\n",
       "      <td>1.0</td>\n",
       "      <td>5.0</td>\n",
       "      <td>13.0</td>\n",
       "      <td>5.0</td>\n",
       "      <td>006</td>\n",
       "    </tr>\n",
       "  </tbody>\n",
       "</table>\n",
       "<p>35207 rows × 15 columns</p>\n",
       "</div>"
      ],
      "text/plain": [
       "                                                    고객번호  \\\n",
       "0      92ed7cdc3e3673226a613892c47a8eccfe602d0fbdb349...   \n",
       "1      92ed7cdc3e3673226a613892c47a8eccfe602d0fbdb349...   \n",
       "2      92ed7cdc3e3673226a613892c47a8eccfe602d0fbdb349...   \n",
       "3      92ed7cdc3e3673226a613892c47a8eccfe602d0fbdb349...   \n",
       "4      92ed7cdc3e3673226a613892c47a8eccfe602d0fbdb349...   \n",
       "...                                                  ...   \n",
       "59070  2be1d24c654b9730408b82716d21fb5ec27377dd3b5ca3...   \n",
       "59071  2be1d24c654b9730408b82716d21fb5ec27377dd3b5ca3...   \n",
       "59072  2be1d24c654b9730408b82716d21fb5ec27377dd3b5ca3...   \n",
       "59073  2be1d24c654b9730408b82716d21fb5ec27377dd3b5ca3...   \n",
       "59074  2be1d24c654b9730408b82716d21fb5ec27377dd3b5ca3...   \n",
       "\n",
       "                                                    계좌번호  고객정보기준년월  성별  연령대  \\\n",
       "0      3610f0105b67e30709e55c546c75c45b8c9d589e90fb9f...    202203   1    4   \n",
       "1      3610f0105b67e30709e55c546c75c45b8c9d589e90fb9f...    202202   1    4   \n",
       "2      3610f0105b67e30709e55c546c75c45b8c9d589e90fb9f...    202206   1    4   \n",
       "3      3610f0105b67e30709e55c546c75c45b8c9d589e90fb9f...    202205   1    4   \n",
       "4      3610f0105b67e30709e55c546c75c45b8c9d589e90fb9f...    202201   1    4   \n",
       "...                                                  ...       ...  ..  ...   \n",
       "59070  3fb721c5a808e4e848adebcf80cb1c9badff6382033b45...    202201   2    5   \n",
       "59071  3fb721c5a808e4e848adebcf80cb1c9badff6382033b45...    202204   2    5   \n",
       "59072  3fb721c5a808e4e848adebcf80cb1c9badff6382033b45...    202202   2    5   \n",
       "59073  3fb721c5a808e4e848adebcf80cb1c9badff6382033b45...    202206   2    5   \n",
       "59074  3fb721c5a808e4e848adebcf80cb1c9badff6382033b45...    202203   2    5   \n",
       "\n",
       "       고객자산구간코드  주거래상품군  LIFESTAGE세그먼트코드  고객등급코드  총투자기간세그먼트코드  보유상품유형세그먼트코드  \\\n",
       "0             1       2                3       9            3           1.0   \n",
       "1             1       2                3       9            3           1.0   \n",
       "2             1       2                3       9            3           1.0   \n",
       "3             1       2                3       9            3           1.0   \n",
       "4             1       2                3       9            3           1.0   \n",
       "...         ...     ...              ...     ...          ...           ...   \n",
       "59070         1       2                8       9            1           1.0   \n",
       "59071         1       2                8       9            1           1.0   \n",
       "59072         1       2                8       9            1           1.0   \n",
       "59073         1       2                8       9            1           1.0   \n",
       "59074         1       2                8       9            1           1.0   \n",
       "\n",
       "       충성도세그먼트코드  주거래업종구분코드  자산기준주식거래유형코드 기본주식거래유형코드  \n",
       "0            5.0        6.0           5.0        006  \n",
       "1            5.0       16.0           5.0        010  \n",
       "2            4.0       16.0           5.0        009  \n",
       "3            4.0       16.0           5.0        008  \n",
       "4            5.0       16.0           5.0        010  \n",
       "...          ...        ...           ...        ...  \n",
       "59070        5.0       16.0           5.0        010  \n",
       "59071        5.0       16.0           5.0        008  \n",
       "59072        5.0       16.0           5.0        010  \n",
       "59073        5.0       16.0           5.0        010  \n",
       "59074        5.0       13.0           5.0        006  \n",
       "\n",
       "[35207 rows x 15 columns]"
      ]
     },
     "execution_count": 11,
     "metadata": {},
     "output_type": "execute_result"
    }
   ],
   "source": [
    "ko2"
   ]
  },
  {
   "cell_type": "code",
   "execution_count": 16,
   "metadata": {},
   "outputs": [
    {
     "ename": "NameError",
     "evalue": "name 'set_ko' is not defined",
     "output_type": "error",
     "traceback": [
      "\u001b[1;31m---------------------------------------------------------------------------\u001b[0m",
      "\u001b[1;31mNameError\u001b[0m                                 Traceback (most recent call last)",
      "\u001b[1;32m<ipython-input-16-90d6360227da>\u001b[0m in \u001b[0;36m<module>\u001b[1;34m\u001b[0m\n\u001b[0;32m      9\u001b[0m \u001b[1;33m\u001b[0m\u001b[0m\n\u001b[0;32m     10\u001b[0m \u001b[1;33m\u001b[0m\u001b[0m\n\u001b[1;32m---> 11\u001b[1;33m \u001b[0mset_ko\u001b[0m \u001b[1;33m=\u001b[0m \u001b[0mdel_df\u001b[0m\u001b[1;33m(\u001b[0m\u001b[0mset_ko\u001b[0m\u001b[1;33m)\u001b[0m\u001b[1;33m\u001b[0m\u001b[1;33m\u001b[0m\u001b[0m\n\u001b[0m\u001b[0;32m     12\u001b[0m \u001b[0mset_os\u001b[0m \u001b[1;33m=\u001b[0m \u001b[0mdel_df\u001b[0m\u001b[1;33m(\u001b[0m\u001b[0mset_os\u001b[0m\u001b[1;33m)\u001b[0m\u001b[1;33m\u001b[0m\u001b[1;33m\u001b[0m\u001b[0m\n\u001b[0;32m     13\u001b[0m \u001b[0mset_ko_os\u001b[0m \u001b[1;33m=\u001b[0m \u001b[0mdel_df\u001b[0m\u001b[1;33m(\u001b[0m\u001b[0mset_ko_os\u001b[0m\u001b[1;33m)\u001b[0m\u001b[1;33m\u001b[0m\u001b[1;33m\u001b[0m\u001b[0m\n",
      "\u001b[1;31mNameError\u001b[0m: name 'set_ko' is not defined"
     ]
    }
   ],
   "source": [
    "def del_df(df):\n",
    "    del_list = []\n",
    "    for i in tqdm(df.columns):\n",
    "        del_list += list(df[df[i].isin([99, np.inf, -np.inf , np.nan])].index)\n",
    "\n",
    "    new_df = df.drop(del_list).copy()\n",
    "    new_df.reset_index(drop=True,inplace=True)\n",
    "    return new_df\n",
    "\n",
    "\n",
    "set_ko = del_df(set_ko)\n",
    "set_os = del_df(set_os)\n",
    "set_ko_os = del_df(set_ko_os)"
   ]
  },
  {
   "cell_type": "code",
   "execution_count": 15,
   "metadata": {},
   "outputs": [
    {
     "data": {
      "text/html": [
       "<div>\n",
       "<style scoped>\n",
       "    .dataframe tbody tr th:only-of-type {\n",
       "        vertical-align: middle;\n",
       "    }\n",
       "\n",
       "    .dataframe tbody tr th {\n",
       "        vertical-align: top;\n",
       "    }\n",
       "\n",
       "    .dataframe thead th {\n",
       "        text-align: right;\n",
       "    }\n",
       "</style>\n",
       "<table border=\"1\" class=\"dataframe\">\n",
       "  <thead>\n",
       "    <tr style=\"text-align: right;\">\n",
       "      <th></th>\n",
       "      <th>고객번호</th>\n",
       "      <th>계좌번호</th>\n",
       "      <th>고객정보기준년월</th>\n",
       "      <th>성별</th>\n",
       "      <th>연령대</th>\n",
       "      <th>고객자산구간코드</th>\n",
       "      <th>주거래상품군</th>\n",
       "      <th>LIFESTAGE세그먼트코드</th>\n",
       "      <th>고객등급코드</th>\n",
       "      <th>총투자기간세그먼트코드</th>\n",
       "      <th>보유상품유형세그먼트코드</th>\n",
       "      <th>충성도세그먼트코드</th>\n",
       "      <th>주거래업종구분코드</th>\n",
       "      <th>자산기준주식거래유형코드</th>\n",
       "      <th>기본주식거래유형코드</th>\n",
       "    </tr>\n",
       "  </thead>\n",
       "  <tbody>\n",
       "    <tr>\n",
       "      <th>103</th>\n",
       "      <td>a1e479c7b399b17795611e49aa97b604060b171fbec43a...</td>\n",
       "      <td>82434b1fa9cd929f68fde4738e9b72accf08cbf473054e...</td>\n",
       "      <td>202204</td>\n",
       "      <td>1</td>\n",
       "      <td>99</td>\n",
       "      <td>1</td>\n",
       "      <td>99</td>\n",
       "      <td>9</td>\n",
       "      <td>99</td>\n",
       "      <td>1</td>\n",
       "      <td>99.0</td>\n",
       "      <td>5.0</td>\n",
       "      <td>NaN</td>\n",
       "      <td>NaN</td>\n",
       "      <td>_</td>\n",
       "    </tr>\n",
       "    <tr>\n",
       "      <th>104</th>\n",
       "      <td>a1e479c7b399b17795611e49aa97b604060b171fbec43a...</td>\n",
       "      <td>82434b1fa9cd929f68fde4738e9b72accf08cbf473054e...</td>\n",
       "      <td>202203</td>\n",
       "      <td>1</td>\n",
       "      <td>99</td>\n",
       "      <td>1</td>\n",
       "      <td>99</td>\n",
       "      <td>9</td>\n",
       "      <td>99</td>\n",
       "      <td>1</td>\n",
       "      <td>99.0</td>\n",
       "      <td>5.0</td>\n",
       "      <td>NaN</td>\n",
       "      <td>NaN</td>\n",
       "      <td>_</td>\n",
       "    </tr>\n",
       "    <tr>\n",
       "      <th>105</th>\n",
       "      <td>a1e479c7b399b17795611e49aa97b604060b171fbec43a...</td>\n",
       "      <td>82434b1fa9cd929f68fde4738e9b72accf08cbf473054e...</td>\n",
       "      <td>202205</td>\n",
       "      <td>1</td>\n",
       "      <td>99</td>\n",
       "      <td>1</td>\n",
       "      <td>99</td>\n",
       "      <td>9</td>\n",
       "      <td>99</td>\n",
       "      <td>1</td>\n",
       "      <td>99.0</td>\n",
       "      <td>5.0</td>\n",
       "      <td>NaN</td>\n",
       "      <td>NaN</td>\n",
       "      <td>_</td>\n",
       "    </tr>\n",
       "    <tr>\n",
       "      <th>899</th>\n",
       "      <td>27e05f5ccfe64b594add89dc14e72a88407c995e38d811...</td>\n",
       "      <td>f5e5202344818b84bb42ffe4ed1a6724a27e4cbbb42537...</td>\n",
       "      <td>202204</td>\n",
       "      <td>1</td>\n",
       "      <td>6</td>\n",
       "      <td>1</td>\n",
       "      <td>99</td>\n",
       "      <td>5</td>\n",
       "      <td>99</td>\n",
       "      <td>1</td>\n",
       "      <td>99.0</td>\n",
       "      <td>5.0</td>\n",
       "      <td>NaN</td>\n",
       "      <td>NaN</td>\n",
       "      <td>_</td>\n",
       "    </tr>\n",
       "    <tr>\n",
       "      <th>901</th>\n",
       "      <td>27e05f5ccfe64b594add89dc14e72a88407c995e38d811...</td>\n",
       "      <td>f5e5202344818b84bb42ffe4ed1a6724a27e4cbbb42537...</td>\n",
       "      <td>202205</td>\n",
       "      <td>1</td>\n",
       "      <td>6</td>\n",
       "      <td>1</td>\n",
       "      <td>99</td>\n",
       "      <td>5</td>\n",
       "      <td>99</td>\n",
       "      <td>1</td>\n",
       "      <td>99.0</td>\n",
       "      <td>5.0</td>\n",
       "      <td>NaN</td>\n",
       "      <td>NaN</td>\n",
       "      <td>_</td>\n",
       "    </tr>\n",
       "    <tr>\n",
       "      <th>...</th>\n",
       "      <td>...</td>\n",
       "      <td>...</td>\n",
       "      <td>...</td>\n",
       "      <td>...</td>\n",
       "      <td>...</td>\n",
       "      <td>...</td>\n",
       "      <td>...</td>\n",
       "      <td>...</td>\n",
       "      <td>...</td>\n",
       "      <td>...</td>\n",
       "      <td>...</td>\n",
       "      <td>...</td>\n",
       "      <td>...</td>\n",
       "      <td>...</td>\n",
       "      <td>...</td>\n",
       "    </tr>\n",
       "    <tr>\n",
       "      <th>57422</th>\n",
       "      <td>26191d027d5da9d1bd89d107a8c6a18a2fb46beff4cba2...</td>\n",
       "      <td>f0f8e64b802686324e9a8dd09398e607951e13e081259c...</td>\n",
       "      <td>202201</td>\n",
       "      <td>2</td>\n",
       "      <td>4</td>\n",
       "      <td>1</td>\n",
       "      <td>99</td>\n",
       "      <td>4</td>\n",
       "      <td>99</td>\n",
       "      <td>1</td>\n",
       "      <td>99.0</td>\n",
       "      <td>5.0</td>\n",
       "      <td>NaN</td>\n",
       "      <td>NaN</td>\n",
       "      <td>_</td>\n",
       "    </tr>\n",
       "    <tr>\n",
       "      <th>57423</th>\n",
       "      <td>26191d027d5da9d1bd89d107a8c6a18a2fb46beff4cba2...</td>\n",
       "      <td>f0f8e64b802686324e9a8dd09398e607951e13e081259c...</td>\n",
       "      <td>202204</td>\n",
       "      <td>2</td>\n",
       "      <td>5</td>\n",
       "      <td>1</td>\n",
       "      <td>99</td>\n",
       "      <td>8</td>\n",
       "      <td>99</td>\n",
       "      <td>1</td>\n",
       "      <td>99.0</td>\n",
       "      <td>5.0</td>\n",
       "      <td>NaN</td>\n",
       "      <td>NaN</td>\n",
       "      <td>_</td>\n",
       "    </tr>\n",
       "    <tr>\n",
       "      <th>57424</th>\n",
       "      <td>26191d027d5da9d1bd89d107a8c6a18a2fb46beff4cba2...</td>\n",
       "      <td>f0f8e64b802686324e9a8dd09398e607951e13e081259c...</td>\n",
       "      <td>202202</td>\n",
       "      <td>2</td>\n",
       "      <td>4</td>\n",
       "      <td>1</td>\n",
       "      <td>99</td>\n",
       "      <td>4</td>\n",
       "      <td>99</td>\n",
       "      <td>1</td>\n",
       "      <td>99.0</td>\n",
       "      <td>5.0</td>\n",
       "      <td>NaN</td>\n",
       "      <td>NaN</td>\n",
       "      <td>_</td>\n",
       "    </tr>\n",
       "    <tr>\n",
       "      <th>57528</th>\n",
       "      <td>399a7ef0cd32a971205327d6be0218cfd6efe3df8d091d...</td>\n",
       "      <td>065ad02c278442b9db83a23faa97bda59de3f505063ff8...</td>\n",
       "      <td>202204</td>\n",
       "      <td>2</td>\n",
       "      <td>8</td>\n",
       "      <td>1</td>\n",
       "      <td>99</td>\n",
       "      <td>6</td>\n",
       "      <td>99</td>\n",
       "      <td>1</td>\n",
       "      <td>99.0</td>\n",
       "      <td>5.0</td>\n",
       "      <td>NaN</td>\n",
       "      <td>NaN</td>\n",
       "      <td>_</td>\n",
       "    </tr>\n",
       "    <tr>\n",
       "      <th>57530</th>\n",
       "      <td>399a7ef0cd32a971205327d6be0218cfd6efe3df8d091d...</td>\n",
       "      <td>065ad02c278442b9db83a23faa97bda59de3f505063ff8...</td>\n",
       "      <td>202205</td>\n",
       "      <td>2</td>\n",
       "      <td>8</td>\n",
       "      <td>1</td>\n",
       "      <td>99</td>\n",
       "      <td>6</td>\n",
       "      <td>99</td>\n",
       "      <td>1</td>\n",
       "      <td>99.0</td>\n",
       "      <td>5.0</td>\n",
       "      <td>NaN</td>\n",
       "      <td>NaN</td>\n",
       "      <td>_</td>\n",
       "    </tr>\n",
       "  </tbody>\n",
       "</table>\n",
       "<p>322 rows × 15 columns</p>\n",
       "</div>"
      ],
      "text/plain": [
       "                                                    고객번호  \\\n",
       "103    a1e479c7b399b17795611e49aa97b604060b171fbec43a...   \n",
       "104    a1e479c7b399b17795611e49aa97b604060b171fbec43a...   \n",
       "105    a1e479c7b399b17795611e49aa97b604060b171fbec43a...   \n",
       "899    27e05f5ccfe64b594add89dc14e72a88407c995e38d811...   \n",
       "901    27e05f5ccfe64b594add89dc14e72a88407c995e38d811...   \n",
       "...                                                  ...   \n",
       "57422  26191d027d5da9d1bd89d107a8c6a18a2fb46beff4cba2...   \n",
       "57423  26191d027d5da9d1bd89d107a8c6a18a2fb46beff4cba2...   \n",
       "57424  26191d027d5da9d1bd89d107a8c6a18a2fb46beff4cba2...   \n",
       "57528  399a7ef0cd32a971205327d6be0218cfd6efe3df8d091d...   \n",
       "57530  399a7ef0cd32a971205327d6be0218cfd6efe3df8d091d...   \n",
       "\n",
       "                                                    계좌번호  고객정보기준년월  성별  연령대  \\\n",
       "103    82434b1fa9cd929f68fde4738e9b72accf08cbf473054e...    202204   1   99   \n",
       "104    82434b1fa9cd929f68fde4738e9b72accf08cbf473054e...    202203   1   99   \n",
       "105    82434b1fa9cd929f68fde4738e9b72accf08cbf473054e...    202205   1   99   \n",
       "899    f5e5202344818b84bb42ffe4ed1a6724a27e4cbbb42537...    202204   1    6   \n",
       "901    f5e5202344818b84bb42ffe4ed1a6724a27e4cbbb42537...    202205   1    6   \n",
       "...                                                  ...       ...  ..  ...   \n",
       "57422  f0f8e64b802686324e9a8dd09398e607951e13e081259c...    202201   2    4   \n",
       "57423  f0f8e64b802686324e9a8dd09398e607951e13e081259c...    202204   2    5   \n",
       "57424  f0f8e64b802686324e9a8dd09398e607951e13e081259c...    202202   2    4   \n",
       "57528  065ad02c278442b9db83a23faa97bda59de3f505063ff8...    202204   2    8   \n",
       "57530  065ad02c278442b9db83a23faa97bda59de3f505063ff8...    202205   2    8   \n",
       "\n",
       "       고객자산구간코드  주거래상품군  LIFESTAGE세그먼트코드  고객등급코드  총투자기간세그먼트코드  보유상품유형세그먼트코드  \\\n",
       "103           1      99                9      99            1          99.0   \n",
       "104           1      99                9      99            1          99.0   \n",
       "105           1      99                9      99            1          99.0   \n",
       "899           1      99                5      99            1          99.0   \n",
       "901           1      99                5      99            1          99.0   \n",
       "...         ...     ...              ...     ...          ...           ...   \n",
       "57422         1      99                4      99            1          99.0   \n",
       "57423         1      99                8      99            1          99.0   \n",
       "57424         1      99                4      99            1          99.0   \n",
       "57528         1      99                6      99            1          99.0   \n",
       "57530         1      99                6      99            1          99.0   \n",
       "\n",
       "       충성도세그먼트코드  주거래업종구분코드  자산기준주식거래유형코드 기본주식거래유형코드  \n",
       "103          5.0        NaN           NaN        _    \n",
       "104          5.0        NaN           NaN        _    \n",
       "105          5.0        NaN           NaN        _    \n",
       "899          5.0        NaN           NaN        _    \n",
       "901          5.0        NaN           NaN        _    \n",
       "...          ...        ...           ...        ...  \n",
       "57422        5.0        NaN           NaN        _    \n",
       "57423        5.0        NaN           NaN        _    \n",
       "57424        5.0        NaN           NaN        _    \n",
       "57528        5.0        NaN           NaN        _    \n",
       "57530        5.0        NaN           NaN        _    \n",
       "\n",
       "[322 rows x 15 columns]"
      ]
     },
     "execution_count": 15,
     "metadata": {},
     "output_type": "execute_result"
    }
   ],
   "source": [
    "ko2[ko2['주거래상품군'] == 99]"
   ]
  },
  {
   "cell_type": "code",
   "execution_count": null,
   "metadata": {},
   "outputs": [],
   "source": []
  },
  {
   "cell_type": "code",
   "execution_count": 9,
   "metadata": {},
   "outputs": [
    {
     "data": {
      "text/html": [
       "<div>\n",
       "<style scoped>\n",
       "    .dataframe tbody tr th:only-of-type {\n",
       "        vertical-align: middle;\n",
       "    }\n",
       "\n",
       "    .dataframe tbody tr th {\n",
       "        vertical-align: top;\n",
       "    }\n",
       "\n",
       "    .dataframe thead th {\n",
       "        text-align: right;\n",
       "    }\n",
       "</style>\n",
       "<table border=\"1\" class=\"dataframe\">\n",
       "  <thead>\n",
       "    <tr style=\"text-align: right;\">\n",
       "      <th></th>\n",
       "      <th>계좌번호</th>\n",
       "      <th>국내 주식 거래횟수</th>\n",
       "    </tr>\n",
       "  </thead>\n",
       "  <tbody>\n",
       "    <tr>\n",
       "      <th>0</th>\n",
       "      <td>0000b53f15d9484a62a745bdb02cd5f27796ba07c1bddc...</td>\n",
       "      <td>2</td>\n",
       "    </tr>\n",
       "    <tr>\n",
       "      <th>1</th>\n",
       "      <td>00086aa946369d1c75182dffd43bd4a34f3abc1ddeba03...</td>\n",
       "      <td>685</td>\n",
       "    </tr>\n",
       "    <tr>\n",
       "      <th>2</th>\n",
       "      <td>003b998c70775d3f079d89ed932345ef3276d2a35d93a5...</td>\n",
       "      <td>47</td>\n",
       "    </tr>\n",
       "    <tr>\n",
       "      <th>3</th>\n",
       "      <td>0041e009e19878cd52dca944d43ab4a0492ea981425bc6...</td>\n",
       "      <td>19</td>\n",
       "    </tr>\n",
       "    <tr>\n",
       "      <th>4</th>\n",
       "      <td>006112ef04dbdc2a5e19a85e0d9a5e8b31a4ecf37b4244...</td>\n",
       "      <td>4</td>\n",
       "    </tr>\n",
       "  </tbody>\n",
       "</table>\n",
       "</div>"
      ],
      "text/plain": [
       "                                                계좌번호  국내 주식 거래횟수\n",
       "0  0000b53f15d9484a62a745bdb02cd5f27796ba07c1bddc...           2\n",
       "1  00086aa946369d1c75182dffd43bd4a34f3abc1ddeba03...         685\n",
       "2  003b998c70775d3f079d89ed932345ef3276d2a35d93a5...          47\n",
       "3  0041e009e19878cd52dca944d43ab4a0492ea981425bc6...          19\n",
       "4  006112ef04dbdc2a5e19a85e0d9a5e8b31a4ecf37b4244...           4"
      ]
     },
     "execution_count": 9,
     "metadata": {},
     "output_type": "execute_result"
    }
   ],
   "source": [
    "ko_real.head()"
   ]
  },
  {
   "cell_type": "code",
   "execution_count": 14,
   "metadata": {},
   "outputs": [
    {
     "data": {
      "text/html": [
       "<div>\n",
       "<style scoped>\n",
       "    .dataframe tbody tr th:only-of-type {\n",
       "        vertical-align: middle;\n",
       "    }\n",
       "\n",
       "    .dataframe tbody tr th {\n",
       "        vertical-align: top;\n",
       "    }\n",
       "\n",
       "    .dataframe thead th {\n",
       "        text-align: right;\n",
       "    }\n",
       "</style>\n",
       "<table border=\"1\" class=\"dataframe\">\n",
       "  <thead>\n",
       "    <tr style=\"text-align: right;\">\n",
       "      <th></th>\n",
       "      <th>고객번호</th>\n",
       "      <th>계좌번호</th>\n",
       "      <th>고객정보기준년월</th>\n",
       "      <th>성별</th>\n",
       "      <th>연령대</th>\n",
       "      <th>고객자산구간코드</th>\n",
       "      <th>주거래상품군</th>\n",
       "      <th>LIFESTAGE세그먼트코드</th>\n",
       "      <th>고객등급코드</th>\n",
       "      <th>총투자기간세그먼트코드</th>\n",
       "      <th>보유상품유형세그먼트코드</th>\n",
       "      <th>충성도세그먼트코드</th>\n",
       "      <th>주거래업종구분코드</th>\n",
       "      <th>자산기준주식거래유형코드</th>\n",
       "      <th>기본주식거래유형코드</th>\n",
       "    </tr>\n",
       "  </thead>\n",
       "  <tbody>\n",
       "    <tr>\n",
       "      <th>0</th>\n",
       "      <td>92ed7cdc3e3673226a613892c47a8eccfe602d0fbdb349...</td>\n",
       "      <td>3610f0105b67e30709e55c546c75c45b8c9d589e90fb9f...</td>\n",
       "      <td>202203</td>\n",
       "      <td>1</td>\n",
       "      <td>4</td>\n",
       "      <td>1</td>\n",
       "      <td>2</td>\n",
       "      <td>3</td>\n",
       "      <td>9</td>\n",
       "      <td>3</td>\n",
       "      <td>1.0</td>\n",
       "      <td>5.0</td>\n",
       "      <td>6.0</td>\n",
       "      <td>5.0</td>\n",
       "      <td>006</td>\n",
       "    </tr>\n",
       "    <tr>\n",
       "      <th>1</th>\n",
       "      <td>92ed7cdc3e3673226a613892c47a8eccfe602d0fbdb349...</td>\n",
       "      <td>3610f0105b67e30709e55c546c75c45b8c9d589e90fb9f...</td>\n",
       "      <td>202202</td>\n",
       "      <td>1</td>\n",
       "      <td>4</td>\n",
       "      <td>1</td>\n",
       "      <td>2</td>\n",
       "      <td>3</td>\n",
       "      <td>9</td>\n",
       "      <td>3</td>\n",
       "      <td>1.0</td>\n",
       "      <td>5.0</td>\n",
       "      <td>16.0</td>\n",
       "      <td>5.0</td>\n",
       "      <td>010</td>\n",
       "    </tr>\n",
       "    <tr>\n",
       "      <th>2</th>\n",
       "      <td>92ed7cdc3e3673226a613892c47a8eccfe602d0fbdb349...</td>\n",
       "      <td>3610f0105b67e30709e55c546c75c45b8c9d589e90fb9f...</td>\n",
       "      <td>202206</td>\n",
       "      <td>1</td>\n",
       "      <td>4</td>\n",
       "      <td>1</td>\n",
       "      <td>2</td>\n",
       "      <td>3</td>\n",
       "      <td>9</td>\n",
       "      <td>3</td>\n",
       "      <td>1.0</td>\n",
       "      <td>4.0</td>\n",
       "      <td>16.0</td>\n",
       "      <td>5.0</td>\n",
       "      <td>009</td>\n",
       "    </tr>\n",
       "    <tr>\n",
       "      <th>3</th>\n",
       "      <td>92ed7cdc3e3673226a613892c47a8eccfe602d0fbdb349...</td>\n",
       "      <td>3610f0105b67e30709e55c546c75c45b8c9d589e90fb9f...</td>\n",
       "      <td>202205</td>\n",
       "      <td>1</td>\n",
       "      <td>4</td>\n",
       "      <td>1</td>\n",
       "      <td>2</td>\n",
       "      <td>3</td>\n",
       "      <td>9</td>\n",
       "      <td>3</td>\n",
       "      <td>1.0</td>\n",
       "      <td>4.0</td>\n",
       "      <td>16.0</td>\n",
       "      <td>5.0</td>\n",
       "      <td>008</td>\n",
       "    </tr>\n",
       "    <tr>\n",
       "      <th>4</th>\n",
       "      <td>92ed7cdc3e3673226a613892c47a8eccfe602d0fbdb349...</td>\n",
       "      <td>3610f0105b67e30709e55c546c75c45b8c9d589e90fb9f...</td>\n",
       "      <td>202201</td>\n",
       "      <td>1</td>\n",
       "      <td>4</td>\n",
       "      <td>1</td>\n",
       "      <td>2</td>\n",
       "      <td>3</td>\n",
       "      <td>9</td>\n",
       "      <td>3</td>\n",
       "      <td>1.0</td>\n",
       "      <td>5.0</td>\n",
       "      <td>16.0</td>\n",
       "      <td>5.0</td>\n",
       "      <td>010</td>\n",
       "    </tr>\n",
       "    <tr>\n",
       "      <th>...</th>\n",
       "      <td>...</td>\n",
       "      <td>...</td>\n",
       "      <td>...</td>\n",
       "      <td>...</td>\n",
       "      <td>...</td>\n",
       "      <td>...</td>\n",
       "      <td>...</td>\n",
       "      <td>...</td>\n",
       "      <td>...</td>\n",
       "      <td>...</td>\n",
       "      <td>...</td>\n",
       "      <td>...</td>\n",
       "      <td>...</td>\n",
       "      <td>...</td>\n",
       "      <td>...</td>\n",
       "    </tr>\n",
       "    <tr>\n",
       "      <th>59070</th>\n",
       "      <td>2be1d24c654b9730408b82716d21fb5ec27377dd3b5ca3...</td>\n",
       "      <td>3fb721c5a808e4e848adebcf80cb1c9badff6382033b45...</td>\n",
       "      <td>202201</td>\n",
       "      <td>2</td>\n",
       "      <td>5</td>\n",
       "      <td>1</td>\n",
       "      <td>2</td>\n",
       "      <td>8</td>\n",
       "      <td>9</td>\n",
       "      <td>1</td>\n",
       "      <td>1.0</td>\n",
       "      <td>5.0</td>\n",
       "      <td>16.0</td>\n",
       "      <td>5.0</td>\n",
       "      <td>010</td>\n",
       "    </tr>\n",
       "    <tr>\n",
       "      <th>59071</th>\n",
       "      <td>2be1d24c654b9730408b82716d21fb5ec27377dd3b5ca3...</td>\n",
       "      <td>3fb721c5a808e4e848adebcf80cb1c9badff6382033b45...</td>\n",
       "      <td>202204</td>\n",
       "      <td>2</td>\n",
       "      <td>5</td>\n",
       "      <td>1</td>\n",
       "      <td>2</td>\n",
       "      <td>8</td>\n",
       "      <td>9</td>\n",
       "      <td>1</td>\n",
       "      <td>1.0</td>\n",
       "      <td>5.0</td>\n",
       "      <td>16.0</td>\n",
       "      <td>5.0</td>\n",
       "      <td>008</td>\n",
       "    </tr>\n",
       "    <tr>\n",
       "      <th>59072</th>\n",
       "      <td>2be1d24c654b9730408b82716d21fb5ec27377dd3b5ca3...</td>\n",
       "      <td>3fb721c5a808e4e848adebcf80cb1c9badff6382033b45...</td>\n",
       "      <td>202202</td>\n",
       "      <td>2</td>\n",
       "      <td>5</td>\n",
       "      <td>1</td>\n",
       "      <td>2</td>\n",
       "      <td>8</td>\n",
       "      <td>9</td>\n",
       "      <td>1</td>\n",
       "      <td>1.0</td>\n",
       "      <td>5.0</td>\n",
       "      <td>16.0</td>\n",
       "      <td>5.0</td>\n",
       "      <td>010</td>\n",
       "    </tr>\n",
       "    <tr>\n",
       "      <th>59073</th>\n",
       "      <td>2be1d24c654b9730408b82716d21fb5ec27377dd3b5ca3...</td>\n",
       "      <td>3fb721c5a808e4e848adebcf80cb1c9badff6382033b45...</td>\n",
       "      <td>202206</td>\n",
       "      <td>2</td>\n",
       "      <td>5</td>\n",
       "      <td>1</td>\n",
       "      <td>2</td>\n",
       "      <td>8</td>\n",
       "      <td>9</td>\n",
       "      <td>1</td>\n",
       "      <td>1.0</td>\n",
       "      <td>5.0</td>\n",
       "      <td>16.0</td>\n",
       "      <td>5.0</td>\n",
       "      <td>010</td>\n",
       "    </tr>\n",
       "    <tr>\n",
       "      <th>59074</th>\n",
       "      <td>2be1d24c654b9730408b82716d21fb5ec27377dd3b5ca3...</td>\n",
       "      <td>3fb721c5a808e4e848adebcf80cb1c9badff6382033b45...</td>\n",
       "      <td>202203</td>\n",
       "      <td>2</td>\n",
       "      <td>5</td>\n",
       "      <td>1</td>\n",
       "      <td>2</td>\n",
       "      <td>8</td>\n",
       "      <td>9</td>\n",
       "      <td>1</td>\n",
       "      <td>1.0</td>\n",
       "      <td>5.0</td>\n",
       "      <td>13.0</td>\n",
       "      <td>5.0</td>\n",
       "      <td>006</td>\n",
       "    </tr>\n",
       "  </tbody>\n",
       "</table>\n",
       "<p>35207 rows × 15 columns</p>\n",
       "</div>"
      ],
      "text/plain": [
       "                                                    고객번호  \\\n",
       "0      92ed7cdc3e3673226a613892c47a8eccfe602d0fbdb349...   \n",
       "1      92ed7cdc3e3673226a613892c47a8eccfe602d0fbdb349...   \n",
       "2      92ed7cdc3e3673226a613892c47a8eccfe602d0fbdb349...   \n",
       "3      92ed7cdc3e3673226a613892c47a8eccfe602d0fbdb349...   \n",
       "4      92ed7cdc3e3673226a613892c47a8eccfe602d0fbdb349...   \n",
       "...                                                  ...   \n",
       "59070  2be1d24c654b9730408b82716d21fb5ec27377dd3b5ca3...   \n",
       "59071  2be1d24c654b9730408b82716d21fb5ec27377dd3b5ca3...   \n",
       "59072  2be1d24c654b9730408b82716d21fb5ec27377dd3b5ca3...   \n",
       "59073  2be1d24c654b9730408b82716d21fb5ec27377dd3b5ca3...   \n",
       "59074  2be1d24c654b9730408b82716d21fb5ec27377dd3b5ca3...   \n",
       "\n",
       "                                                    계좌번호  고객정보기준년월  성별  연령대  \\\n",
       "0      3610f0105b67e30709e55c546c75c45b8c9d589e90fb9f...    202203   1    4   \n",
       "1      3610f0105b67e30709e55c546c75c45b8c9d589e90fb9f...    202202   1    4   \n",
       "2      3610f0105b67e30709e55c546c75c45b8c9d589e90fb9f...    202206   1    4   \n",
       "3      3610f0105b67e30709e55c546c75c45b8c9d589e90fb9f...    202205   1    4   \n",
       "4      3610f0105b67e30709e55c546c75c45b8c9d589e90fb9f...    202201   1    4   \n",
       "...                                                  ...       ...  ..  ...   \n",
       "59070  3fb721c5a808e4e848adebcf80cb1c9badff6382033b45...    202201   2    5   \n",
       "59071  3fb721c5a808e4e848adebcf80cb1c9badff6382033b45...    202204   2    5   \n",
       "59072  3fb721c5a808e4e848adebcf80cb1c9badff6382033b45...    202202   2    5   \n",
       "59073  3fb721c5a808e4e848adebcf80cb1c9badff6382033b45...    202206   2    5   \n",
       "59074  3fb721c5a808e4e848adebcf80cb1c9badff6382033b45...    202203   2    5   \n",
       "\n",
       "       고객자산구간코드  주거래상품군  LIFESTAGE세그먼트코드  고객등급코드  총투자기간세그먼트코드  보유상품유형세그먼트코드  \\\n",
       "0             1       2                3       9            3           1.0   \n",
       "1             1       2                3       9            3           1.0   \n",
       "2             1       2                3       9            3           1.0   \n",
       "3             1       2                3       9            3           1.0   \n",
       "4             1       2                3       9            3           1.0   \n",
       "...         ...     ...              ...     ...          ...           ...   \n",
       "59070         1       2                8       9            1           1.0   \n",
       "59071         1       2                8       9            1           1.0   \n",
       "59072         1       2                8       9            1           1.0   \n",
       "59073         1       2                8       9            1           1.0   \n",
       "59074         1       2                8       9            1           1.0   \n",
       "\n",
       "       충성도세그먼트코드  주거래업종구분코드  자산기준주식거래유형코드 기본주식거래유형코드  \n",
       "0            5.0        6.0           5.0        006  \n",
       "1            5.0       16.0           5.0        010  \n",
       "2            4.0       16.0           5.0        009  \n",
       "3            4.0       16.0           5.0        008  \n",
       "4            5.0       16.0           5.0        010  \n",
       "...          ...        ...           ...        ...  \n",
       "59070        5.0       16.0           5.0        010  \n",
       "59071        5.0       16.0           5.0        008  \n",
       "59072        5.0       16.0           5.0        010  \n",
       "59073        5.0       16.0           5.0        010  \n",
       "59074        5.0       13.0           5.0        006  \n",
       "\n",
       "[35207 rows x 15 columns]"
      ]
     },
     "execution_count": 14,
     "metadata": {},
     "output_type": "execute_result"
    }
   ],
   "source": [
    "ko2"
   ]
  },
  {
   "cell_type": "markdown",
   "metadata": {
    "id": "iZ7dMIojlHxE"
   },
   "source": [
    "&nbsp;"
   ]
  },
  {
   "cell_type": "markdown",
   "metadata": {
    "id": "wYsWPkYDlJOm"
   },
   "source": [
    "## 각각의 DataFrame 에서 6개월간 변하지 않는 값 + 실제 사용할 열 추가"
   ]
  },
  {
   "cell_type": "markdown",
   "metadata": {
    "id": "4hEI-KJClq8M"
   },
   "source": [
    "- 데이터가 1월~6월까지 변동이 있는 열도 존재하고 변동이 없는 열도 존재\n",
    "- 변동이 없는 열은 그대로 사용하고 변동이 있는 열은 가장 최근에 데이터를 가져옴"
   ]
  },
  {
   "cell_type": "code",
   "execution_count": 13,
   "metadata": {
    "id": "1rM5MsvdlBzK"
   },
   "outputs": [],
   "source": [
    "def info_get_col(info_df, only_df):\n",
    "\n",
    "    sum_df = pd.DataFrame()\n",
    "\n",
    "    for i in tqdm(only_df['계좌번호']):\n",
    "        sep = info_df.loc[info_df['act_no'].isin([i])]\n",
    "        real_col_list = []\n",
    "\n",
    "        for col in sep.columns:  # 6개월간 변동이 없는 열 그대로 선택\n",
    "            if len(sep[col].unique()) == 1:\n",
    "                real_col_list.append(col)\n",
    "\n",
    "        # 6개월 안에 변동이 생기는 열 중에서 사용할 열을 가장 최근의 데이터로 가져옴\n",
    "        real_col = list(set(real_col_list + ['cus_age_stn_cd', 'cus_aet_stn_cd', 'pft_amt_stn_cd', 'loy_sgm_cd', 'lsg_sgm_cd', 'mrz_pdt_tp_sgm_cd', 'tco_cus_grd_cd', 'tot_ivs_te_sgm_cd', 'mrz_mkt_dit_cd', 'mrz_btp_dit_cd', 'aet_bse_stk_trd_tp_cd']))\n",
    "        new_sep = sep.loc[sep['bse_ym'] == sep['bse_ym'].max(), real_col].copy()\n",
    "\n",
    "        sum_df = pd.concat([sum_df,new_sep], axis=0)\n",
    "        sum_df.reset_index(inplace=True, drop=True)\n",
    "\n",
    "    return sum_df"
   ]
  },
  {
   "cell_type": "code",
   "execution_count": 15,
   "metadata": {
    "colab": {
     "base_uri": "https://localhost:8080/"
    },
    "executionInfo": {
     "elapsed": 65835,
     "status": "ok",
     "timestamp": 1663305741117,
     "user": {
      "displayName": "최재혁",
      "userId": "03991607876633756912"
     },
     "user_tz": -540
    },
    "id": "KYcLlK9xlUjc",
    "outputId": "a22671d9-1dd3-41fe-e8c5-ac984658ae2a"
   },
   "outputs": [
    {
     "name": "stderr",
     "output_type": "stream",
     "text": [
      "100%|██████████████████████████████████████████████████████████████████████████████| 5973/5973 [01:02<00:00, 96.33it/s]\n",
      "100%|███████████████████████████████████████████████████████████████████████████████| 324/324 [00:02<00:00, 130.13it/s]\n",
      "100%|███████████████████████████████████████████████████████████████████████████████| 670/670 [00:04<00:00, 139.45it/s]\n"
     ]
    }
   ],
   "source": [
    "pre_ko_df = info_get_col(ko, only_ko_df)\n",
    "pre_os_df = info_get_col(os, only_os_df)\n",
    "pre_ko_os_df = info_get_col(ko_os, all_of_df)"
   ]
  },
  {
   "cell_type": "code",
   "execution_count": 16,
   "metadata": {},
   "outputs": [
    {
     "data": {
      "text/html": [
       "<div>\n",
       "<style scoped>\n",
       "    .dataframe tbody tr th:only-of-type {\n",
       "        vertical-align: middle;\n",
       "    }\n",
       "\n",
       "    .dataframe tbody tr th {\n",
       "        vertical-align: top;\n",
       "    }\n",
       "\n",
       "    .dataframe thead th {\n",
       "        text-align: right;\n",
       "    }\n",
       "</style>\n",
       "<table border=\"1\" class=\"dataframe\">\n",
       "  <thead>\n",
       "    <tr style=\"text-align: right;\">\n",
       "      <th></th>\n",
       "      <th>계좌번호</th>\n",
       "      <th>국내 주식 거래횟수</th>\n",
       "    </tr>\n",
       "  </thead>\n",
       "  <tbody>\n",
       "    <tr>\n",
       "      <th>0</th>\n",
       "      <td>0000b53f15d9484a62a745bdb02cd5f27796ba07c1bddc...</td>\n",
       "      <td>2</td>\n",
       "    </tr>\n",
       "    <tr>\n",
       "      <th>1</th>\n",
       "      <td>00086aa946369d1c75182dffd43bd4a34f3abc1ddeba03...</td>\n",
       "      <td>685</td>\n",
       "    </tr>\n",
       "    <tr>\n",
       "      <th>2</th>\n",
       "      <td>003b998c70775d3f079d89ed932345ef3276d2a35d93a5...</td>\n",
       "      <td>47</td>\n",
       "    </tr>\n",
       "    <tr>\n",
       "      <th>3</th>\n",
       "      <td>0041e009e19878cd52dca944d43ab4a0492ea981425bc6...</td>\n",
       "      <td>19</td>\n",
       "    </tr>\n",
       "    <tr>\n",
       "      <th>4</th>\n",
       "      <td>006112ef04dbdc2a5e19a85e0d9a5e8b31a4ecf37b4244...</td>\n",
       "      <td>4</td>\n",
       "    </tr>\n",
       "    <tr>\n",
       "      <th>...</th>\n",
       "      <td>...</td>\n",
       "      <td>...</td>\n",
       "    </tr>\n",
       "    <tr>\n",
       "      <th>6638</th>\n",
       "      <td>ffbdd447034531f4364227bcf3959a210e1011f97e0dd4...</td>\n",
       "      <td>78</td>\n",
       "    </tr>\n",
       "    <tr>\n",
       "      <th>6639</th>\n",
       "      <td>ffc0e6b3eaf8b59f8c471e4d6d68063106dc5bd2414ca5...</td>\n",
       "      <td>1</td>\n",
       "    </tr>\n",
       "    <tr>\n",
       "      <th>6640</th>\n",
       "      <td>ffd96d859770d62800f6f654fce913c50f9cbf809efcc8...</td>\n",
       "      <td>1</td>\n",
       "    </tr>\n",
       "    <tr>\n",
       "      <th>6641</th>\n",
       "      <td>ffdb8a101b04d93c8b09ddce17a7be84d0179908f3f4cc...</td>\n",
       "      <td>3</td>\n",
       "    </tr>\n",
       "    <tr>\n",
       "      <th>6642</th>\n",
       "      <td>ffe9a305443270d8c90b0c1eb100ea90699f4fcbaaf727...</td>\n",
       "      <td>1</td>\n",
       "    </tr>\n",
       "  </tbody>\n",
       "</table>\n",
       "<p>5973 rows × 2 columns</p>\n",
       "</div>"
      ],
      "text/plain": [
       "                                                   계좌번호  국내 주식 거래횟수\n",
       "0     0000b53f15d9484a62a745bdb02cd5f27796ba07c1bddc...           2\n",
       "1     00086aa946369d1c75182dffd43bd4a34f3abc1ddeba03...         685\n",
       "2     003b998c70775d3f079d89ed932345ef3276d2a35d93a5...          47\n",
       "3     0041e009e19878cd52dca944d43ab4a0492ea981425bc6...          19\n",
       "4     006112ef04dbdc2a5e19a85e0d9a5e8b31a4ecf37b4244...           4\n",
       "...                                                 ...         ...\n",
       "6638  ffbdd447034531f4364227bcf3959a210e1011f97e0dd4...          78\n",
       "6639  ffc0e6b3eaf8b59f8c471e4d6d68063106dc5bd2414ca5...           1\n",
       "6640  ffd96d859770d62800f6f654fce913c50f9cbf809efcc8...           1\n",
       "6641  ffdb8a101b04d93c8b09ddce17a7be84d0179908f3f4cc...           3\n",
       "6642  ffe9a305443270d8c90b0c1eb100ea90699f4fcbaaf727...           1\n",
       "\n",
       "[5973 rows x 2 columns]"
      ]
     },
     "execution_count": 16,
     "metadata": {},
     "output_type": "execute_result"
    }
   ],
   "source": [
    "only_ko_df"
   ]
  },
  {
   "cell_type": "markdown",
   "metadata": {
    "id": "GzlVxVnNlW2j"
   },
   "source": [
    "- 최소의 열을 가진 고객군을 기준으로 다른 고객군 열 맞추기"
   ]
  },
  {
   "cell_type": "code",
   "execution_count": null,
   "metadata": {
    "colab": {
     "base_uri": "https://localhost:8080/"
    },
    "executionInfo": {
     "elapsed": 262,
     "status": "ok",
     "timestamp": 1663305746071,
     "user": {
      "displayName": "최재혁",
      "userId": "03991607876633756912"
     },
     "user_tz": -540
    },
    "id": "AJ6NXD-nZo6M",
    "outputId": "2173a435-bb13-474e-df2c-ed5a173b1ca6"
   },
   "outputs": [
    {
     "name": "stdout",
     "output_type": "stream",
     "text": [
      "국내 주식 고객군 :  21\n",
      "해외 주식 고객군 :  20\n",
      "국내 + 해외 주식 고객군 :  21\n"
     ]
    }
   ],
   "source": [
    "print('국내 주식 고객군 : ',len(pre_ko_df.columns))\n",
    "print('해외 주식 고객군 : ',len(pre_os_df.columns)) # 기준\n",
    "print('국내 + 해외 주식 고객군 : ',len(pre_ko_os_df.columns))\n",
    "\n",
    "\n",
    "pre_ko_df = pre_ko_df[pre_os_df.columns]\n",
    "pre_ko_os_df = pre_ko_os_df[pre_os_df.columns]"
   ]
  },
  {
   "cell_type": "code",
   "execution_count": null,
   "metadata": {},
   "outputs": [],
   "source": []
  },
  {
   "cell_type": "markdown",
   "metadata": {
    "id": "dpY9rs0wloAC"
   },
   "source": [
    "&nbsp;"
   ]
  },
  {
   "cell_type": "markdown",
   "metadata": {
    "id": "6gByhTp9l4wq"
   },
   "source": [
    "## 변동률 계산"
   ]
  },
  {
   "cell_type": "markdown",
   "metadata": {
    "id": "n2J_MOy0l7WD"
   },
   "source": [
    "- 고객의 계좌에 자산은 1월~6월까지 변동이 있는 데이터입니다.\n",
    "- 변동되는 데이터를 사용하기보다는 1~6월까지의 자산을 대표하는 변수를 생성하기 위해 변동률을 계산합니다.\n",
    "- 실제 데이터에서는 1월이 NAN 이거나 2월까지 NAN인 항목이 존재 첫 자산이 등록된 것을 기준으로 첫 자산 대비 마지막 자산의 변동률을 계산했습니다.\n",
    "- 첫 값과 끝값이 모두 0이면 0으로\n",
    "\n",
    "**공식**\n",
    "- t : 계좌에 첫 자산\n",
    "- end : 6월 계좌 자산\n",
    "\n",
    "- $ \\frac{end-t}{t} * 100 $\n"
   ]
  },
  {
   "cell_type": "markdown",
   "metadata": {
    "id": "oxxI5Erpm20y"
   },
   "source": [
    "&nbsp;"
   ]
  },
  {
   "cell_type": "markdown",
   "metadata": {
    "id": "J8_1O8tnmxQt"
   },
   "source": [
    "- 고객 자산정보 가져오기"
   ]
  },
  {
   "cell_type": "code",
   "execution_count": null,
   "metadata": {
    "id": "1c4s1LFDlkjF"
   },
   "outputs": [],
   "source": [
    "asset_ko = sqldf('select distinct * from pre_ko_df as a left join cus_tot_data as b on a.cus_no = b.cus_no AND a.act_no = b.act_no')\n",
    "asset_ko = asset_ko.loc[:, ~asset_ko.T.duplicated()]\n",
    "\n",
    "asset_os_df = sqldf('select distinct * from pre_os_df as a left join cus_tot_data as b on a.cus_no = b.cus_no AND a.act_no = b.act_no')\n",
    "asset_os_df = asset_os_df.loc[:, ~asset_os_df.T.duplicated()]\n",
    "\n",
    "asset_ko_os_df = sqldf('select distinct * from pre_ko_os_df as a left join cus_tot_data as b on a.cus_no = b.cus_no AND a.act_no = b.act_no')\n",
    "asset_ko_os_df = asset_ko_os_df.loc[:, ~asset_ko_os_df.T.duplicated()]"
   ]
  },
  {
   "cell_type": "markdown",
   "metadata": {
    "id": "Z5kDfUZlnJlR"
   },
   "source": [
    "- 변동률 계산"
   ]
  },
  {
   "cell_type": "code",
   "execution_count": null,
   "metadata": {
    "colab": {
     "base_uri": "https://localhost:8080/"
    },
    "executionInfo": {
     "elapsed": 681,
     "status": "ok",
     "timestamp": 1663305754427,
     "user": {
      "displayName": "최재혁",
      "userId": "03991607876633756912"
     },
     "user_tz": -540
    },
    "id": "uLKWoBw4nHem",
    "outputId": "718e1d7b-cbcd-4cef-953c-827d9c72fab9"
   },
   "outputs": [
    {
     "name": "stderr",
     "output_type": "stream",
     "text": [
      "100%|██████████| 5973/5973 [00:00<00:00, 31112.60it/s]\n",
      "100%|██████████| 324/324 [00:00<00:00, 22854.55it/s]\n",
      "100%|██████████| 670/670 [00:00<00:00, 26719.63it/s]\n"
     ]
    }
   ],
   "source": [
    "def make_rate(df):\n",
    "    rate = []\n",
    "    last_name = 'tot_aet_tld_rnd_202206'\n",
    "    aet_name = 'tot_aet_tld_rnd_20220'\n",
    "\n",
    "    for i in tqdm(range(len(df))):\n",
    "        d = 1\n",
    "        while True:\n",
    "            if np.isnan(df[aet_name + str(d)][i]) == True:\n",
    "                d+=1\n",
    "            else:\n",
    "                rate.append((df[last_name][i] - df[aet_name + str(d)][i]) / df[aet_name + str(d)][i] * 100)\n",
    "                break\n",
    "\n",
    "    return [0 if math.isnan(x) else x for x in rate]\n",
    "\n",
    "\n",
    "asset_ko['변동률'] = make_rate(asset_ko)\n",
    "asset_os_df['변동률'] = make_rate(asset_os_df)\n",
    "asset_ko_os_df['변동률'] = make_rate(asset_ko_os_df)"
   ]
  },
  {
   "cell_type": "markdown",
   "metadata": {
    "id": "NDClZi0snPqu"
   },
   "source": [
    "&nbsp;"
   ]
  },
  {
   "cell_type": "markdown",
   "metadata": {
    "id": "a9vQTepFnQsY"
   },
   "source": [
    "## 열이름 변경, 거래횟수 데이터 추가"
   ]
  },
  {
   "cell_type": "code",
   "execution_count": null,
   "metadata": {
    "id": "jze62JT9nLYL"
   },
   "outputs": [],
   "source": [
    "asset_ko = asset_ko.rename(columns={'cus_no' :'고객번호',\n",
    "                          'tco_cus_grd_cd' : '고객등급코드',\n",
    "                          'fst_act_opn_dt' : '최초계좌개설일',\n",
    "                          'act_no' : '계좌번호',\n",
    "                          'hld_pdt_tp_sgm_cd' : '보유상품유형세그먼트코드',\n",
    "                          'tot_ivs_te_sgm_cd' : '총투자기간세그먼트코드',\n",
    "                          'mrz_pdt_tp_sgm_cd' : '주거래상품군',\n",
    "                          'cus_aet_stn_cd' : '고객자산구간코드',\n",
    "                          'lsg_sgm_cd' : 'LIFESTAGE세그먼트코드',\n",
    "                          'sex_dit_cd' : '성별',\n",
    "                          'aet_bse_stk_trd_tp_cd' : '자산기준주식거래유형코드',\n",
    "                          'mrz_btp_dit_cd' : '주거래업종구분코드',\n",
    "                          'mrz_mkt_dit_cd' : '주거래시장구분코드',\n",
    "                          'cus_age_stn_cd': '연령대',\n",
    "                          'pft_amt_stn_cd' : '수익금액구간코드',\n",
    "                          'loy_sgm_cd' : '충성도세그먼트코드',\n",
    "                          'mts_mm_access_type' : 'MTS월단위접속패턴',\n",
    "                          'tot_aet_tld_rnd_202201' : '2022년1월총자산',\n",
    "                          'tot_aet_tld_rnd_202202' : '2022년2월총자산',\n",
    "                          'tot_aet_tld_rnd_202203' : '2022년3월총자산',\n",
    "                          'tot_aet_tld_rnd_202204' : '2022년4월총자산',\n",
    "                          'tot_aet_tld_rnd_202205' : '2022년5월총자산',\n",
    "                          'tot_aet_tld_rnd_202206' : '2022년6월총자산'\n",
    "                          })\n",
    "\n",
    "asset_os_df = asset_os_df.rename(columns={'cus_no' :'고객번호',\n",
    "                          'tco_cus_grd_cd' : '고객등급코드',\n",
    "                          'fst_act_opn_dt' : '최초계좌개설일',\n",
    "                          'act_no' : '계좌번호',\n",
    "                          'hld_pdt_tp_sgm_cd' : '보유상품유형세그먼트코드',\n",
    "                          'tot_ivs_te_sgm_cd' : '총투자기간세그먼트코드',\n",
    "                          'mrz_pdt_tp_sgm_cd' : '주거래상품군',\n",
    "                          'cus_aet_stn_cd' : '고객자산구간코드',\n",
    "                          'lsg_sgm_cd' : 'LIFESTAGE세그먼트코드',\n",
    "                          'sex_dit_cd' : '성별',\n",
    "                          'aet_bse_stk_trd_tp_cd' : '자산기준주식거래유형코드',\n",
    "                          'mrz_btp_dit_cd' : '주거래업종구분코드',\n",
    "                          'mrz_mkt_dit_cd' : '주거래시장구분코드',\n",
    "                          'cus_age_stn_cd': '연령대',\n",
    "                          'pft_amt_stn_cd' : '수익금액구간코드',\n",
    "                          'loy_sgm_cd' : '충성도세그먼트코드',\n",
    "                          'mts_mm_access_type' : 'MTS월단위접속패턴',\n",
    "                          'tot_aet_tld_rnd_202201' : '2022년1월총자산',\n",
    "                          'tot_aet_tld_rnd_202202' : '2022년2월총자산',\n",
    "                          'tot_aet_tld_rnd_202203' : '2022년3월총자산',\n",
    "                          'tot_aet_tld_rnd_202204' : '2022년4월총자산',\n",
    "                          'tot_aet_tld_rnd_202205' : '2022년5월총자산',\n",
    "                          'tot_aet_tld_rnd_202206' : '2022년6월총자산'\n",
    "                          })\n",
    "\n",
    "asset_ko_os_df = asset_ko_os_df.rename(columns={'cus_no' :'고객번호',\n",
    "                          'tco_cus_grd_cd' : '고객등급코드',\n",
    "                          'fst_act_opn_dt' : '최초계좌개설일',\n",
    "                          'act_no' : '계좌번호',\n",
    "                          'hld_pdt_tp_sgm_cd' : '보유상품유형세그먼트코드',\n",
    "                          'tot_ivs_te_sgm_cd' : '총투자기간세그먼트코드',\n",
    "                          'mrz_pdt_tp_sgm_cd' : '주거래상품군',\n",
    "                          'cus_aet_stn_cd' : '고객자산구간코드',\n",
    "                          'lsg_sgm_cd' : 'LIFESTAGE세그먼트코드',\n",
    "                          'sex_dit_cd' : '성별',\n",
    "                          'aet_bse_stk_trd_tp_cd' : '자산기준주식거래유형코드',\n",
    "                          'mrz_btp_dit_cd' : '주거래업종구분코드',\n",
    "                          'mrz_mkt_dit_cd' : '주거래시장구분코드',\n",
    "                          'cus_age_stn_cd': '연령대',\n",
    "                          'pft_amt_stn_cd' : '수익금액구간코드',\n",
    "                          'loy_sgm_cd' : '충성도세그먼트코드',\n",
    "                          'mts_mm_access_type' : 'MTS월단위접속패턴',\n",
    "                          'tot_aet_tld_rnd_202201' : '2022년1월총자산',\n",
    "                          'tot_aet_tld_rnd_202202' : '2022년2월총자산',\n",
    "                          'tot_aet_tld_rnd_202203' : '2022년3월총자산',\n",
    "                          'tot_aet_tld_rnd_202204' : '2022년4월총자산',\n",
    "                          'tot_aet_tld_rnd_202205' : '2022년5월총자산',\n",
    "                          'tot_aet_tld_rnd_202206' : '2022년6월총자산'\n",
    "                          })\n",
    "\n",
    "set_ko = pd.merge(asset_ko, only_ko_df, how='left',on='계좌번호')\n",
    "set_os = pd.merge(asset_os_df, only_os_df, how='left',on='계좌번호')\n",
    "set_ko_os = pd.merge(asset_ko_os_df, all_of_df, how='left',on='계좌번호')"
   ]
  },
  {
   "cell_type": "code",
   "execution_count": null,
   "metadata": {
    "colab": {
     "base_uri": "https://localhost:8080/",
     "height": 485
    },
    "executionInfo": {
     "elapsed": 282,
     "status": "ok",
     "timestamp": 1663305758639,
     "user": {
      "displayName": "최재혁",
      "userId": "03991607876633756912"
     },
     "user_tz": -540
    },
    "id": "-5Yn0bHbnYQO",
    "outputId": "b3fe1dbf-12cb-4939-848d-07861072baa1"
   },
   "outputs": [
    {
     "data": {
      "text/html": [
       "\n",
       "  <div id=\"df-f839259e-55c4-47eb-8f12-2d922c56d82c\">\n",
       "    <div class=\"colab-df-container\">\n",
       "      <div>\n",
       "<style scoped>\n",
       "    .dataframe tbody tr th:only-of-type {\n",
       "        vertical-align: middle;\n",
       "    }\n",
       "\n",
       "    .dataframe tbody tr th {\n",
       "        vertical-align: top;\n",
       "    }\n",
       "\n",
       "    .dataframe thead th {\n",
       "        text-align: right;\n",
       "    }\n",
       "</style>\n",
       "<table border=\"1\" class=\"dataframe\">\n",
       "  <thead>\n",
       "    <tr style=\"text-align: right;\">\n",
       "      <th></th>\n",
       "      <th>LIFESTAGE세그먼트코드</th>\n",
       "      <th>MTS월단위접속패턴</th>\n",
       "      <th>충성도세그먼트코드</th>\n",
       "      <th>자산기준주식거래유형코드</th>\n",
       "      <th>고객등급코드</th>\n",
       "      <th>stk_pdt_hld_yn</th>\n",
       "      <th>연령대</th>\n",
       "      <th>계좌번호</th>\n",
       "      <th>고객자산구간코드</th>\n",
       "      <th>수익금액구간코드</th>\n",
       "      <th>...</th>\n",
       "      <th>주거래상품군</th>\n",
       "      <th>bas_stk_trd_tp_cd</th>\n",
       "      <th>2022년1월총자산</th>\n",
       "      <th>2022년2월총자산</th>\n",
       "      <th>2022년3월총자산</th>\n",
       "      <th>2022년4월총자산</th>\n",
       "      <th>2022년5월총자산</th>\n",
       "      <th>2022년6월총자산</th>\n",
       "      <th>변동률</th>\n",
       "      <th>국내 주식 거래횟수</th>\n",
       "    </tr>\n",
       "  </thead>\n",
       "  <tbody>\n",
       "    <tr>\n",
       "      <th>0</th>\n",
       "      <td>1</td>\n",
       "      <td>1001</td>\n",
       "      <td>4.0</td>\n",
       "      <td>5.0</td>\n",
       "      <td>5</td>\n",
       "      <td>Y</td>\n",
       "      <td>1</td>\n",
       "      <td>0000b53f15d9484a62a745bdb02cd5f27796ba07c1bddc...</td>\n",
       "      <td>2</td>\n",
       "      <td>1</td>\n",
       "      <td>...</td>\n",
       "      <td>2</td>\n",
       "      <td>None</td>\n",
       "      <td>12838237.0</td>\n",
       "      <td>12723863.0</td>\n",
       "      <td>12448513.0</td>\n",
       "      <td>12414235.0</td>\n",
       "      <td>12428927.0</td>\n",
       "      <td>14335449.0</td>\n",
       "      <td>11.662131</td>\n",
       "      <td>2</td>\n",
       "    </tr>\n",
       "    <tr>\n",
       "      <th>1</th>\n",
       "      <td>9</td>\n",
       "      <td>111111</td>\n",
       "      <td>4.0</td>\n",
       "      <td>4.0</td>\n",
       "      <td>5</td>\n",
       "      <td>Y</td>\n",
       "      <td>9</td>\n",
       "      <td>00086aa946369d1c75182dffd43bd4a34f3abc1ddeba03...</td>\n",
       "      <td>1</td>\n",
       "      <td>1</td>\n",
       "      <td>...</td>\n",
       "      <td>2</td>\n",
       "      <td>None</td>\n",
       "      <td>2177307.0</td>\n",
       "      <td>24591478.0</td>\n",
       "      <td>10643554.0</td>\n",
       "      <td>7030283.0</td>\n",
       "      <td>7027915.0</td>\n",
       "      <td>6744912.0</td>\n",
       "      <td>209.782314</td>\n",
       "      <td>685</td>\n",
       "    </tr>\n",
       "    <tr>\n",
       "      <th>2</th>\n",
       "      <td>9</td>\n",
       "      <td>111111</td>\n",
       "      <td>4.0</td>\n",
       "      <td>3.0</td>\n",
       "      <td>4</td>\n",
       "      <td>Y</td>\n",
       "      <td>9</td>\n",
       "      <td>003b998c70775d3f079d89ed932345ef3276d2a35d93a5...</td>\n",
       "      <td>4</td>\n",
       "      <td>1</td>\n",
       "      <td>...</td>\n",
       "      <td>2</td>\n",
       "      <td>None</td>\n",
       "      <td>99958023.0</td>\n",
       "      <td>99206212.0</td>\n",
       "      <td>103832787.0</td>\n",
       "      <td>101964302.0</td>\n",
       "      <td>101474455.0</td>\n",
       "      <td>97806007.0</td>\n",
       "      <td>-2.152920</td>\n",
       "      <td>47</td>\n",
       "    </tr>\n",
       "    <tr>\n",
       "      <th>3</th>\n",
       "      <td>3</td>\n",
       "      <td>111111</td>\n",
       "      <td>5.0</td>\n",
       "      <td>4.0</td>\n",
       "      <td>9</td>\n",
       "      <td>Y</td>\n",
       "      <td>4</td>\n",
       "      <td>0041e009e19878cd52dca944d43ab4a0492ea981425bc6...</td>\n",
       "      <td>1</td>\n",
       "      <td>1</td>\n",
       "      <td>...</td>\n",
       "      <td>2</td>\n",
       "      <td>None</td>\n",
       "      <td>6224121.0</td>\n",
       "      <td>6583157.0</td>\n",
       "      <td>7032789.0</td>\n",
       "      <td>6655856.0</td>\n",
       "      <td>6790856.0</td>\n",
       "      <td>6638010.0</td>\n",
       "      <td>6.649758</td>\n",
       "      <td>19</td>\n",
       "    </tr>\n",
       "    <tr>\n",
       "      <th>4</th>\n",
       "      <td>4</td>\n",
       "      <td>111111</td>\n",
       "      <td>4.0</td>\n",
       "      <td>5.0</td>\n",
       "      <td>9</td>\n",
       "      <td>None</td>\n",
       "      <td>3</td>\n",
       "      <td>006112ef04dbdc2a5e19a85e0d9a5e8b31a4ecf37b4244...</td>\n",
       "      <td>1</td>\n",
       "      <td>1</td>\n",
       "      <td>...</td>\n",
       "      <td>2</td>\n",
       "      <td>None</td>\n",
       "      <td>3402215.0</td>\n",
       "      <td>4704502.0</td>\n",
       "      <td>5107587.0</td>\n",
       "      <td>8612058.0</td>\n",
       "      <td>2958760.0</td>\n",
       "      <td>3241459.0</td>\n",
       "      <td>-4.725039</td>\n",
       "      <td>4</td>\n",
       "    </tr>\n",
       "    <tr>\n",
       "      <th>...</th>\n",
       "      <td>...</td>\n",
       "      <td>...</td>\n",
       "      <td>...</td>\n",
       "      <td>...</td>\n",
       "      <td>...</td>\n",
       "      <td>...</td>\n",
       "      <td>...</td>\n",
       "      <td>...</td>\n",
       "      <td>...</td>\n",
       "      <td>...</td>\n",
       "      <td>...</td>\n",
       "      <td>...</td>\n",
       "      <td>...</td>\n",
       "      <td>...</td>\n",
       "      <td>...</td>\n",
       "      <td>...</td>\n",
       "      <td>...</td>\n",
       "      <td>...</td>\n",
       "      <td>...</td>\n",
       "      <td>...</td>\n",
       "      <td>...</td>\n",
       "    </tr>\n",
       "    <tr>\n",
       "      <th>5968</th>\n",
       "      <td>6</td>\n",
       "      <td>111111</td>\n",
       "      <td>4.0</td>\n",
       "      <td>3.0</td>\n",
       "      <td>4</td>\n",
       "      <td>Y</td>\n",
       "      <td>7</td>\n",
       "      <td>ffbdd447034531f4364227bcf3959a210e1011f97e0dd4...</td>\n",
       "      <td>4</td>\n",
       "      <td>1</td>\n",
       "      <td>...</td>\n",
       "      <td>2</td>\n",
       "      <td>None</td>\n",
       "      <td>51488838.0</td>\n",
       "      <td>70072303.0</td>\n",
       "      <td>69886236.0</td>\n",
       "      <td>70663024.0</td>\n",
       "      <td>61785738.0</td>\n",
       "      <td>55099078.0</td>\n",
       "      <td>7.011694</td>\n",
       "      <td>78</td>\n",
       "    </tr>\n",
       "    <tr>\n",
       "      <th>5969</th>\n",
       "      <td>4</td>\n",
       "      <td>110110</td>\n",
       "      <td>5.0</td>\n",
       "      <td>4.0</td>\n",
       "      <td>5</td>\n",
       "      <td>Y</td>\n",
       "      <td>3</td>\n",
       "      <td>ffc0e6b3eaf8b59f8c471e4d6d68063106dc5bd2414ca5...</td>\n",
       "      <td>1</td>\n",
       "      <td>1</td>\n",
       "      <td>...</td>\n",
       "      <td>2</td>\n",
       "      <td>None</td>\n",
       "      <td>12515315.0</td>\n",
       "      <td>13048055.0</td>\n",
       "      <td>10512945.0</td>\n",
       "      <td>10238156.0</td>\n",
       "      <td>10271508.0</td>\n",
       "      <td>7850448.0</td>\n",
       "      <td>-37.273269</td>\n",
       "      <td>1</td>\n",
       "    </tr>\n",
       "    <tr>\n",
       "      <th>5970</th>\n",
       "      <td>4</td>\n",
       "      <td>11110</td>\n",
       "      <td>5.0</td>\n",
       "      <td>5.0</td>\n",
       "      <td>9</td>\n",
       "      <td>Y</td>\n",
       "      <td>4</td>\n",
       "      <td>ffd96d859770d62800f6f654fce913c50f9cbf809efcc8...</td>\n",
       "      <td>1</td>\n",
       "      <td>1</td>\n",
       "      <td>...</td>\n",
       "      <td>2</td>\n",
       "      <td>None</td>\n",
       "      <td>3049800.0</td>\n",
       "      <td>3040600.0</td>\n",
       "      <td>2898000.0</td>\n",
       "      <td>2727800.0</td>\n",
       "      <td>2792200.0</td>\n",
       "      <td>2392000.0</td>\n",
       "      <td>-21.568627</td>\n",
       "      <td>1</td>\n",
       "    </tr>\n",
       "    <tr>\n",
       "      <th>5971</th>\n",
       "      <td>5</td>\n",
       "      <td>110000</td>\n",
       "      <td>5.0</td>\n",
       "      <td>5.0</td>\n",
       "      <td>9</td>\n",
       "      <td>Y</td>\n",
       "      <td>8</td>\n",
       "      <td>ffdb8a101b04d93c8b09ddce17a7be84d0179908f3f4cc...</td>\n",
       "      <td>1</td>\n",
       "      <td>1</td>\n",
       "      <td>...</td>\n",
       "      <td>2</td>\n",
       "      <td>None</td>\n",
       "      <td>2146615.0</td>\n",
       "      <td>2312615.0</td>\n",
       "      <td>1914215.0</td>\n",
       "      <td>1325181.0</td>\n",
       "      <td>1810731.0</td>\n",
       "      <td>1607381.0</td>\n",
       "      <td>-25.120201</td>\n",
       "      <td>3</td>\n",
       "    </tr>\n",
       "    <tr>\n",
       "      <th>5972</th>\n",
       "      <td>3</td>\n",
       "      <td>101001</td>\n",
       "      <td>5.0</td>\n",
       "      <td>5.0</td>\n",
       "      <td>9</td>\n",
       "      <td>N</td>\n",
       "      <td>4</td>\n",
       "      <td>ffe9a305443270d8c90b0c1eb100ea90699f4fcbaaf727...</td>\n",
       "      <td>1</td>\n",
       "      <td>1</td>\n",
       "      <td>...</td>\n",
       "      <td>2</td>\n",
       "      <td>None</td>\n",
       "      <td>0.0</td>\n",
       "      <td>0.0</td>\n",
       "      <td>0.0</td>\n",
       "      <td>0.0</td>\n",
       "      <td>0.0</td>\n",
       "      <td>0.0</td>\n",
       "      <td>0.000000</td>\n",
       "      <td>1</td>\n",
       "    </tr>\n",
       "  </tbody>\n",
       "</table>\n",
       "<p>5973 rows × 28 columns</p>\n",
       "</div>\n",
       "      <button class=\"colab-df-convert\" onclick=\"convertToInteractive('df-f839259e-55c4-47eb-8f12-2d922c56d82c')\"\n",
       "              title=\"Convert this dataframe to an interactive table.\"\n",
       "              style=\"display:none;\">\n",
       "        \n",
       "  <svg xmlns=\"http://www.w3.org/2000/svg\" height=\"24px\"viewBox=\"0 0 24 24\"\n",
       "       width=\"24px\">\n",
       "    <path d=\"M0 0h24v24H0V0z\" fill=\"none\"/>\n",
       "    <path d=\"M18.56 5.44l.94 2.06.94-2.06 2.06-.94-2.06-.94-.94-2.06-.94 2.06-2.06.94zm-11 1L8.5 8.5l.94-2.06 2.06-.94-2.06-.94L8.5 2.5l-.94 2.06-2.06.94zm10 10l.94 2.06.94-2.06 2.06-.94-2.06-.94-.94-2.06-.94 2.06-2.06.94z\"/><path d=\"M17.41 7.96l-1.37-1.37c-.4-.4-.92-.59-1.43-.59-.52 0-1.04.2-1.43.59L10.3 9.45l-7.72 7.72c-.78.78-.78 2.05 0 2.83L4 21.41c.39.39.9.59 1.41.59.51 0 1.02-.2 1.41-.59l7.78-7.78 2.81-2.81c.8-.78.8-2.07 0-2.86zM5.41 20L4 18.59l7.72-7.72 1.47 1.35L5.41 20z\"/>\n",
       "  </svg>\n",
       "      </button>\n",
       "      \n",
       "  <style>\n",
       "    .colab-df-container {\n",
       "      display:flex;\n",
       "      flex-wrap:wrap;\n",
       "      gap: 12px;\n",
       "    }\n",
       "\n",
       "    .colab-df-convert {\n",
       "      background-color: #E8F0FE;\n",
       "      border: none;\n",
       "      border-radius: 50%;\n",
       "      cursor: pointer;\n",
       "      display: none;\n",
       "      fill: #1967D2;\n",
       "      height: 32px;\n",
       "      padding: 0 0 0 0;\n",
       "      width: 32px;\n",
       "    }\n",
       "\n",
       "    .colab-df-convert:hover {\n",
       "      background-color: #E2EBFA;\n",
       "      box-shadow: 0px 1px 2px rgba(60, 64, 67, 0.3), 0px 1px 3px 1px rgba(60, 64, 67, 0.15);\n",
       "      fill: #174EA6;\n",
       "    }\n",
       "\n",
       "    [theme=dark] .colab-df-convert {\n",
       "      background-color: #3B4455;\n",
       "      fill: #D2E3FC;\n",
       "    }\n",
       "\n",
       "    [theme=dark] .colab-df-convert:hover {\n",
       "      background-color: #434B5C;\n",
       "      box-shadow: 0px 1px 3px 1px rgba(0, 0, 0, 0.15);\n",
       "      filter: drop-shadow(0px 1px 2px rgba(0, 0, 0, 0.3));\n",
       "      fill: #FFFFFF;\n",
       "    }\n",
       "  </style>\n",
       "\n",
       "      <script>\n",
       "        const buttonEl =\n",
       "          document.querySelector('#df-f839259e-55c4-47eb-8f12-2d922c56d82c button.colab-df-convert');\n",
       "        buttonEl.style.display =\n",
       "          google.colab.kernel.accessAllowed ? 'block' : 'none';\n",
       "\n",
       "        async function convertToInteractive(key) {\n",
       "          const element = document.querySelector('#df-f839259e-55c4-47eb-8f12-2d922c56d82c');\n",
       "          const dataTable =\n",
       "            await google.colab.kernel.invokeFunction('convertToInteractive',\n",
       "                                                     [key], {});\n",
       "          if (!dataTable) return;\n",
       "\n",
       "          const docLinkHtml = 'Like what you see? Visit the ' +\n",
       "            '<a target=\"_blank\" href=https://colab.research.google.com/notebooks/data_table.ipynb>data table notebook</a>'\n",
       "            + ' to learn more about interactive tables.';\n",
       "          element.innerHTML = '';\n",
       "          dataTable['output_type'] = 'display_data';\n",
       "          await google.colab.output.renderOutput(dataTable, element);\n",
       "          const docLink = document.createElement('div');\n",
       "          docLink.innerHTML = docLinkHtml;\n",
       "          element.appendChild(docLink);\n",
       "        }\n",
       "      </script>\n",
       "    </div>\n",
       "  </div>\n",
       "  "
      ],
      "text/plain": [
       "      LIFESTAGE세그먼트코드  MTS월단위접속패턴  충성도세그먼트코드  자산기준주식거래유형코드  고객등급코드  \\\n",
       "0                   1        1001        4.0           5.0       5   \n",
       "1                   9      111111        4.0           4.0       5   \n",
       "2                   9      111111        4.0           3.0       4   \n",
       "3                   3      111111        5.0           4.0       9   \n",
       "4                   4      111111        4.0           5.0       9   \n",
       "...               ...         ...        ...           ...     ...   \n",
       "5968                6      111111        4.0           3.0       4   \n",
       "5969                4      110110        5.0           4.0       5   \n",
       "5970                4       11110        5.0           5.0       9   \n",
       "5971                5      110000        5.0           5.0       9   \n",
       "5972                3      101001        5.0           5.0       9   \n",
       "\n",
       "     stk_pdt_hld_yn  연령대                                               계좌번호  \\\n",
       "0                 Y    1  0000b53f15d9484a62a745bdb02cd5f27796ba07c1bddc...   \n",
       "1                 Y    9  00086aa946369d1c75182dffd43bd4a34f3abc1ddeba03...   \n",
       "2                 Y    9  003b998c70775d3f079d89ed932345ef3276d2a35d93a5...   \n",
       "3                 Y    4  0041e009e19878cd52dca944d43ab4a0492ea981425bc6...   \n",
       "4              None    3  006112ef04dbdc2a5e19a85e0d9a5e8b31a4ecf37b4244...   \n",
       "...             ...  ...                                                ...   \n",
       "5968              Y    7  ffbdd447034531f4364227bcf3959a210e1011f97e0dd4...   \n",
       "5969              Y    3  ffc0e6b3eaf8b59f8c471e4d6d68063106dc5bd2414ca5...   \n",
       "5970              Y    4  ffd96d859770d62800f6f654fce913c50f9cbf809efcc8...   \n",
       "5971              Y    8  ffdb8a101b04d93c8b09ddce17a7be84d0179908f3f4cc...   \n",
       "5972              N    4  ffe9a305443270d8c90b0c1eb100ea90699f4fcbaaf727...   \n",
       "\n",
       "      고객자산구간코드  수익금액구간코드  ... 주거래상품군  bas_stk_trd_tp_cd  2022년1월총자산  \\\n",
       "0            2         1  ...      2               None  12838237.0   \n",
       "1            1         1  ...      2               None   2177307.0   \n",
       "2            4         1  ...      2               None  99958023.0   \n",
       "3            1         1  ...      2               None   6224121.0   \n",
       "4            1         1  ...      2               None   3402215.0   \n",
       "...        ...       ...  ...    ...                ...         ...   \n",
       "5968         4         1  ...      2               None  51488838.0   \n",
       "5969         1         1  ...      2               None  12515315.0   \n",
       "5970         1         1  ...      2               None   3049800.0   \n",
       "5971         1         1  ...      2               None   2146615.0   \n",
       "5972         1         1  ...      2               None         0.0   \n",
       "\n",
       "      2022년2월총자산   2022년3월총자산   2022년4월총자산   2022년5월총자산  2022년6월총자산  \\\n",
       "0     12723863.0   12448513.0   12414235.0   12428927.0  14335449.0   \n",
       "1     24591478.0   10643554.0    7030283.0    7027915.0   6744912.0   \n",
       "2     99206212.0  103832787.0  101964302.0  101474455.0  97806007.0   \n",
       "3      6583157.0    7032789.0    6655856.0    6790856.0   6638010.0   \n",
       "4      4704502.0    5107587.0    8612058.0    2958760.0   3241459.0   \n",
       "...          ...          ...          ...          ...         ...   \n",
       "5968  70072303.0   69886236.0   70663024.0   61785738.0  55099078.0   \n",
       "5969  13048055.0   10512945.0   10238156.0   10271508.0   7850448.0   \n",
       "5970   3040600.0    2898000.0    2727800.0    2792200.0   2392000.0   \n",
       "5971   2312615.0    1914215.0    1325181.0    1810731.0   1607381.0   \n",
       "5972         0.0          0.0          0.0          0.0         0.0   \n",
       "\n",
       "             변동률 국내 주식 거래횟수  \n",
       "0      11.662131          2  \n",
       "1     209.782314        685  \n",
       "2      -2.152920         47  \n",
       "3       6.649758         19  \n",
       "4      -4.725039          4  \n",
       "...          ...        ...  \n",
       "5968    7.011694         78  \n",
       "5969  -37.273269          1  \n",
       "5970  -21.568627          1  \n",
       "5971  -25.120201          3  \n",
       "5972    0.000000          1  \n",
       "\n",
       "[5973 rows x 28 columns]"
      ]
     },
     "execution_count": 15,
     "metadata": {},
     "output_type": "execute_result"
    }
   ],
   "source": [
    "set_ko"
   ]
  },
  {
   "cell_type": "markdown",
   "metadata": {
    "id": "c39J1yS8ngOw"
   },
   "source": [
    "&nbsp;"
   ]
  },
  {
   "cell_type": "markdown",
   "metadata": {
    "id": "Y0loFc38niu9"
   },
   "source": [
    "## 필요없는 열 제거"
   ]
  },
  {
   "cell_type": "code",
   "execution_count": null,
   "metadata": {
    "id": "_CwOlGrYndRC"
   },
   "outputs": [],
   "source": [
    "set_ko.drop(['최초계좌개설일', 'MTS월단위접속패턴',\n",
    "             '2022년1월총자산','2022년2월총자산', '2022년3월총자산', '2022년4월총자산', '2022년5월총자산', '2022년6월총자산', 'ose_stk_pdt_hld_yn', 'stk_pdt_hld_yn' , 'bas_stk_trd_tp_cd'],axis=1, inplace=True)\n",
    "set_os.drop(['최초계좌개설일', 'MTS월단위접속패턴',\n",
    "             '2022년1월총자산','2022년2월총자산', '2022년3월총자산', '2022년4월총자산', '2022년5월총자산', '2022년6월총자산', 'ose_stk_pdt_hld_yn', 'stk_pdt_hld_yn' , 'bas_stk_trd_tp_cd'],axis=1, inplace=True)\n",
    "set_ko_os.drop(['최초계좌개설일', 'MTS월단위접속패턴',\n",
    "                '2022년1월총자산','2022년2월총자산', '2022년3월총자산', '2022년4월총자산', '2022년5월총자산', '2022년6월총자산', 'ose_stk_pdt_hld_yn', 'stk_pdt_hld_yn' , 'bas_stk_trd_tp_cd'],axis=1, inplace=True)"
   ]
  },
  {
   "cell_type": "markdown",
   "metadata": {
    "id": "tKRGHXr3nxm8"
   },
   "source": [
    "&nbsp;"
   ]
  },
  {
   "cell_type": "markdown",
   "metadata": {
    "id": "oEH7SaiPny2Q"
   },
   "source": [
    "## 데이터 이상치 처리"
   ]
  },
  {
   "cell_type": "markdown",
   "metadata": {
    "id": "RTma_iw_n1qO"
   },
   "source": [
    "- 데이터 안에 inf, 99, nan 이상치로 판단"
   ]
  },
  {
   "cell_type": "code",
   "execution_count": null,
   "metadata": {
    "colab": {
     "base_uri": "https://localhost:8080/"
    },
    "executionInfo": {
     "elapsed": 288,
     "status": "ok",
     "timestamp": 1663305764263,
     "user": {
      "displayName": "최재혁",
      "userId": "03991607876633756912"
     },
     "user_tz": -540
    },
    "id": "oqCZxEiMnwFX",
    "outputId": "d9a8d785-1332-4951-e680-52389e806db8"
   },
   "outputs": [
    {
     "name": "stderr",
     "output_type": "stream",
     "text": [
      "100%|██████████| 17/17 [00:00<00:00, 1156.34it/s]\n",
      "100%|██████████| 17/17 [00:00<00:00, 1048.47it/s]\n",
      "100%|██████████| 18/18 [00:00<00:00, 1261.55it/s]\n"
     ]
    }
   ],
   "source": [
    "def del_df(df):\n",
    "    del_list = []\n",
    "    for i in tqdm(df.columns):\n",
    "        del_list += list(df[df[i].isin([99, np.inf, -np.inf , np.nan])].index)\n",
    "\n",
    "    new_df = df.drop(del_list).copy()\n",
    "    new_df.reset_index(drop=True,inplace=True)\n",
    "    return new_df\n",
    "\n",
    "\n",
    "set_ko = del_df(set_ko)\n",
    "set_os = del_df(set_os)\n",
    "set_ko_os = del_df(set_ko_os)"
   ]
  },
  {
   "cell_type": "markdown",
   "metadata": {
    "id": "jEhNudcMoHUp"
   },
   "source": [
    "&nbsp;"
   ]
  },
  {
   "cell_type": "markdown",
   "metadata": {
    "id": "PzaWQMVnoInR"
   },
   "source": [
    "## 군집화 전 고객군 분석"
   ]
  },
  {
   "cell_type": "markdown",
   "metadata": {
    "id": "1aFYdcjxoQ-g"
   },
   "source": [
    "- 각 고객군 거래량 시각화"
   ]
  },
  {
   "cell_type": "code",
   "execution_count": null,
   "metadata": {
    "colab": {
     "base_uri": "https://localhost:8080/",
     "height": 436
    },
    "executionInfo": {
     "elapsed": 1480,
     "status": "ok",
     "timestamp": 1663305787778,
     "user": {
      "displayName": "최재혁",
      "userId": "03991607876633756912"
     },
     "user_tz": -540
    },
    "id": "a0m5QbyPn83x",
    "outputId": "d632eb7c-e9ff-44dd-af46-59ee256b1074"
   },
   "outputs": [
    {
     "data": {
      "image/png": "[encoded data removed]",
      "text/plain": [
       "<Figure size 2016x504 with 4 Axes>"
      ]
     },
     "metadata": {},
     "output_type": "display_data"
    }
   ],
   "source": [
    "fig = plt.figure(figsize=(28,7))\n",
    "plt.subplots_adjust(wspace=0.5, hspace = 0.4)\n",
    "\n",
    "plot_1 = fig.add_subplot(1,4,1)\n",
    "plot_2 = fig.add_subplot(1,4,2)\n",
    "plot_3 = fig.add_subplot(1,4,3)\n",
    "plot_4 = fig.add_subplot(1,4,4)\n",
    "\n",
    "\n",
    "set_df = set_ko.nlargest(15,'국내 주식 거래횟수').sort_values(by='국내 주식 거래횟수')\n",
    "set_df_1 = sns.barplot(x=[str(i) for i in set_df.index], y ='국내 주식 거래횟수', data = set_df ,ax = plot_1,  palette=\"Dark2\")\n",
    "set_df_1.set_title('국내 주식 거래만 사용하는 고객', fontsize= 15, weight='bold')\n",
    "set_df_1.set(xticklabels=[])\n",
    "set_df_1.set(xlabel=None)\n",
    "set_df_1.set(ylabel=None)\n",
    "set_df_1.tick_params(bottom=False)\n",
    "\n",
    "set_df2 = set_os.nlargest(15,'해외 주식 거래횟수').sort_values(by='해외 주식 거래횟수')\n",
    "set_df_2 = sns.barplot(x=[str(i) for i in set_df2.index], y ='해외 주식 거래횟수', data = set_df2 ,ax = plot_2,  palette=\"Dark2\")\n",
    "set_df_2.set_title('해외 주식 거래만 사용하는 고객', fontsize= 15, weight='bold')\n",
    "set_df_2.set(xticklabels=[])\n",
    "set_df_2.set(xlabel=None)\n",
    "set_df_2.set(ylabel=None)\n",
    "set_df_2.tick_params(bottom=False)\n",
    "\n",
    "set_d3 = set_ko_os.nlargest(15,'국내 주식 거래횟수').sort_values(by='국내 주식 거래횟수')\n",
    "set_df_3 = sns.barplot(x=[str(i) for i in set_d3.index], y ='국내 주식 거래횟수', data = set_d3 ,ax = plot_3,  palette=\"Dark2\")\n",
    "set_df_3.set_title('국내, 해외 둘다 사용하는 고객 - 국내 주식 거래횟수', fontsize= 15, weight='bold')\n",
    "set_df_3.set(xticklabels=[])\n",
    "set_df_3.set(xlabel=None)\n",
    "set_df_3.set(ylabel=None)\n",
    "set_df_3.tick_params(bottom=False)\n",
    "\n",
    "set_d4 = set_ko_os.nlargest(15,'해외 주식 거래횟수').sort_values(by='해외 주식 거래횟수')\n",
    "set_df_4 = sns.barplot(x=[str(i) for i in set_d4.index], y ='해외 주식 거래횟수', data = set_d4 ,ax = plot_4,  palette=\"Dark2\")\n",
    "set_df_4.set_title('국내, 해외 둘다 사용하는 고객 - 해외 주식 거래횟수', fontsize= 15, weight='bold')\n",
    "set_df_4.set(xticklabels=[])\n",
    "set_df_4.set(xlabel=None)\n",
    "set_df_4.set(ylabel=None)\n",
    "set_df_4.tick_params(bottom=False)\n",
    "\n",
    "\n",
    "plt.show()"
   ]
  },
  {
   "cell_type": "markdown",
   "metadata": {
    "id": "9JpvhHgZos_G"
   },
   "source": [
    "- 거래 횟수를 통해 국내 주식을 사용하는 고객의 거래 횟수가 다른 두 집단보다 거래 횟수가 크고\n",
    "- 해외 주식만을 이용하는 고객은 두 집단에 비해 낮은 거래 횟수를 보입니다.\n",
    "- 국내, 해외 모두 거래하는 고객은 국내와 해외의 거래 횟수가 비슷하게 가는 양상을 볼 수 있습니다.\n",
    "\n"
   ]
  },
  {
   "cell_type": "code",
   "execution_count": null,
   "metadata": {
    "colab": {
     "base_uri": "https://localhost:8080/",
     "height": 843
    },
    "executionInfo": {
     "elapsed": 1520,
     "status": "ok",
     "timestamp": 1663305802554,
     "user": {
      "displayName": "최재혁",
      "userId": "03991607876633756912"
     },
     "user_tz": -540
    },
    "id": "UzosIy8pzFk2",
    "outputId": "d4c8d785-21f5-4db1-9edc-327c27ef7478"
   },
   "outputs": [
    {
     "data": {
      "image/png": "[encoded data removed]",
      "text/plain": [
       "<Figure size 1800x1008 with 6 Axes>"
      ]
     },
     "metadata": {},
     "output_type": "display_data"
    }
   ],
   "source": [
    "fig,ax=plt.subplots(nrows=2,ncols=3 , figsize=(25,14))\n",
    "plt.subplots_adjust(wspace=0.2, hspace = 0.3)\n",
    "\n",
    "name_list = ['LIFESTAGE세그먼트코드', '연령대' ]\n",
    "group_name = ['국내 주식만 사용하는 고객', '해외 주식만 사용하는 고객', '둘다 사용하는 고객']\n",
    "plot_data = [set_ko, set_os,set_ko_os]\n",
    "\n",
    "for i in range(2):\n",
    "  for j in range(3):\n",
    "    plot_1 = sns.countplot(x=name_list[i], order = plot_data[j][name_list[i]].value_counts().index[::-1],data=plot_data[j] ,ax = ax[i,j], palette='pastel')\n",
    "    plot_1.set_title(f\"{group_name[j]}의 {name_list[i]}\", weight='bold', fontsize=15)\n",
    "    plot_1.set(ylabel=None)\n",
    "\n",
    "  \n",
    "plt.show()"
   ]
  },
  {
   "cell_type": "markdown",
   "metadata": {
    "id": "EqG-5F9ZpJRQ"
   },
   "source": [
    "- LIFESTAGE세그먼트코드 를 통해서 확인했을 때는 국내 주식을 가장 많이 이용하는 것은 40~44 사이의 `가족 성숙기_직장인`, `가족 성숙기_주부`, `가족 성숙기_남자`\n",
    "\n",
    "- 해외 주식만 사용하는 고객은 20~29 사이의 `사회초년생`, `가족 형성기_남자` \n",
    "\n",
    "\n",
    "- 둘 다 사용하는 고객은 20~29 사이의 `사회초년생`, `가족 형성기_남자`\n",
    "\n",
    "&nbsp;\n",
    "\n",
    "> 이를 통해서 상품을 추천할 때 해외 주식 관련에는 25 ~ 29 사이의 `사회초년생`, `가족 형성기_남자`에게, 국내 주식 관련에는 40~44 사이의 `가족 성숙기`에 해당하는 고객에게 추천할수록 반응이 높을 것 같습니다.\n",
    "\n",
    "> 빠르게 상품 추천을 할 때는 주식을 하는 유형에 따라서 타겟팅을 하는 것이 효과적이라고 판단됩니다.\n",
    "\n",
    "\n"
   ]
  },
  {
   "cell_type": "markdown",
   "metadata": {
    "id": "pdejYhL5rPtl"
   },
   "source": [
    "&nbsp;"
   ]
  },
  {
   "cell_type": "markdown",
   "metadata": {
    "id": "-l7k3fShrQ7o"
   },
   "source": [
    "## 키매칭 저장 &  데이터 정규화"
   ]
  },
  {
   "cell_type": "markdown",
   "metadata": {
    "id": "iaWdeYr7rStf"
   },
   "source": [
    "- 정규화를 수행하기 전에 고객 구분, 계좌 구분을 따로 기록합니다.\n",
    "- 데이터 사이의 분포가 매우 다양하므로 정규화를 수행합니다.\n",
    "- 데이터 안의 범위가 - ,+ 모두 존재하기 때문에 standard scaler를 활용했습니다.\n"
   ]
  },
  {
   "cell_type": "code",
   "execution_count": null,
   "metadata": {
    "id": "L4B-WytxrpoM"
   },
   "outputs": [],
   "source": [
    "dict_ko_cus = {d:i for d,i in enumerate(set_ko['고객번호'])}\n",
    "dict_os_cus = {d:i for d,i in enumerate(set_os['고객번호'])}\n",
    "dict_ko_os_cus = {d:i for d,i in enumerate(set_ko_os['고객번호'])}\n",
    "\n",
    "dict_ko_act = {d:i for d,i in enumerate(set_ko['계좌번호'])}\n",
    "dict_os_act = {d:i for d,i in enumerate(set_os['계좌번호'])}\n",
    "dict_ko_os_act = {d:i for d,i in enumerate(set_ko_os['계좌번호'])}\n",
    "\n",
    "\n",
    "set_ko = set_ko.drop(['고객번호', '계좌번호'],axis=1)\n",
    "set_os = set_os.drop(['고객번호', '계좌번호'],axis=1)\n",
    "set_ko_os = set_ko_os.drop(['고객번호', '계좌번호'],axis=1)"
   ]
  },
  {
   "cell_type": "code",
   "execution_count": null,
   "metadata": {
    "id": "clH06zjlsA2m"
   },
   "outputs": [],
   "source": [
    "from sklearn.preprocessing import StandardScaler\n",
    "scaler = StandardScaler()\n",
    "set_ko_sc = scaler.fit_transform(set_ko)\n",
    "set_os_sc = scaler.fit_transform(set_os)\n",
    "\n",
    "# 둘다하는 고객은 거래의 총합으로 계산\n",
    "set_ko_os['총거래 횟수'] = set_ko_os['국내 주식 거래횟수'] + set_ko_os['해외 주식 거래횟수']\n",
    "set_ko_os = set_ko_os.drop(['국내 주식 거래횟수', '해외 주식 거래횟수'], axis=1)\n",
    "\n",
    "set_ko_os_sc = scaler.fit_transform(set_ko_os)"
   ]
  },
  {
   "cell_type": "markdown",
   "metadata": {
    "id": "aRsc-0fMsIMz"
   },
   "source": [
    "&nbsp;"
   ]
  },
  {
   "cell_type": "markdown",
   "metadata": {
    "id": "kF-N3XaMsJc-"
   },
   "source": [
    "## 적절한 군집수 찾기"
   ]
  },
  {
   "cell_type": "code",
   "execution_count": null,
   "metadata": {
    "id": "9T8xQSg5sD1H"
   },
   "outputs": [],
   "source": [
    "def plot_Silhouette(data,  k, text):\n",
    "    km = KMeans(n_clusters=k, init='k-means++', random_state=119)\n",
    "    km.fit(data)\n",
    "\n",
    "    fig = plt.figure()\n",
    "    fig.set_size_inches(15, 5)\n",
    "    visualizer = SilhouetteVisualizer(km, colors='yellowbrick')\n",
    "    visualizer.fit(data)\n",
    "\n",
    "    visualizer.ax.set_title(text,fontsize=15, weight='bold')\n",
    "    visualizer.ax.set_xlabel(\"Silhouette Value\",fontsize=15, weight='bold')\n",
    "    visualizer.ax.set_ylabel(\"군집\",fontsize=15, weight='bold')\n",
    "    visualizer.ax.set_yticks([])\n",
    "\n",
    "    plt.show()"
   ]
  },
  {
   "cell_type": "markdown",
   "metadata": {
    "id": "PAlAXU3Nsqrm"
   },
   "source": [
    "- 국내 주식만 하는 고객군"
   ]
  },
  {
   "cell_type": "code",
   "execution_count": null,
   "metadata": {
    "colab": {
     "base_uri": "https://localhost:8080/",
     "height": 358
    },
    "executionInfo": {
     "elapsed": 2515,
     "status": "ok",
     "timestamp": 1663306829936,
     "user": {
      "displayName": "최재혁",
      "userId": "03991607876633756912"
     },
     "user_tz": -540
    },
    "id": "Dzn1PwgOsMol",
    "outputId": "e19490af-4be5-47a4-c34b-01ee210783d2"
   },
   "outputs": [
    {
     "data": {
      "image/png": "[encoded data removed]",
      "text/plain": [
       "<Figure size 1080x360 with 1 Axes>"
      ]
     },
     "metadata": {},
     "output_type": "display_data"
    }
   ],
   "source": [
    "plot_Silhouette(set_ko_sc, 3, '국내 주식 고객군 군집 Silhouette')"
   ]
  },
  {
   "cell_type": "markdown",
   "metadata": {
    "id": "GE9TEEKlstbA"
   },
   "source": [
    "- 해외 주식만 하는 고객군"
   ]
  },
  {
   "cell_type": "code",
   "execution_count": null,
   "metadata": {
    "colab": {
     "base_uri": "https://localhost:8080/",
     "height": 358
    },
    "executionInfo": {
     "elapsed": 924,
     "status": "ok",
     "timestamp": 1663306852881,
     "user": {
      "displayName": "최재혁",
      "userId": "03991607876633756912"
     },
     "user_tz": -540
    },
    "id": "8RqT2o4Ivet5",
    "outputId": "0c0200c8-e015-4e82-d774-5a4e5fd73b11"
   },
   "outputs": [
    {
     "data": {
      "image/png": "[encoded data removed]",
      "text/plain": [
       "<Figure size 1080x360 with 1 Axes>"
      ]
     },
     "metadata": {},
     "output_type": "display_data"
    }
   ],
   "source": [
    "plot_Silhouette(set_os_sc, 2, '해외 주식 고객군 군집 Silhouette')"
   ]
  },
  {
   "cell_type": "markdown",
   "metadata": {
    "id": "bS5Xp8NCszTE"
   },
   "source": [
    "- 둘다 하는 고객군"
   ]
  },
  {
   "cell_type": "code",
   "execution_count": null,
   "metadata": {
    "colab": {
     "base_uri": "https://localhost:8080/",
     "height": 358
    },
    "executionInfo": {
     "elapsed": 531,
     "status": "ok",
     "timestamp": 1663306878414,
     "user": {
      "displayName": "최재혁",
      "userId": "03991607876633756912"
     },
     "user_tz": -540
    },
    "id": "GpprVVeTsxf9",
    "outputId": "8958f8cb-8033-4acd-8f8d-d985baa91750"
   },
   "outputs": [
    {
     "data": {
      "image/png": "[encoded data removed]",
      "text/plain": [
       "<Figure size 1080x360 with 1 Axes>"
      ]
     },
     "metadata": {},
     "output_type": "display_data"
    }
   ],
   "source": [
    "plot_Silhouette(set_ko_os_sc, 2, '국내 + 해외 주식 고객군 군집 Silhouette')"
   ]
  },
  {
   "cell_type": "markdown",
   "metadata": {
    "id": "NM6lec2as8d_"
   },
   "source": [
    "&nbsp;"
   ]
  },
  {
   "cell_type": "markdown",
   "metadata": {
    "id": "DCu6vUkts9o6"
   },
   "source": [
    "## 찾은 군집수 적용"
   ]
  },
  {
   "cell_type": "code",
   "execution_count": null,
   "metadata": {
    "id": "6dt_JJsws4CQ"
   },
   "outputs": [],
   "source": [
    "km1 = KMeans(n_clusters=3, init='k-means++', random_state=119).fit(set_ko_sc)\n",
    "km2 = KMeans(n_clusters=2,  init='k-means++', random_state=119).fit(set_os_sc)\n",
    "km3 = KMeans(n_clusters=2,  init='k-means++', random_state=119).fit(set_ko_os_sc)\n",
    "\n",
    "set_ko['군집'] = km1.predict(set_ko_sc)\n",
    "set_os['군집'] = km2.predict(set_os_sc)\n",
    "set_ko_os['군집'] = km3.predict(set_ko_os_sc)"
   ]
  },
  {
   "cell_type": "markdown",
   "metadata": {
    "id": "Kipe0GaQNu34"
   },
   "source": [
    "- 고객군 변동률 반올림"
   ]
  },
  {
   "cell_type": "code",
   "execution_count": null,
   "metadata": {
    "id": "Z_zT5VUuNuCY"
   },
   "outputs": [],
   "source": [
    "set_ko['변동률'] = round(set_ko['변동률'] ,2)\n",
    "set_os['변동률'] = round(set_os['변동률'] ,2)\n",
    "set_ko_os['변동률'] = round(set_ko_os['변동률'] ,2)"
   ]
  },
  {
   "cell_type": "markdown",
   "metadata": {
    "id": "PG35v7HrSzof"
   },
   "source": [
    "&nbsp;"
   ]
  },
  {
   "cell_type": "markdown",
   "metadata": {
    "id": "nQHi0axWtwSK"
   },
   "source": [
    "## 군집 시각화"
   ]
  },
  {
   "cell_type": "code",
   "execution_count": null,
   "metadata": {
    "id": "GbKZE8gvifWN"
   },
   "outputs": [],
   "source": [
    "def group_plot(df, g, name_list):\n",
    "\n",
    "  fig, axes = plt.subplots(g,len(name_list),figsize=(50, 10))\n",
    "  plt.subplots_adjust(wspace=0.3, hspace = 0.5)\n",
    "\n",
    "  for i in range(g):\n",
    "    for num in range(len(name_list)):\n",
    "\n",
    "      if num != len(name_list)-1 :\n",
    "        plot1 = sns.countplot(x=name_list[num], data=df.loc[df['군집'] == i], order = df.loc[df['군집'] == i][name_list[num]].value_counts().iloc[:5].index[::-1], ax=axes[i, num]) \n",
    "        plot1.set_title(f'군집 : {i}' + ' ' + name_list[num] ,fontsize=15 , weight='bold')\n",
    "        plot1.set_xlabel(' ')\n",
    "        plot1.set_ylabel(' ')\n",
    "\n",
    "      else:\n",
    "        plot1 = sns.countplot(x=name_list[num], data=df.loc[df['군집'] == i], order = df.loc[df['군집'] == i][name_list[num]].value_counts().iloc[:5].index[::-1], ax=axes[i, num]) \n",
    "        plot1.set_title(f'군집 : {i}' + ' ' + name_list[num] ,fontsize=15 , weight='bold')\n",
    "        plot1.set_xlabel(' ')\n",
    "        plot1.set_ylabel(' ')\n",
    "        plot1.set(xticklabels=[])\n",
    "\n",
    "  \n",
    "\n",
    "  plt.show()"
   ]
  },
  {
   "cell_type": "code",
   "execution_count": null,
   "metadata": {
    "id": "OKZ_D7X5k2hX"
   },
   "outputs": [],
   "source": [
    "def group_plot2(df, text, name_list):\n",
    "\n",
    "  fig, axes = plt.subplots(1,len(name_list),figsize=(20, 5))\n",
    "  plt.subplots_adjust(wspace=0.3, hspace = 0.5)\n",
    "\n",
    "  for i in range(len(name_list)):\n",
    "\n",
    "    plot1 = sns.barplot(x=name_list[i], y = '군집', data=df, orient='h', ci=None , ax=axes[i]) \n",
    "    plot1.set_title(f'{text}' + ' ' + name_list[i] + ' ' + '평균' ,fontsize=15 , weight='bold')\n",
    "    plot1.set_xlabel(' ')\n",
    "    plot1.set_ylabel('군집')\n",
    "\n",
    "  plt.show()\n",
    "    "
   ]
  },
  {
   "cell_type": "markdown",
   "metadata": {
    "id": "MAxeWKhHWc1J"
   },
   "source": [
    "&nbsp;"
   ]
  },
  {
   "cell_type": "markdown",
   "metadata": {
    "id": "VFBkN1jeS4OZ"
   },
   "source": [
    "- 국내 주식만 투자하는 고객군"
   ]
  },
  {
   "cell_type": "code",
   "execution_count": null,
   "metadata": {
    "colab": {
     "base_uri": "https://localhost:8080/",
     "height": 609
    },
    "executionInfo": {
     "elapsed": 4272,
     "status": "ok",
     "timestamp": 1663313268240,
     "user": {
      "displayName": "최재혁",
      "userId": "03991607876633756912"
     },
     "user_tz": -540
    },
    "id": "GLbRHuztiy_q",
    "outputId": "b3863103-b8af-454a-f809-23f51f29a4cc"
   },
   "outputs": [
    {
     "data": {
      "image/png": "[encoded data removed]",
      "text/plain": [
       "<Figure size 3600x720 with 27 Axes>"
      ]
     },
     "metadata": {},
     "output_type": "display_data"
    }
   ],
   "source": [
    "name_list = ['성별', '주거래시장구분코드','자산기준주식거래유형코드' ,'고객등급코드', '연령대', '충성도세그먼트코드', 'LIFESTAGE세그먼트코드', '주거래업종구분코드', '국내 주식 거래횟수']\n",
    "group_plot(set_ko, 3, name_list)"
   ]
  },
  {
   "cell_type": "code",
   "execution_count": null,
   "metadata": {
    "colab": {
     "base_uri": "https://localhost:8080/",
     "height": 354
    },
    "executionInfo": {
     "elapsed": 832,
     "status": "ok",
     "timestamp": 1663306905396,
     "user": {
      "displayName": "최재혁",
      "userId": "03991607876633756912"
     },
     "user_tz": -540
    },
    "id": "aU427vO7nGHK",
    "outputId": "b3637b7b-38d1-4579-85bb-90bbbed2b674"
   },
   "outputs": [
    {
     "data": {
      "image/png": "[encoded data removed]",
      "text/plain": [
       "<Figure size 1440x360 with 2 Axes>"
      ]
     },
     "metadata": {},
     "output_type": "display_data"
    }
   ],
   "source": [
    "name_list = ['변동률', '국내 주식 거래횟수']\n",
    "group_plot2(set_ko, '국내 주식 고객군',  name_list)"
   ]
  },
  {
   "cell_type": "markdown",
   "metadata": {
    "id": "i1OtxljF6Ypo"
   },
   "source": [
    "- 국내 주식만을 사용하는 고객군 내에서 총 3개의 군집으로 나눌 수 있습니다.\n",
    "\n",
    "&nbsp;\n",
    "\n",
    "- 0번 군집\n",
    "  - 25~30 사이의 사회초년생이 가장 많이 차지하고 있음\n",
    "  - 대부분 비매매를 하며 자산의 변동이 크지 않습니다.\n",
    "\n",
    "- 1번 군집\n",
    "  - 40~45 사이의 가족 성숙기_직장인이 가장 많이 차지하고\n",
    "  - 거래소, 코스닥을 통해 주로 거래를 수행합니다.\n",
    "  - 가장 많은 관심을 보이는 종목은 전기/전자입니다.\n",
    "  - 전체적인 자산의 변동이 가장 큰 군집입니다.\n",
    "\n",
    "- 2번 군집\n",
    "  - 50~55 사이의 가족 성숙기 직장인이 가장 많이 차지하고\n",
    "  - 거래소를 통해 주로 거래합니다.\n",
    "  - 주식 거래 횟수 평균이 제일 큼\n",
    "\n",
    "&nbsp;\n",
    "\n",
    "> 각 군집의 특성을 파악했을 때 `국내 주식만을 거래하지만, 주식을 이제 시작한 군집`, `국내 주식에 투자 대비 변동률이 큰 고객군`, `국내 주식의 거래를 많이 하지만 전체적인 변동률은 적은 고객군`\n",
    "\n",
    "> 실제 상품을 추천한다면 국내 주식 상품 중에서 돈의 부담이 크지 않고 위험이 적은 상품은 0번 군집, risk가 크지만, 수익이 큰 상품은 1번 군집, risk가 크지 않고 적은 수익을 얻을 수 있는 상품은 2번 군집에서 추천할 수 있을 거 같습니다."
   ]
  },
  {
   "cell_type": "markdown",
   "metadata": {
    "id": "xC5QoAnvj0OB"
   },
   "source": [
    "&nbsp;"
   ]
  },
  {
   "cell_type": "markdown",
   "metadata": {
    "id": "PCq59IA6j1gC"
   },
   "source": [
    "- 해외 주식만 투자하는 고객군"
   ]
  },
  {
   "cell_type": "code",
   "execution_count": null,
   "metadata": {
    "colab": {
     "base_uri": "https://localhost:8080/",
     "height": 611
    },
    "executionInfo": {
     "elapsed": 3016,
     "status": "ok",
     "timestamp": 1663313296850,
     "user": {
      "displayName": "최재혁",
      "userId": "03991607876633756912"
     },
     "user_tz": -540
    },
    "id": "wa7OGcqHgMsJ",
    "outputId": "d22e8594-79c4-4bc7-cef3-5d8fb57408db"
   },
   "outputs": [
    {
     "data": {
      "image/png": "[encoded data removed]",
      "text/plain": [
       "<Figure size 3600x720 with 16 Axes>"
      ]
     },
     "metadata": {},
     "output_type": "display_data"
    }
   ],
   "source": [
    "name_list = ['성별', '주거래업종구분코드' ,'자산기준주식거래유형코드', '고객등급코드', '연령대', '충성도세그먼트코드', 'LIFESTAGE세그먼트코드', '해외 주식 거래횟수']\n",
    "group_plot(set_os, 2, name_list)"
   ]
  },
  {
   "cell_type": "code",
   "execution_count": null,
   "metadata": {
    "colab": {
     "base_uri": "https://localhost:8080/",
     "height": 354
    },
    "executionInfo": {
     "elapsed": 462,
     "status": "ok",
     "timestamp": 1663306915160,
     "user": {
      "displayName": "최재혁",
      "userId": "03991607876633756912"
     },
     "user_tz": -540
    },
    "id": "K9Kn1rdYoff4",
    "outputId": "fea9b1e7-9b89-408b-f84a-dc74746d3c67"
   },
   "outputs": [
    {
     "data": {
      "image/png": "[encoded data removed]",
      "text/plain": [
       "<Figure size 1440x360 with 2 Axes>"
      ]
     },
     "metadata": {},
     "output_type": "display_data"
    }
   ],
   "source": [
    "name_list = ['변동률', '해외 주식 거래횟수']\n",
    "group_plot2(set_os, '해외 주식 고객군',  name_list)"
   ]
  },
  {
   "cell_type": "markdown",
   "metadata": {
    "id": "cPX4BHDb_0_Q"
   },
   "source": [
    "- 해외 주식만을 사용하는 고객군 내에서 총 2개의 군집으로 나눌 수 있습니다.\n",
    "\n",
    "&nbsp;\n",
    "\n",
    "- 0번 군집\n",
    "  - 30~35 사이의 가족 형성기가 가장 많이 차지하고 있음\n",
    "  - 자산 기준 거래유형은 MASS (500 만원 이상)\n",
    "  - 대부분 비매매를 하며 자산의 변동이 큰 군집입니다.\n",
    "  - 주식 거래 횟수 평균이 제일 큼\n",
    "\n",
    "- 1번 군집\n",
    "  - 25 미만, 30~ 35 사이의 사회 초년생이 많이 차지하고\n",
    "  - 자산 기준 거래유형은 General (500 만원 미만)\n",
    "  - 대부분 비매매를 하며 자산의 변동이 큰 군집입니다.\n",
    "\n",
    "\n",
    "&nbsp;\n",
    "\n",
    "\n",
    "\n",
    "> 각 군집의 특성을 파악했을 때 `해외 주식 거래량 대비 변동률이 적은 고객군`, `해외 주식 거래량 대비 변동률이 큰 고객군`으로 분류할 수 있습니다.\n",
    "\n",
    "> 실제 상품을 추천한다면 해외 주식 상품 중에서 돈의 부담이 크지 않고 위험이 적은 상품은 0번 군집에 추천하고 큰 위험이 있지만 손익이 큰 상품에 대해서는 1번 군집 에게 마케팅을 수행하면 좋을 거 같습니다. \n",
    "\n"
   ]
  },
  {
   "cell_type": "markdown",
   "metadata": {
    "id": "7xiZxnh7kIk_"
   },
   "source": [
    "&nbsp;"
   ]
  },
  {
   "cell_type": "markdown",
   "metadata": {
    "id": "t6KEYS1-kKJz"
   },
   "source": [
    "- 둘다 투자하는 고객군"
   ]
  },
  {
   "cell_type": "code",
   "execution_count": null,
   "metadata": {
    "colab": {
     "base_uri": "https://localhost:8080/",
     "height": 611
    },
    "executionInfo": {
     "elapsed": 2915,
     "status": "ok",
     "timestamp": 1663313308704,
     "user": {
      "displayName": "최재혁",
      "userId": "03991607876633756912"
     },
     "user_tz": -540
    },
    "id": "YpVL6X4VkM2y",
    "outputId": "3cf31bde-1b6d-448a-a9f6-fa4b39c35ee7"
   },
   "outputs": [
    {
     "data": {
      "image/png": "[encoded data removed]",
      "text/plain": [
       "<Figure size 3600x720 with 18 Axes>"
      ]
     },
     "metadata": {},
     "output_type": "display_data"
    }
   ],
   "source": [
    "name_list = ['성별', '주거래시장구분코드','자산기준주식거래유형코드', '고객등급코드', '연령대', '충성도세그먼트코드', 'LIFESTAGE세그먼트코드', '주거래업종구분코드', '총거래 횟수']\n",
    "group_plot(set_ko_os, 2, name_list)"
   ]
  },
  {
   "cell_type": "code",
   "execution_count": null,
   "metadata": {
    "colab": {
     "base_uri": "https://localhost:8080/",
     "height": 354
    },
    "executionInfo": {
     "elapsed": 598,
     "status": "ok",
     "timestamp": 1663306936017,
     "user": {
      "displayName": "최재혁",
      "userId": "03991607876633756912"
     },
     "user_tz": -540
    },
    "id": "djyrJ-15opK_",
    "outputId": "6dd7abbd-6fd2-4076-c82f-a83a280a666f"
   },
   "outputs": [
    {
     "data": {
      "image/png": "[encoded data removed]",
      "text/plain": [
       "<Figure size 1440x360 with 2 Axes>"
      ]
     },
     "metadata": {},
     "output_type": "display_data"
    }
   ],
   "source": [
    "name_list = ['변동률', '총거래 횟수']\n",
    "group_plot2(set_ko_os, '국내 + 해외 주식 고객군',  name_list)"
   ]
  },
  {
   "cell_type": "markdown",
   "metadata": {
    "id": "a9I2fbu7LX86"
   },
   "source": [
    "- 국내 + 해외 주식을 사용하는 고객군 내에서 총 2개의 군집으로 나눌 수 있습니다.\n",
    "\n",
    "&nbsp;\n",
    "\n",
    "- 0번 군집\n",
    "  - 50~55 사이의 가족 성숙기 직장인이 가장 많이 차지하고 있음\n",
    "  - 자산 기준 거래유형은 Mass-Affluent(3천만원 이상)로 충분한 자본을 가지고 투자\n",
    "  - 대부분 거래소를 통해 거래하며 주식 거래 횟수 평균이 큰 군집입니다.\n",
    "\n",
    "- 1번 군집\n",
    "  - 25~30 사이의 사회 초년생이 많이 차지하고\n",
    "  - 자산 기준 거래유형은 MASS(500만원 이상)\n",
    "  - 주식 거래 횟수 평균 대비 변동률이 큰 군집입니다.\n",
    "\n",
    "\n",
    "\n",
    "&nbsp;\n",
    "\n",
    "\n",
    "> 각 군집의 특성을 파악했을 때 `충분한 자본을 통한 안정적 투자를 하는 고객군`, `공격적인 투자를 하는 고객군`으로 분류할 수 있습니다.\n",
    "\n",
    "> 실제 상품을 추천한다면 손익보다 위험이 적은 상품은 0번 군집에 추천하고 위험이 있지만 손익이 큰 상품에 대해서는 1번 군집 에게 추천하면 좋을 거 같습니다. \n"
   ]
  },
  {
   "cell_type": "markdown",
   "metadata": {
    "id": "5HVJWs56MIFZ"
   },
   "source": [
    "&nbsp;"
   ]
  },
  {
   "cell_type": "markdown",
   "metadata": {
    "id": "rBADlyPZMJur"
   },
   "source": [
    "## **최종 정리**"
   ]
  },
  {
   "cell_type": "markdown",
   "metadata": {
    "id": "gokx7q0jML-_"
   },
   "source": [
    "- **고객의 주식투자 유형을 통해 국내주식만 거래하는 고객, 해외 주식만 거래하는 고객, 둘다 거래하는 고객으로 분류했을때**\n",
    "\n",
    "  &nbsp;\n",
    "\n",
    "  - 해외 주식은 25 ~ 29 사이의`사회초년생`, `가족형성기_남자`에 해당하는 고객에게 추천\n",
    "  - 국내 주식 관련에는 40 ~ 44 사이의 `가족성숙기`에 해당하는 고객에게 추천\n",
    "\n",
    "&nbsp;\n",
    "\n",
    "--------------------------\n",
    "\n",
    "&nbsp;\n",
    "\n",
    "- **고객군안에 군집을 통해 세부 분류했을때**\n",
    "  \n",
    "  &nbsp;\n",
    "\n",
    "  - 국내 주식만 거래하는 고객\n",
    "    - `국내 주식만을 거래하지만 주식을 이제 시작한 군집` : 돈의 부담이 크지않고 위험이 적은 상품 추천\n",
    "    - `국내 주식에 투자대비 변동률이 큰 고객군` : risk가 크지만 수익이 큰 상품 추천\n",
    "    - `국내 주식의 거래를 많이 하지만 전체적인 변동률은 적은 고객군` : risk가 크지않고 적은 수익을 얻을수 있는 상품\n",
    "  \n",
    "  &nbsp;\n",
    "\n",
    "  - 해외 주식만 거래하는 고객\n",
    "    - `해외 주식 거래량 대비 변동률이 적은 고객군` : 돈의 부담이 크지않고 위험이 적은 상품 추천\n",
    "    - `해외 주식 거래량 대비 변동률이 큰 고객군` : 위험이 있지만 손익이 큰 상품 추천\n",
    "  \n",
    "  &nbsp;\n",
    "\n",
    "  - 국내 + 해외 주식을 거래하는 고객\n",
    "    - `충분한 자본을 통한 안정적 투자를 하는 고객군` : 손익보다 위험이 적은 상품 추천\n",
    "    - `공격적인 투자를 하는 고객군` : 위험보다 손익이 큰 상품 추천\n",
    "  "
   ]
  },
  {
   "cell_type": "markdown",
   "metadata": {
    "id": "aedLlowMuQ1h"
   },
   "source": [
    "- 저장"
   ]
  },
  {
   "cell_type": "code",
   "execution_count": null,
   "metadata": {
    "id": "By_OtootuQSi"
   },
   "outputs": [],
   "source": [
    "set_ko.to_csv('./국내주식고객군.csv', encoding=\"utf-8\")\n",
    "set_os.to_csv('./해외주식고객군.csv', encoding=\"utf-8\")\n",
    "set_ko_os.to_csv('./국내_해외_주식고객군.csv', encoding=\"utf-8\")"
   ]
  }
 ],
 "metadata": {
  "colab": {
   "collapsed_sections": [],
   "machine_shape": "hm",
   "provenance": [
    {
     "file_id": "1PtcWvG97cXZy_9pWXPMZ-WmBdb1kOKym",
     "timestamp": 1664168883926
    }
   ],
   "toc_visible": true
  },
  "kernelspec": {
   "display_name": "Python 3",
   "language": "python",
   "name": "python3"
  },
  "language_info": {
   "codemirror_mode": {
    "name": "ipython",
    "version": 3
   },
   "file_extension": ".py",
   "mimetype": "text/x-python",
   "name": "python",
   "nbconvert_exporter": "python",
   "pygments_lexer": "ipython3",
   "version": "3.8.3"
  },
  "toc": {
   "base_numbering": 1,
   "nav_menu": {},
   "number_sections": true,
   "sideBar": true,
   "skip_h1_title": false,
   "title_cell": "Table of Contents",
   "title_sidebar": "Contents",
   "toc_cell": false,
   "toc_position": {},
   "toc_section_display": true,
   "toc_window_display": false
  },
  "varInspector": {
   "cols": {
    "lenName": 16,
    "lenType": 16,
    "lenVar": 40
   },
   "kernels_config": {
    "python": {
     "delete_cmd_postfix": "",
     "delete_cmd_prefix": "del ",
     "library": "var_list.py",
     "varRefreshCmd": "print(var_dic_list())"
    },
    "r": {
     "delete_cmd_postfix": ") ",
     "delete_cmd_prefix": "rm(",
     "library": "var_list.r",
     "varRefreshCmd": "cat(var_dic_list()) "
    }
   },
   "types_to_exclude": [
    "module",
    "function",
    "builtin_function_or_method",
    "instance",
    "_Feature"
   ],
   "window_display": false
  }
 },
 "nbformat": 4,
 "nbformat_minor": 1
}
